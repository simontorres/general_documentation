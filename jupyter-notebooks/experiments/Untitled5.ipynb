{
 "cells": [
  {
   "cell_type": "code",
   "execution_count": 29,
   "metadata": {
    "ExecuteTime": {
     "end_time": "2021-03-20T01:39:57.174322Z",
     "start_time": "2021-03-20T01:39:57.163873Z"
    }
   },
   "outputs": [
    {
     "name": "stdout",
     "output_type": "stream",
     "text": [
      "2018-01-01 00:00:00 2021-03-19 22:39:57.169809\n",
      "4\n",
      "-3\n",
      "-2\n",
      "-1\n",
      "0\n",
      "1\n"
     ]
    }
   ],
   "source": [
    "import datetime\n",
    "import math\n",
    "# from django.db import models\n",
    "# from django.conf import settings\n",
    "# from django.contrib.auth.models import User\n",
    "# from django.utils import timezone\n",
    "\n",
    "# settings.configure()\n",
    "\n",
    "# def get_semester_choices():\n",
    "#     first_year = '2018'\n",
    "#     semester_choices = []\n",
    "#     now = timezone.now()\n",
    "#     next_year = timezone.now() + timedelta(days=365)\n",
    "#     last_year = timezone.now() - timedelta(days=365)\n",
    "#     semester_choices.append(\n",
    "#         ('{}B'.format(last_year.year), '{}B'.format(last_year.year)))\n",
    "#     semester_choices.append(('{}A'.format(now.year), '{}A'.format(now.year)))\n",
    "#     semester_choices.append(\n",
    "#         ('{}B'.format(now.year), '{}B'.format(now.year)))\n",
    "#     semester_choices.append(('{}A'.format(next_year.year), '{}A'.format(next_year.year)))\n",
    "#     if now.month == 1:\n",
    "#         default = '{}B'.format(now.year)\n",
    "#     elif 1 < now.month < 8:\n",
    "#         default = '{}A'.format(now.year)\n",
    "#     else:\n",
    "#         default = '{}B'.format(now.year)\n",
    "\n",
    "#     return semester_choices, default\n",
    "\n",
    "# s, d = get_semester_choices()\n",
    "# print(s)\n",
    "# print(d)\n",
    "\n",
    "first = datetime.datetime(2018, 1, 1)\n",
    "_now = datetime.datetime.now()\n",
    "d = _now - first\n",
    "diff = math.ceil(d.days /  365)\n",
    "\n",
    "print(first, _now)\n",
    "\n",
    "print(diff)\n",
    "\n",
    "choices = []\n",
    "for y in range(1, diff+ 2):\n",
    "    print(y - diff)"
   ]
  },
  {
   "cell_type": "code",
   "execution_count": null,
   "metadata": {
    "ExecuteTime": {
     "end_time": "2021-03-19T23:24:19.558748Z",
     "start_time": "2021-03-19T23:24:19.391Z"
    }
   },
   "outputs": [],
   "source": [
    "!pip install django\n"
   ]
  },
  {
   "cell_type": "code",
   "execution_count": null,
   "metadata": {},
   "outputs": [],
   "source": []
  }
 ],
 "metadata": {
  "kernelspec": {
   "display_name": "Python 3",
   "language": "python",
   "name": "python3"
  },
  "language_info": {
   "codemirror_mode": {
    "name": "ipython",
    "version": 3
   },
   "file_extension": ".py",
   "mimetype": "text/x-python",
   "name": "python",
   "nbconvert_exporter": "python",
   "pygments_lexer": "ipython3",
   "version": "3.7.4"
  },
  "toc": {
   "base_numbering": 1,
   "nav_menu": {},
   "number_sections": true,
   "sideBar": true,
   "skip_h1_title": false,
   "title_cell": "Table of Contents",
   "title_sidebar": "Contents",
   "toc_cell": false,
   "toc_position": {},
   "toc_section_display": true,
   "toc_window_display": false
  }
 },
 "nbformat": 4,
 "nbformat_minor": 4
}
