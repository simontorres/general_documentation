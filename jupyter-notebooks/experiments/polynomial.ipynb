{
 "cells": [
  {
   "cell_type": "code",
   "execution_count": 1,
   "metadata": {
    "ExecuteTime": {
     "end_time": "2019-06-20T03:14:14.882516Z",
     "start_time": "2019-06-20T03:14:14.067163Z"
    },
    "collapsed": true
   },
   "outputs": [],
   "source": [
    "from astropy.modeling import models\n",
    "import matplotlib.pyplot as plt\n",
    "import numpy as np"
   ]
  },
  {
   "cell_type": "code",
   "execution_count": 19,
   "metadata": {
    "ExecuteTime": {
     "end_time": "2019-06-20T03:22:13.442844Z",
     "start_time": "2019-06-20T03:22:13.280310Z"
    }
   },
   "outputs": [
    {
     "data": {
      "image/png": "[encoded data removed]",
      "text/plain": [
       "<matplotlib.figure.Figure at 0x7fd56d1c52e8>"
      ]
     },
     "metadata": {},
     "output_type": "display_data"
    },
    {
     "name": "stdout",
     "output_type": "stream",
     "text": [
      "Model: Polynomial1D\n",
      "Inputs: ('x',)\n",
      "Outputs: ('y',)\n",
      "Model set size: 1\n",
      "Degree: 2\n",
      "Parameters:\n",
      "     c0   c1    c2 \n",
      "    --- ----- -----\n",
      "    0.0 1e-06 1e-06\n"
     ]
    }
   ],
   "source": [
    "poly = models.Polynomial1D(degree=2)\n",
    "poly.c0.vale = 5\n",
    "poly.c1.value = 1e-6\n",
    "poly.c2.value = 1e-6\n",
    "x = np.linspace(-2000, 2000, 21)\n",
    "plt.plot(x, poly(x))\n",
    "plt.show()\n",
    "print(poly)"
   ]
  },
  {
   "cell_type": "code",
   "execution_count": 21,
   "metadata": {
    "ExecuteTime": {
     "end_time": "2019-06-20T20:36:44.785760Z",
     "start_time": "2019-06-20T20:36:44.780049Z"
    }
   },
   "outputs": [
    {
     "name": "stdout",
     "output_type": "stream",
     "text": [
      "['__abstractmethods__', '__add__', '__and__', '__call__', '__class__', '__delattr__', '__dict__', '__dir__', '__doc__', '__eq__', '__format__', '__ge__', '__getattr__', '__getattribute__', '__gt__', '__hash__', '__init__', '__le__', '__len__', '__lt__', '__module__', '__mul__', '__ne__', '__new__', '__or__', '__pow__', '__reduce__', '__reduce_ex__', '__repr__', '__setattr__', '__sizeof__', '__str__', '__sub__', '__subclasshook__', '__truediv__', '__weakref__', '_abc_cache', '_abc_negative_cache', '_abc_negative_cache_version', '_abc_registry', '_bounding_box', '_check_param_broadcast', '_constraints', '_degree', '_format_repr', '_format_str', '_from_existing', '_generate_coeff_names', '_has_units', '_initialize_constraints', '_initialize_parameter_values', '_initialize_parameters', '_initialize_unit_support', '_input_units_allow_dimensionless', '_input_units_strict', '_inverse', '_invlex', '_is_dynamic', '_model_set_axis', '_n_models', '_name', '_order', '_param_metrics', '_param_names', '_param_sets', '_parameter_units_for_data_units', '_parameters', '_process_output_units', '_separable', '_supports_unit_fitting', '_user_bounding_box', '_user_inverse', '_validate_input_units', 'bounding_box', 'bounds', 'col_fit_deriv', 'copy', 'deepcopy', 'degree', 'domain', 'eqcons', 'evaluate', 'fit_deriv', 'fittable', 'fixed', 'get_num_coeff', 'has_user_bounding_box', 'has_user_inverse', 'horner', 'ineqcons', 'input_units', 'input_units_allow_dimensionless', 'input_units_equivalencies', 'input_units_strict', 'inputs', 'inverse', 'linear', 'meta', 'model_constraints', 'model_set_axis', 'n_inputs', 'n_outputs', 'n_submodels', 'name', 'outputs', 'param_names', 'param_sets', 'parameter_constraints', 'parameters', 'prepare_inputs', 'prepare_outputs', 'rename', 'render', 'return_units', 'separable', 'standard_broadcasting', 'sum_of_implicit_terms', 'tied', 'uses_quantity', 'window', 'with_units_from_data', 'without_units_for_data']\n",
      "('c0', 'c1', 'c2')\n"
     ]
    }
   ],
   "source": [
    "print(dir(poly))\n",
    "print(poly.param_names)"
   ]
  },
  {
   "cell_type": "code",
   "execution_count": null,
   "metadata": {
    "collapsed": true
   },
   "outputs": [],
   "source": []
  }
 ],
 "metadata": {
  "kernelspec": {
   "display_name": "Python 3",
   "language": "python",
   "name": "python3"
  },
  "language_info": {
   "codemirror_mode": {
    "name": "ipython",
    "version": 3
   },
   "file_extension": ".py",
   "mimetype": "text/x-python",
   "name": "python",
   "nbconvert_exporter": "python",
   "pygments_lexer": "ipython3",
   "version": "3.5.4"
  }
 },
 "nbformat": 4,
 "nbformat_minor": 2
}
