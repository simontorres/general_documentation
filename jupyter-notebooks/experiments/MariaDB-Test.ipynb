{
 "cells": [
  {
   "cell_type": "code",
   "execution_count": 12,
   "id": "20320297",
   "metadata": {},
   "outputs": [],
   "source": [
    "import sys\n",
    "import mariadb"
   ]
  },
  {
   "cell_type": "code",
   "execution_count": 13,
   "id": "b7104e3b",
   "metadata": {},
   "outputs": [],
   "source": [
    "mariadb.connect?\n"
   ]
  },
  {
   "cell_type": "code",
   "execution_count": 15,
   "id": "79d8f125",
   "metadata": {},
   "outputs": [
    {
     "name": "stdout",
     "output_type": "stream",
     "text": [
      "Connection error: Can't connect to MySQL server on '139.229.15.76' (110)\n"
     ]
    }
   ],
   "source": [
    "try:\n",
    "    conn = mariadb.connect(\n",
    "        user='slogger', \n",
    "        password='slogger_sql', \n",
    "        host='139.229.15.76', \n",
    "        port=3306, \n",
    "        database='PachonSM',\n",
    "        connect_timeout=10)\n",
    "except mariadb.Error as e:\n",
    "    print(f\"Connection error: {e}\")\n",
    "    \n",
    "    \n",
    "cursor = conn.cursor()"
   ]
  },
  {
   "cell_type": "code",
   "execution_count": 5,
   "id": "f76bcb98",
   "metadata": {},
   "outputs": [],
   "source": [
    "cursor.execute(\"SELECT time, fwhm FROM `DIMM` WHERE time between '2021-09-14 01:00:00' AND '2021-09-14 02:00:00' ORDER BY `time` DESC\")\n"
   ]
  },
  {
   "cell_type": "code",
   "execution_count": 7,
   "id": "c242028c",
   "metadata": {},
   "outputs": [
    {
     "name": "stdout",
     "output_type": "stream",
     "text": [
      "2021-09-14 01:59:34 1.257\n",
      "2021-09-14 01:58:31 1.204\n",
      "2021-09-14 01:57:28 1.115\n",
      "2021-09-14 01:56:25 1.139\n",
      "2021-09-14 01:55:22 1.155\n",
      "2021-09-14 01:54:18 1.154\n",
      "2021-09-14 01:53:15 1.303\n",
      "2021-09-14 01:52:12 1.334\n",
      "2021-09-14 01:51:09 1.443\n",
      "2021-09-14 01:50:06 1.226\n",
      "2021-09-14 01:49:03 1.283\n",
      "2021-09-14 01:48:00 1.287\n",
      "2021-09-14 01:46:57 1.231\n",
      "2021-09-14 01:45:53 1.235\n",
      "2021-09-14 01:44:50 1.324\n",
      "2021-09-14 01:43:47 1.302\n",
      "2021-09-14 01:42:44 1.316\n",
      "2021-09-14 01:40:12 1.071\n",
      "2021-09-14 01:39:09 1.156\n",
      "2021-09-14 01:38:06 1.072\n",
      "2021-09-14 01:37:03 1.162\n",
      "2021-09-14 01:36:00 1.128\n",
      "2021-09-14 01:34:57 1.091\n",
      "2021-09-14 01:33:53 1.136\n",
      "2021-09-14 01:32:50 1.177\n",
      "2021-09-14 01:31:47 1.168\n",
      "2021-09-14 01:30:44 1.315\n",
      "2021-09-14 01:29:41 1.224\n",
      "2021-09-14 01:28:38 1.112\n",
      "2021-09-14 01:27:35 1.105\n",
      "2021-09-14 01:26:32 1.242\n",
      "2021-09-14 01:25:28 1.178\n",
      "2021-09-14 01:24:25 1.153\n",
      "2021-09-14 01:23:22 1.066\n",
      "2021-09-14 01:22:19 1.065\n",
      "2021-09-14 01:21:16 1.234\n",
      "2021-09-14 01:20:13 1.231\n",
      "2021-09-14 01:19:10 1.182\n",
      "2021-09-14 01:18:07 1.159\n",
      "2021-09-14 01:17:03 1.148\n",
      "2021-09-14 01:16:00 1.207\n",
      "2021-09-14 01:14:57 1.135\n",
      "2021-09-14 01:13:54 1.162\n",
      "2021-09-14 01:12:51 1.24\n",
      "2021-09-14 01:11:48 1.204\n",
      "2021-09-14 01:10:45 1.099\n",
      "2021-09-14 01:09:42 0.989\n",
      "2021-09-14 01:08:39 1.051\n",
      "2021-09-14 01:07:35 0.985\n",
      "2021-09-14 01:06:32 1.059\n",
      "2021-09-14 01:05:23 1.055\n",
      "2021-09-14 01:04:20 1.041\n",
      "2021-09-14 01:03:17 1.005\n",
      "2021-09-14 01:02:13 1.091\n",
      "2021-09-14 01:01:10 1.119\n",
      "2021-09-14 01:00:07 1.098\n"
     ]
    }
   ],
   "source": [
    "for time, fwhm in cursor:\n",
    "    print(time,fwhm)"
   ]
  },
  {
   "cell_type": "code",
   "execution_count": 20,
   "id": "d4511039",
   "metadata": {},
   "outputs": [],
   "source": [
    "import datetime\n",
    "import pytz"
   ]
  },
  {
   "cell_type": "code",
   "execution_count": 21,
   "id": "9f8836b8",
   "metadata": {},
   "outputs": [
    {
     "name": "stdout",
     "output_type": "stream",
     "text": [
      "2021-09-14 00:00:00 2021-09-14 23:59:59\n"
     ]
    }
   ],
   "source": [
    "date_str = '2021-09-14'\n",
    "_date = datetime.datetime.strptime(date_str, \"%Y-%m-%d\")\n",
    "later = _date + datetime.timedelta(hours=23, minutes=59, seconds=59)\n",
    "\n",
    "print(_date, later)\n"
   ]
  },
  {
   "cell_type": "code",
   "execution_count": 22,
   "id": "945ead53",
   "metadata": {},
   "outputs": [
    {
     "data": {
      "text/plain": [
       "datetime.datetime(2021, 9, 23, 14, 29, 15, 811178)"
      ]
     },
     "execution_count": 22,
     "metadata": {},
     "output_type": "execute_result"
    }
   ],
   "source": [
    "now = datetime.datetime.now()\n",
    "now\n"
   ]
  },
  {
   "cell_type": "code",
   "execution_count": 23,
   "id": "c197ff7f",
   "metadata": {},
   "outputs": [
    {
     "name": "stdout",
     "output_type": "stream",
     "text": [
      "['__add__', '__class__', '__delattr__', '__dir__', '__doc__', '__eq__', '__format__', '__ge__', '__getattribute__', '__gt__', '__hash__', '__init__', '__init_subclass__', '__le__', '__lt__', '__ne__', '__new__', '__radd__', '__reduce__', '__reduce_ex__', '__repr__', '__rsub__', '__setattr__', '__sizeof__', '__str__', '__sub__', '__subclasshook__', 'astimezone', 'combine', 'ctime', 'date', 'day', 'dst', 'fold', 'fromisocalendar', 'fromisoformat', 'fromordinal', 'fromtimestamp', 'hour', 'isocalendar', 'isoformat', 'isoweekday', 'max', 'microsecond', 'min', 'minute', 'month', 'now', 'replace', 'resolution', 'second', 'strftime', 'strptime', 'time', 'timestamp', 'timetuple', 'timetz', 'today', 'toordinal', 'tzinfo', 'tzname', 'utcfromtimestamp', 'utcnow', 'utcoffset', 'utctimetuple', 'weekday', 'year']\n"
     ]
    }
   ],
   "source": [
    "print(dir(now))"
   ]
  },
  {
   "cell_type": "code",
   "execution_count": 28,
   "id": "3a584129",
   "metadata": {},
   "outputs": [
    {
     "name": "stdout",
     "output_type": "stream",
     "text": [
      "['AmbiguousTimeError', 'BaseTzInfo', 'FixedOffset', 'HOUR', 'InvalidTimeError', 'LazyDict', 'LazyList', 'LazySet', 'NonExistentTimeError', 'OLSEN_VERSION', 'OLSON_VERSION', 'UTC', 'UnknownTimeZoneError', 'VERSION', 'ZERO', '_CountryNameDict', '_CountryTimezoneDict', '_FixedOffset', '_UTC', '__all__', '__builtins__', '__cached__', '__doc__', '__file__', '__loader__', '__name__', '__package__', '__path__', '__spec__', '__version__', '_all_timezones_lower_to_standard', '_case_insensitive_zone_lookup', '_p', '_test', '_tzinfo_cache', '_unmunge_zone', 'all_timezones', 'all_timezones_set', 'ascii', 'build_tzinfo', 'common_timezones', 'common_timezones_set', 'country_names', 'country_timezones', 'datetime', 'exceptions', 'lazy', 'open_resource', 'os', 'resource_exists', 'sys', 'timezone', 'tzfile', 'tzinfo', 'unicode', 'unpickler', 'utc']\n"
     ]
    }
   ],
   "source": [
    "print(dir(pytz))"
   ]
  },
  {
   "cell_type": "code",
   "execution_count": 24,
   "id": "b45a4f88",
   "metadata": {},
   "outputs": [],
   "source": [
    "end_time = datetime.datetime?"
   ]
  },
  {
   "cell_type": "code",
   "execution_count": null,
   "id": "883daefc",
   "metadata": {},
   "outputs": [],
   "source": [
    "end_time = datetime.datetime"
   ]
  },
  {
   "cell_type": "code",
   "execution_count": 25,
   "id": "3e5e6563",
   "metadata": {},
   "outputs": [],
   "source": [
    "end_time = datetime.datetime(year=now.year, month=now.month, day=now.day, hour=11, tzinfo=pytz.UTC)"
   ]
  },
  {
   "cell_type": "code",
   "execution_count": 29,
   "id": "815566b3",
   "metadata": {},
   "outputs": [
    {
     "data": {
      "text/plain": [
       "datetime.datetime(2021, 9, 23, 8, 0, tzinfo=<DstTzInfo 'America/Santiago' -03-1 day, 21:00:00 DST>)"
      ]
     },
     "execution_count": 29,
     "metadata": {},
     "output_type": "execute_result"
    }
   ],
   "source": [
    "end_time.astimezone(pytz.timezone('America/Santiago'))\n"
   ]
  },
  {
   "cell_type": "code",
   "execution_count": 30,
   "id": "21b0c96e",
   "metadata": {},
   "outputs": [
    {
     "data": {
      "text/plain": [
       "datetime.datetime(2021, 9, 23, 14, 34, 44, 445)"
      ]
     },
     "execution_count": 30,
     "metadata": {},
     "output_type": "execute_result"
    }
   ],
   "source": [
    "datetime.datetime.utcnow()"
   ]
  },
  {
   "cell_type": "code",
   "execution_count": null,
   "id": "b0fe0c7f",
   "metadata": {},
   "outputs": [],
   "source": []
  }
 ],
 "metadata": {
  "kernelspec": {
   "display_name": "Python 3 (ipykernel)",
   "language": "python",
   "name": "python3"
  },
  "language_info": {
   "codemirror_mode": {
    "name": "ipython",
    "version": 3
   },
   "file_extension": ".py",
   "mimetype": "text/x-python",
   "name": "python",
   "nbconvert_exporter": "python",
   "pygments_lexer": "ipython3",
   "version": "3.8.10"
  }
 },
 "nbformat": 4,
 "nbformat_minor": 5
}
