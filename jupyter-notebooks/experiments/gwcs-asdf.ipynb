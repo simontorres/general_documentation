{
 "cells": [
  {
   "cell_type": "code",
   "execution_count": 2,
   "metadata": {
    "ExecuteTime": {
     "end_time": "2019-08-01T23:07:54.305340Z",
     "start_time": "2019-08-01T23:07:48.555499Z"
    }
   },
   "outputs": [
    {
     "name": "stdout",
     "output_type": "stream",
     "text": [
      "Requirement already satisfied: asdf in /data/simon/bin/anaconda3/envs/astroconda/lib/python3.5/site-packages (1.3.1)\n",
      "Requirement already satisfied: semantic_version>=2.3.1 in /data/simon/bin/anaconda3/envs/astroconda/lib/python3.5/site-packages (from asdf) (2.6.0)\n",
      "Requirement already satisfied: pyyaml>=3.10 in /data/simon/bin/anaconda3/envs/astroconda/lib/python3.5/site-packages (from asdf) (3.12)\n",
      "Requirement already satisfied: jsonschema>=2.3.0 in /data/simon/bin/anaconda3/envs/astroconda/lib/python3.5/site-packages (from asdf) (2.6.0)\n",
      "Requirement already satisfied: six>=1.9.0 in /data/simon/bin/anaconda3/envs/astroconda/lib/python3.5/site-packages (from asdf) (1.11.0)\n",
      "Requirement already satisfied: pytest>=2.7.2 in /data/simon/bin/anaconda3/envs/astroconda/lib/python3.5/site-packages (from asdf) (3.2.1)\n",
      "Requirement already satisfied: numpy>=1.8 in /data/simon/bin/anaconda3/envs/astroconda/lib/python3.5/site-packages (from asdf) (1.13.3)\n",
      "Requirement already satisfied: astropy>=1.3 in /data/simon/bin/anaconda3/envs/astroconda/lib/python3.5/site-packages (from asdf) (3.1.2)\n",
      "Requirement already satisfied: py>=1.4.33 in /data/simon/bin/anaconda3/envs/astroconda/lib/python3.5/site-packages (from pytest>=2.7.2->asdf) (1.4.34)\n",
      "Requirement already satisfied: setuptools in /data/simon/.local/lib/python3.5/site-packages (from pytest>=2.7.2->asdf) (41.0.1)\n",
      "\u001b[33mWARNING: You are using pip version 19.1.1, however version 19.2.1 is available.\n",
      "You should consider upgrading via the 'pip install --upgrade pip' command.\u001b[0m\n"
     ]
    }
   ],
   "source": [
    "!pip install asdf"
   ]
  },
  {
   "cell_type": "code",
   "execution_count": 25,
   "metadata": {
    "ExecuteTime": {
     "end_time": "2019-08-01T23:47:48.880341Z",
     "start_time": "2019-08-01T23:47:48.866899Z"
    },
    "collapsed": true
   },
   "outputs": [],
   "source": [
    "import asdf\n",
    "from goodman_pipeline.wcs import WCS\n",
    "import os\n",
    "from ccdproc import CCDData\n",
    "import asdf\n",
    "import matplotlib\n",
    "%matplotlib inline\n",
    "import matplotlib.pyplot as plt"
   ]
  },
  {
   "cell_type": "code",
   "execution_count": 26,
   "metadata": {
    "ExecuteTime": {
     "end_time": "2019-08-01T23:47:50.668571Z",
     "start_time": "2019-08-01T23:47:50.597147Z"
    }
   },
   "outputs": [
    {
     "name": "stderr",
     "output_type": "stream",
     "text": [
      "[19:47:50][I]: using the unit adu passed to the FITS reader instead of the unit adu in the FITS file.\n"
     ]
    },
    {
     "name": "stdout",
     "output_type": "stream",
     "text": [
      "INFO: using the unit adu passed to the FITS reader instead of the unit adu in the FITS file. [astropy.nddata.ccddata]\n"
     ]
    }
   ],
   "source": [
    "path = \"/user/simon/development/soar/goodman_pipeline/goodman_pipeline/data/test_data/wcs_data\"\n",
    "_file = \"goodman_comp_400M1_HgArNe.fits\"\n",
    "\n",
    "full_path = os.path.join(path, _file)\n",
    "\n",
    "ccd = CCDData.read(full_path, unit='adu')\n",
    "\n",
    "wcs = WCS()\n",
    "\n",
    "wavelength, intensity = wcs.read_gsp_wcs(ccd=ccd)\n",
    "\n",
    "model = wcs.get_model()"
   ]
  },
  {
   "cell_type": "code",
   "execution_count": 27,
   "metadata": {
    "ExecuteTime": {
     "end_time": "2019-08-01T23:47:51.782642Z",
     "start_time": "2019-08-01T23:47:51.774904Z"
    },
    "scrolled": true
   },
   "outputs": [
    {
     "name": "stdout",
     "output_type": "stream",
     "text": [
      "Model: Chebyshev1D\n",
      "Inputs: ('x',)\n",
      "Outputs: ('y',)\n",
      "Model set size: 1\n",
      "Degree: 3\n",
      "Parameters:\n",
      "          c0            c1               c2                c3        \n",
      "    ------------- -------------- ----------------- ------------------\n",
      "    3015.83283069 0.992828562705 1.30494707125e-06 -1.87873916604e-10\n"
     ]
    }
   ],
   "source": [
    "print(model)"
   ]
  },
  {
   "cell_type": "code",
   "execution_count": 28,
   "metadata": {
    "ExecuteTime": {
     "end_time": "2019-08-01T23:47:52.972430Z",
     "start_time": "2019-08-01T23:47:52.959936Z"
    }
   },
   "outputs": [
    {
     "name": "stdout",
     "output_type": "stream",
     "text": [
      "Model: Polynomial1D\n",
      "Inputs: ('x',)\n",
      "Outputs: ('y',)\n",
      "Model set size: 1\n",
      "Degree: 3\n",
      "Parameters:\n",
      "          c0            c1               c2                c3        \n",
      "    ------------- -------------- ----------------- ------------------\n",
      "    3015.83283069 0.992828562705 1.30494707125e-06 -1.87873916604e-10\n"
     ]
    }
   ],
   "source": [
    "from astropy.modeling import models\n",
    "poly = models.Polynomial1D(degree=3)\n",
    "poly.c0.value = 3015.83283069\n",
    "poly.c1.value = 0.992828562705\n",
    "poly.c2.value = 1.30494707125e-06\n",
    "poly.c3.value = -1.87873916604e-10\n",
    "print(poly)"
   ]
  },
  {
   "cell_type": "code",
   "execution_count": 32,
   "metadata": {
    "ExecuteTime": {
     "end_time": "2019-08-01T23:48:26.396112Z",
     "start_time": "2019-08-01T23:48:26.208033Z"
    }
   },
   "outputs": [
    {
     "data": {
      "image/png": "[encoded data removed]",
      "text/plain": [
       "<matplotlib.figure.Figure at 0x7fa2ed9719e8>"
      ]
     },
     "metadata": {},
     "output_type": "display_data"
    }
   ],
   "source": [
    "fig, ax = plt.subplots(figsize=(16, 9))\n",
    "ax.plot(wavelength, intensity)\n",
    "ax.plot(poly(range(len(intensity))), intensity, color='r')\n",
    "plt.show()"
   ]
  },
  {
   "cell_type": "code",
   "execution_count": 33,
   "metadata": {
    "ExecuteTime": {
     "end_time": "2019-08-01T23:48:51.306577Z",
     "start_time": "2019-08-01T23:48:51.298107Z"
    }
   },
   "outputs": [
    {
     "data": {
      "text/plain": [
       "{}"
      ]
     },
     "execution_count": 33,
     "metadata": {},
     "output_type": "execute_result"
    }
   ],
   "source": [
    "from asdf import AsdfFile\n",
    "\n",
    "f = AsdfFile()\n",
    "\n",
    "f.tree"
   ]
  },
  {
   "cell_type": "code",
   "execution_count": 41,
   "metadata": {
    "ExecuteTime": {
     "end_time": "2019-08-01T23:51:01.209846Z",
     "start_time": "2019-08-01T23:51:01.204604Z"
    },
    "collapsed": true
   },
   "outputs": [],
   "source": [
    "f.tree['model'] = poly\n",
    "f.tree['wavelength'] = wavelength\n",
    "f.tree['flux'] = intensity"
   ]
  },
  {
   "cell_type": "code",
   "execution_count": 40,
   "metadata": {
    "ExecuteTime": {
     "end_time": "2019-08-01T23:50:45.723310Z",
     "start_time": "2019-08-01T23:50:45.670451Z"
    },
    "collapsed": true,
    "scrolled": false
   },
   "outputs": [],
   "source": [
    "f.write_to('testfile.asdf')"
   ]
  },
  {
   "cell_type": "code",
   "execution_count": null,
   "metadata": {
    "collapsed": true
   },
   "outputs": [],
   "source": []
  },
  {
   "cell_type": "code",
   "execution_count": 38,
   "metadata": {
    "ExecuteTime": {
     "end_time": "2019-08-01T23:50:09.543103Z",
     "start_time": "2019-08-01T23:50:09.525525Z"
    }
   },
   "outputs": [
    {
     "data": {
      "text/plain": [
       "array([ 3015.83283069,  3016.82566056,  3017.81849303, ...,  7052.67144504,\n",
       "        7053.66558417,  7054.65972134])"
      ]
     },
     "execution_count": 38,
     "metadata": {},
     "output_type": "execute_result"
    }
   ],
   "source": [
    "ff = asdf.open('testfile.asdf')\n",
    "ff.tree['model'](range(len(intensity)))"
   ]
  },
  {
   "cell_type": "code",
   "execution_count": null,
   "metadata": {
    "collapsed": true
   },
   "outputs": [],
   "source": []
  }
 ],
 "metadata": {
  "kernelspec": {
   "display_name": "Python 3",
   "language": "python",
   "name": "python3"
  },
  "language_info": {
   "codemirror_mode": {
    "name": "ipython",
    "version": 3
   },
   "file_extension": ".py",
   "mimetype": "text/x-python",
   "name": "python",
   "nbconvert_exporter": "python",
   "pygments_lexer": "ipython3",
   "version": "3.5.4"
  },
  "toc": {
   "base_numbering": 1,
   "nav_menu": {},
   "number_sections": true,
   "sideBar": true,
   "skip_h1_title": false,
   "title_cell": "Table of Contents",
   "title_sidebar": "Contents",
   "toc_cell": false,
   "toc_position": {},
   "toc_section_display": true,
   "toc_window_display": false
  }
 },
 "nbformat": 4,
 "nbformat_minor": 2
}
