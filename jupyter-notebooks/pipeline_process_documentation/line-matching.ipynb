{
 "cells": [
  {
   "cell_type": "markdown",
   "metadata": {},
   "source": [
    "# Introduction\n",
    "\n",
    "This notebook describes how the pipeline does the line match in order to construct the wavelength solution"
   ]
  },
  {
   "cell_type": "markdown",
   "metadata": {},
   "source": [
    "## Reference Lamp Library\n",
    "\n",
    "The pipeline relies on a set of pre-calibrated lamps in order to do the wavelength calibration automatically.\n",
    "The requirements for the reference lamps are the following\n",
    "\n",
    "- 1D spectrum\n",
    "- Must contain  a record of pixel and angstrom lines\n",
    "- Data must be untouched, i.e. not resampled\n",
    "- Wavelength Solution must be the Pipeline's custom method\n",
    "\n",
    "This last point is not optimal and should be changed anytime soon."
   ]
  }
 ],
 "metadata": {
  "kernelspec": {
   "display_name": "Python 3",
   "language": "python",
   "name": "python3"
  },
  "language_info": {
   "codemirror_mode": {
    "name": "ipython",
    "version": 3
   },
   "file_extension": ".py",
   "mimetype": "text/x-python",
   "name": "python",
   "nbconvert_exporter": "python",
   "pygments_lexer": "ipython3",
   "version": "3.6.3"
  }
 },
 "nbformat": 4,
 "nbformat_minor": 2
}
