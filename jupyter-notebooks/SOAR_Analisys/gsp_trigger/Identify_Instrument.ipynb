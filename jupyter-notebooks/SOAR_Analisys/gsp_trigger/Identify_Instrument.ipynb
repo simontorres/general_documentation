{
 "cells": [
  {
   "cell_type": "code",
   "execution_count": 2,
   "id": "2e1e7007",
   "metadata": {
    "ExecuteTime": {
     "end_time": "2022-04-06T19:33:58.560998Z",
     "start_time": "2022-04-06T19:33:57.614377Z"
    }
   },
   "outputs": [],
   "source": [
    "import os\n",
    "from astropy.io import fits"
   ]
  },
  {
   "cell_type": "code",
   "execution_count": 3,
   "id": "957250e5",
   "metadata": {
    "ExecuteTime": {
     "end_time": "2022-04-06T19:34:21.041688Z",
     "start_time": "2022-04-06T19:34:21.022426Z"
    }
   },
   "outputs": [
    {
     "data": {
      "text/plain": [
       "['SPEC_SO2022A-013_0311.fits', 'SPEC_ARC0001.fits']"
      ]
     },
     "execution_count": 3,
     "metadata": {},
     "output_type": "execute_result"
    }
   ],
   "source": [
    "os.listdir(os.path.join(os.getcwd(), 'data'))"
   ]
  },
  {
   "cell_type": "code",
   "execution_count": 36,
   "id": "c7177f0e",
   "metadata": {
    "ExecuteTime": {
     "end_time": "2022-04-08T16:23:15.510376Z",
     "start_time": "2022-04-08T16:23:15.501962Z"
    }
   },
   "outputs": [],
   "source": [
    "expected_goodman_keywords = ['INSTRUME', 'INSTCONF', 'FILTER', 'FILTER2', 'GRATING', 'WAVMODE']\n",
    "expected_tspec_keywords = ['FSAMPLE', 'COADDS', 'NAMPSXY', 'OBSERVAT', 'TELFOCUS', 'INSTRUM']\n",
    "\n",
    "\n",
    "def identify_instrument(full_path):\n",
    "    print(full_path)\n",
    "    header = fits.getheader(full_path)\n",
    "    if all([ key in header.keys() for key in expected_tspec_keywords ]):\n",
    "        return 'TRIPLESPEC'\n",
    "    elif all([ key in header.keys() for key in expected_goodman_keywords ]):\n",
    "        return 'GOODMAN'\n",
    "    else:\n",
    "        return 'OTHER'\n",
    "#     print(header['INSTRUM'])\n"
   ]
  },
  {
   "cell_type": "code",
   "execution_count": 38,
   "id": "89d1bf9b",
   "metadata": {
    "ExecuteTime": {
     "end_time": "2022-04-08T16:23:51.029636Z",
     "start_time": "2022-04-08T16:23:51.007929Z"
    },
    "scrolled": false
   },
   "outputs": [
    {
     "name": "stdout",
     "output_type": "stream",
     "text": [
      "/home/simon/jupyter/notebooks/SOAR_Analisys/gsp_trigger/data/sample.txt\n",
      "Empty or corrupt FITS file\n",
      "/home/simon/jupyter/notebooks/SOAR_Analisys/gsp_trigger/data/SPEC_SO2022A-013_0311.fits\n",
      "TRIPLESPEC\n",
      "/home/simon/jupyter/notebooks/SOAR_Analisys/gsp_trigger/data/0087_ZTF19aaxdiui.fits\n",
      "GOODMAN\n",
      "/home/simon/jupyter/notebooks/SOAR_Analisys/gsp_trigger/data/SPEC_ARC0001.fits\n",
      "OTHER\n"
     ]
    }
   ],
   "source": [
    "data_folder = os.path.join(os.getcwd(), 'data')\n",
    "for _file in os.listdir(data_folder):\n",
    "    try:\n",
    "        instrument = identify_instrument(os.path.join(data_folder, _file))\n",
    "        print(instrument)\n",
    "    except OSError  as error:\n",
    "        print(str(error))"
   ]
  },
  {
   "cell_type": "code",
   "execution_count": null,
   "id": "67d15213",
   "metadata": {},
   "outputs": [],
   "source": []
  },
  {
   "cell_type": "code",
   "execution_count": null,
   "id": "ed28a686",
   "metadata": {},
   "outputs": [],
   "source": []
  }
 ],
 "metadata": {
  "kernelspec": {
   "display_name": "Python 3 (ipykernel)",
   "language": "python",
   "name": "python3"
  },
  "language_info": {
   "codemirror_mode": {
    "name": "ipython",
    "version": 3
   },
   "file_extension": ".py",
   "mimetype": "text/x-python",
   "name": "python",
   "nbconvert_exporter": "python",
   "pygments_lexer": "ipython3",
   "version": "3.9.12"
  }
 },
 "nbformat": 4,
 "nbformat_minor": 5
}
