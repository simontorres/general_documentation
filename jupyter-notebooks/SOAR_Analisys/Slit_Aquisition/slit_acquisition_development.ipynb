{
 "cells": [
  {
   "cell_type": "code",
   "execution_count": 10,
   "metadata": {
    "ExecuteTime": {
     "end_time": "2020-11-25T16:14:23.549393Z",
     "start_time": "2020-11-25T16:14:23.426619Z"
    }
   },
   "outputs": [
    {
     "ename": "ModuleNotFoundError",
     "evalue": "No module named 'stsci'",
     "output_type": "error",
     "traceback": [
      "\u001b[0;31m---------------------------------------------------------------------------\u001b[0m",
      "\u001b[0;31mModuleNotFoundError\u001b[0m                       Traceback (most recent call last)",
      "\u001b[0;32m<ipython-input-10-0c0957b27c43>\u001b[0m in \u001b[0;36m<module>\u001b[0;34m\u001b[0m\n\u001b[1;32m     15\u001b[0m \u001b[0;32mfrom\u001b[0m \u001b[0mgoodman_pipeline\u001b[0m\u001b[0;34m.\u001b[0m\u001b[0mcore\u001b[0m \u001b[0;32mimport\u001b[0m \u001b[0mra_dec_to_deg\u001b[0m\u001b[0;34m\u001b[0m\u001b[0;34m\u001b[0m\u001b[0m\n\u001b[1;32m     16\u001b[0m \u001b[0;32mfrom\u001b[0m \u001b[0mastropy\u001b[0m\u001b[0;34m.\u001b[0m\u001b[0mwcs\u001b[0m\u001b[0;34m.\u001b[0m\u001b[0mutils\u001b[0m \u001b[0;32mimport\u001b[0m \u001b[0mfit_wcs_from_points\u001b[0m\u001b[0;34m\u001b[0m\u001b[0;34m\u001b[0m\u001b[0m\n\u001b[0;32m---> 17\u001b[0;31m \u001b[0;32mfrom\u001b[0m \u001b[0mstsci\u001b[0m\u001b[0;34m.\u001b[0m\u001b[0mstimage\u001b[0m \u001b[0;32mimport\u001b[0m \u001b[0mxyxymatch\u001b[0m\u001b[0;34m\u001b[0m\u001b[0;34m\u001b[0m\u001b[0m\n\u001b[0m\u001b[1;32m     18\u001b[0m \u001b[0;34m\u001b[0m\u001b[0m\n\u001b[1;32m     19\u001b[0m \u001b[0mplt\u001b[0m\u001b[0;34m.\u001b[0m\u001b[0mstyle\u001b[0m\u001b[0;34m.\u001b[0m\u001b[0muse\u001b[0m\u001b[0;34m(\u001b[0m\u001b[0;34m'dark_background'\u001b[0m\u001b[0;34m)\u001b[0m\u001b[0;34m\u001b[0m\u001b[0;34m\u001b[0m\u001b[0m\n",
      "\u001b[0;31mModuleNotFoundError\u001b[0m: No module named 'stsci'"
     ]
    }
   ],
   "source": [
    "import os\n",
    "from ccdproc import CCDData\n",
    "import matplotlib.pyplot as plt\n",
    "import numpy as np\n",
    "from astropy.modeling import models, fitting\n",
    "from astropy import units as u\n",
    "import astropy.units as u\n",
    "from astropy.coordinates import SkyCoord, Angle, match_coordinates_sky\n",
    "from astroquery.gaia import Gaia\n",
    "from astropy.stats import sigma_clipped_stats\n",
    "from photutils import DAOStarFinder\n",
    "from astropy.visualization import SqrtStretch\n",
    "from astropy.visualization.mpl_normalize import ImageNormalize\n",
    "from photutils import CircularAperture\n",
    "from goodman_pipeline.core import ra_dec_to_deg\n",
    "from astropy.wcs.utils import fit_wcs_from_points\n",
    "from stsci.stimage import xyxymatch\n",
    "\n",
    "plt.style.use('dark_background')\n",
    "\n",
    "for _file in sorted(os.listdir('./data/case_1')):\n",
    "    print(_file)"
   ]
  },
  {
   "cell_type": "code",
   "execution_count": null,
   "metadata": {
    "ExecuteTime": {
     "end_time": "2020-11-09T15:02:50.571411Z",
     "start_time": "2020-11-09T15:02:50.103596Z"
    }
   },
   "outputs": [],
   "source": [
    "def show_fits(ccd, z1=None, z2=None):\n",
    "    if z1 is None:\n",
    "        z1 = np.mean(ccd.data) - 0.5 * np.std(ccd.data)\n",
    "    else:\n",
    "        z2 = float(z2)\n",
    "    if z2 is None:\n",
    "        z2 = np.median(ccd.data) +  2 * np.std(ccd.data)\n",
    "    else:\n",
    "        z2 = float(z2)\n",
    "        \n",
    "    fig, ax = plt.subplots(figsize=(16,9))\n",
    "    ax.imshow(ccd.data, clim=(z1, z2))\n",
    "    \n",
    "mask_out_file = 'data/case_1/0347_SN2020uxz-23-10-2020_mask_out.fits'\n",
    "\n",
    "ccd = CCDData.read(mask_out_file, unit='adu')\n",
    "show_fits(ccd)\n"
   ]
  },
  {
   "cell_type": "code",
   "execution_count": null,
   "metadata": {
    "ExecuteTime": {
     "end_time": "2020-11-09T15:02:53.514914Z",
     "start_time": "2020-11-09T15:02:52.944231Z"
    }
   },
   "outputs": [],
   "source": [
    "\n",
    "pixel_scale = Angle(0.15, u.arcsec) # arcseconds\n",
    "x, y = ccd.data.shape\n",
    "x_median = np.median(ccd.data[int(x/2. - 0.2 * x): int(x/2. + 0.2 * x),:], axis=0)\n",
    "y_median = np.median(ccd.data[:, int(x/2. - 0.2 * x): int(x/2. + 0.2 * x)], axis=1)\n",
    "\n",
    "# fit a box model\n",
    "x_box_model = models.Box1D(amplitude=np.max(x_median), x_0=int(x/2.), width=int(x/2.))\n",
    "y_box_model = models.Box1D(amplitude=np.max(y_median), x_0=int(y/2.), width=int(y/2.))\n",
    "\n",
    "box_fitter = fitting.SimplexLSQFitter()\n",
    "\n",
    "x_box_fitted = box_fitter(x_box_model, range(x), x_median)\n",
    "y_box_fitted = box_fitter(y_box_model, range(y), y_median)\n",
    "\n",
    "fig, (ax1, ax2) = plt.subplots(2, 1 ,figsize=(20,15))\n",
    "ax1.set_title('X Axis')\n",
    "ax1.plot(x_median)\n",
    "ax1.plot(x_box_fitted(range(x)), color='r')\n",
    "ax2.set_title('Y Axis')\n",
    "ax2.plot(y_median)\n",
    "ax2.plot(y_box_fitted(range(y)), color='r')\n",
    "plt.show()"
   ]
  },
  {
   "cell_type": "code",
   "execution_count": null,
   "metadata": {
    "ExecuteTime": {
     "end_time": "2020-11-09T15:02:54.797841Z",
     "start_time": "2020-11-09T15:02:54.789846Z"
    }
   },
   "outputs": [],
   "source": [
    "print(x_box_fitted)\n",
    "print(y_box_fitted)"
   ]
  },
  {
   "cell_type": "code",
   "execution_count": null,
   "metadata": {
    "ExecuteTime": {
     "end_time": "2020-11-09T15:02:55.983968Z",
     "start_time": "2020-11-09T15:02:55.975085Z"
    }
   },
   "outputs": [],
   "source": [
    "serial_binning, parallel_binning =  [int(x) for x in ccd.header['CCDSUM'].split()]\n",
    "print(\"Serial Binning: {} Paralell Binning: {}\".format(serial_binning, parallel_binning))\n",
    "x_width = x_box_fitted.width.value * (serial_binning * pixel_scale)\n",
    "y_width = y_box_fitted.width.value * (parallel_binning * pixel_scale)"
   ]
  },
  {
   "cell_type": "code",
   "execution_count": null,
   "metadata": {
    "ExecuteTime": {
     "end_time": "2020-11-09T15:02:59.998257Z",
     "start_time": "2020-11-09T15:02:59.381927Z"
    }
   },
   "outputs": [],
   "source": [
    "mean, median, std = sigma_clipped_stats(ccd.data, sigma=3.0)\n",
    "print(mean, median, std)\n",
    "show_fits(ccd)\n"
   ]
  },
  {
   "cell_type": "code",
   "execution_count": null,
   "metadata": {
    "ExecuteTime": {
     "end_time": "2020-11-09T15:03:01.463763Z",
     "start_time": "2020-11-09T15:03:01.239841Z"
    }
   },
   "outputs": [],
   "source": [
    "daofind = DAOStarFinder(fwhm=3.0, threshold=5. * std)\n",
    "sources = daofind(ccd.data - median)\n",
    "for col in sources.colnames:\n",
    "    sources[col].info.format = '%.8g'\n",
    "print(sources)"
   ]
  },
  {
   "cell_type": "code",
   "execution_count": null,
   "metadata": {
    "ExecuteTime": {
     "end_time": "2020-11-09T15:03:02.920326Z",
     "start_time": "2020-11-09T15:03:02.353480Z"
    }
   },
   "outputs": [],
   "source": [
    "positions = np.transpose((sources['xcentroid'], sources['ycentroid']))\n",
    "source_positions = (sources['xcentroid'], sources['ycentroid'])\n",
    "print(positions)\n",
    "apertures = CircularAperture(positions, r=5.)\n",
    "norm = ImageNormalize(stretch=SqrtStretch())\n",
    "fig, ax = plt.subplots(figsize=(20,15))\n",
    "ax.imshow(ccd.data, cmap='Greys', origin='lower', norm=norm,\n",
    "           interpolation='nearest')\n",
    "apertures.plot(color='blue', lw=1.5, alpha=0.5)"
   ]
  },
  {
   "cell_type": "code",
   "execution_count": null,
   "metadata": {
    "ExecuteTime": {
     "end_time": "2020-11-09T15:03:04.094064Z",
     "start_time": "2020-11-09T15:03:04.086975Z"
    }
   },
   "outputs": [],
   "source": [
    "ra_deg, dec_deg = ra_dec_to_deg(right_ascension=ccd.header['RA'], declination=ccd.header['DEC'])\n",
    "\n",
    "print(ra_deg, dec_deg)"
   ]
  },
  {
   "cell_type": "markdown",
   "metadata": {},
   "source": [
    "## Convert pixel coordinates to RA DEC"
   ]
  },
  {
   "cell_type": "code",
   "execution_count": null,
   "metadata": {
    "ExecuteTime": {
     "end_time": "2020-11-09T15:03:07.562843Z",
     "start_time": "2020-11-09T15:03:07.531250Z"
    }
   },
   "outputs": [],
   "source": [
    "def physical_to_sky(ccd, sources, pixel_scale_arcsec=0.15):\n",
    "    x_length, y_length = ccd.data.shape\n",
    "    x_center = x_length / 2.\n",
    "    y_center = y_length / 2.\n",
    "    x_binning, y_binning = [int(x) for x in ccd.header['CCDSUM'].split()]\n",
    "    ra_deg, dec_deg = ra_dec_to_deg(right_ascension=ccd.header['RA'], declination=ccd.header['DEC'])\n",
    "    pixel_scale = Angle(pixel_scale_arcsec, u.arcsec)\n",
    "    sources_ra = []\n",
    "    sources_dec = []\n",
    "    for source in sources.iterrows('xcentroid', 'ycentroid'):\n",
    "        source_ra = ra_deg * u.deg - (x_center - source[0]) * x_binning * pixel_scale\n",
    "        sources_ra.append(source_ra)\n",
    "        source_dec = dec_deg * u.deg - (y_center - source[1]) * y_binning * pixel_scale\n",
    "        sources_dec.append(source_dec)\n",
    "#         print(source[0], source[1], source_ra.deg, source_dec.deg)\n",
    "        \n",
    "    sources.add_columns(cols=[sources_ra, sources_dec], names=['ra', 'dec'])\n",
    "    return sources\n",
    "    \n",
    "ccd_sky_coords = physical_to_sky(ccd=ccd, sources=sources)\n",
    "print(ccd_sky_coords)"
   ]
  },
  {
   "cell_type": "code",
   "execution_count": null,
   "metadata": {
    "ExecuteTime": {
     "end_time": "2020-11-09T15:03:15.589185Z",
     "start_time": "2020-11-09T15:03:10.137777Z"
    }
   },
   "outputs": [],
   "source": [
    "coord = SkyCoord(ra=ra_deg, dec=dec_deg, unit=(u.degree, u.degree), frame='icrs')\n",
    "width = u.Quantity(x_width.to_string(unit=u.degree, decimal=True), u.deg)\n",
    "height = u.Quantity(y_width.to_string(unit=u.degree, decimal=True), u.deg)\n",
    "print(width, height)\n",
    "r = Gaia.query_object_async(coordinate=coord, width=width, height=height)\n",
    "r.pprint()"
   ]
  },
  {
   "cell_type": "code",
   "execution_count": null,
   "metadata": {
    "ExecuteTime": {
     "end_time": "2020-11-09T15:03:16.724089Z",
     "start_time": "2020-11-09T15:03:16.713741Z"
    }
   },
   "outputs": [],
   "source": [
    "\n",
    "gaia_sources = SkyCoord(r['ra'], r['dec'])\n",
    "# gaia_sources = np.transpose((r['ra'], r['dec']))\n",
    "print(gaia_sources)\n",
    "# print(dir(r))\n",
    "# print(r.pprint_all)\n",
    "# for _col in r.colnames:\n",
    "#     print(_col)\n",
    "# print(r.colnames)"
   ]
  },
  {
   "cell_type": "code",
   "execution_count": null,
   "metadata": {
    "ExecuteTime": {
     "end_time": "2020-11-09T15:03:19.016454Z",
     "start_time": "2020-11-09T15:03:19.009395Z"
    }
   },
   "outputs": [],
   "source": [
    "# print(np.array(sources['xcentroid'].data))\n",
    "source_positions = (sources['xcentroid'].data, sources['ycentroid'].data)\n",
    "print(source_positions)\n",
    "\n",
    "# wcs = fit_wcs_from_points(xy=source_positions, world_coords=gaia_sources)"
   ]
  },
  {
   "cell_type": "code",
   "execution_count": null,
   "metadata": {},
   "outputs": [],
   "source": []
  },
  {
   "cell_type": "code",
   "execution_count": null,
   "metadata": {
    "ExecuteTime": {
     "end_time": "2020-11-09T15:07:17.048996Z",
     "start_time": "2020-11-09T15:07:17.009207Z"
    }
   },
   "outputs": [],
   "source": [
    "\n",
    "gaia_positions = np.transpose((r['ra'], r['dec']))\n",
    "\n",
    "ccd_positions = np.transpose(ccd_sky_coords)\n",
    "print(ccd_sky_coords)\n",
    "\n",
    "field = SkyCoord(ra=ccd_sky_coords['ra'] *u.degree, dec=ccd_sky_coords['dec'] * u.degree)\n",
    "gaia_catalog = SkyCoord(ra=gaia_sources.ra, dec=gaia_sources.dec)\n",
    "\n",
    "# idx, d2d, d3d = field.match_to_catalog_sky(gaia_catalog)\n",
    "idx, d2d, d3d = match_coordinates_sky(field, gaia_catalog)\n",
    "print(idx)\n",
    "print(d2d)\n",
    "print(d3d)\n",
    "matches = gaia_catalog[idx]\n",
    "print(matches)\n",
    "new_ra, new_dec = field.spherical_offsets_to(matches)\n",
    "print(new_ra.deg)\n",
    "print(field.ra.deg)\n",
    "# print((matches.separation_3d(field) == d3d).all())\n",
    "fix, (ax1, ax2) = plt.subplots(1, 2, figsize=(20,15))\n",
    "ax1.set_title('GAIA Sources')\n",
    "ax1.set_xlabel('RA')\n",
    "ax1.set_ylabel('DEC')\n",
    "ax1.plot(gaia_sources.ra, gaia_sources.dec, 'o', markersize=12)\n",
    "ax1.plot(field.ra.deg + new_ra.deg , field.dec.deg + new_dec.deg, '1', color='red', markersize=12)\n",
    "# ax1.plot(new_ra, new_dec, 'o', color='magenta', markersize=12)\n",
    "# sub_data = [int(y_box_fitted.x_0.value - y_box_fitted.width.value / 2.):int(y_box_fitted.x_0.value + y_box_fitted.width.value / 2.),int(x_box_fitted.x_0.value - x_box_fitted.width.value / 2.):int(x_box_fitted.x_0.value + x_box_fitted.width.value / 2.)]\n",
    "ax2.imshow(ccd.data, origin='lower', norm=norm,\n",
    "           interpolation='nearest')\n",
    "ax2.set_ylim(int(y_box_fitted.x_0.value - y_box_fitted.width.value / 2.), int(y_box_fitted.x_0.value + y_box_fitted.width.value / 2.))\n",
    "ax2.set_xlim(int(x_box_fitted.x_0.value - x_box_fitted.width.value / 2.), int(x_box_fitted.x_0.value + x_box_fitted.width.value / 2.))\n",
    "apertures.plot(color='red', lw=3)\n",
    "# apertures = CircularAperture(gaia_positions, r=5.)\n",
    "# apertures.plot(color='white', lw=1.5, alpha=0.5)"
   ]
  },
  {
   "cell_type": "code",
   "execution_count": null,
   "metadata": {
    "ExecuteTime": {
     "end_time": "2020-11-06T23:24:39.310289Z",
     "start_time": "2020-11-06T23:24:39.306892Z"
    }
   },
   "outputs": [],
   "source": [
    "print(gaia_sources)"
   ]
  },
  {
   "cell_type": "code",
   "execution_count": null,
   "metadata": {
    "ExecuteTime": {
     "end_time": "2020-11-06T01:57:49.697447Z",
     "start_time": "2020-11-06T01:57:49.691374Z"
    }
   },
   "outputs": [],
   "source": [
    "print(dir(apertures))\n",
    "print(apertures.positions)"
   ]
  },
  {
   "cell_type": "code",
   "execution_count": null,
   "metadata": {},
   "outputs": [],
   "source": []
  }
 ],
 "metadata": {
  "celltoolbar": "Raw Cell Format",
  "kernelspec": {
   "display_name": "Python 3",
   "language": "python",
   "name": "python3"
  },
  "language_info": {
   "codemirror_mode": {
    "name": "ipython",
    "version": 3
   },
   "file_extension": ".py",
   "mimetype": "text/x-python",
   "name": "python",
   "nbconvert_exporter": "python",
   "pygments_lexer": "ipython3",
   "version": "3.7.4"
  },
  "toc": {
   "base_numbering": 1,
   "nav_menu": {},
   "number_sections": true,
   "sideBar": true,
   "skip_h1_title": false,
   "title_cell": "Table of Contents",
   "title_sidebar": "Contents",
   "toc_cell": false,
   "toc_position": {},
   "toc_section_display": true,
   "toc_window_display": false
  }
 },
 "nbformat": 4,
 "nbformat_minor": 2
}
