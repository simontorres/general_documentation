{
 "cells": [
  {
   "cell_type": "code",
   "execution_count": null,
   "metadata": {
    "ExecuteTime": {
     "end_time": "2020-02-18T20:49:57.308105Z",
     "start_time": "2020-02-18T20:49:57.305043Z"
    }
   },
   "outputs": [],
   "source": []
  },
  {
   "cell_type": "code",
   "execution_count": null,
   "metadata": {
    "ExecuteTime": {
     "end_time": "2020-02-21T19:36:49.133259Z",
     "start_time": "2020-02-21T19:36:49.043639Z"
    }
   },
   "outputs": [],
   "source": [
    "import os\n",
    "import logging\n",
    "\n",
    "logging.disable()\n",
    "date = '2019-08-06'\n",
    "data_location = '/user/simon/data/soar/flat_analisis_2019B/'\n",
    "full_path_data_location = os.path.join(data_location, date)\n",
    "# \"2019-08-06\"\n",
    "# \"2019-08-10\"\n",
    "# \"2019-08-23\"\n",
    "# \"2019-09-04\"\n",
    "# \"2019-09-06\"\n",
    "# \"2019-09-22\"\n",
    "# \"2019-09-23\"\n",
    "# \"2019-10-05\"\n",
    "# \"2019-10-08\"\n",
    "# \"2019-10-20\"\n",
    "# \"2019-11-02\"\n",
    "# \"2019-11-19\"\n",
    "# \"2019-11-29\"\n",
    "# \"2019-12-03\"\n",
    "# \"2019-12-15\"\n",
    "# \"2019-12-18\"\n",
    "# \"2019-12-19\"\n",
    "# \"2020-01-02\"\n",
    "# \"2020-01-19\"\n",
    "# \"2020-01-31\"\n"
   ]
  },
  {
   "cell_type": "code",
   "execution_count": null,
   "metadata": {
    "ExecuteTime": {
     "end_time": "2020-02-21T19:49:35.001402Z",
     "start_time": "2020-02-21T19:49:34.985808Z"
    }
   },
   "outputs": [],
   "source": [
    "import os\n",
    "from ccdproc import ImageFileCollection, CCDData, subtract_bias\n",
    "KEYWORDS = ['slit',\n",
    "            'grating',\n",
    "            'cam_targ',\n",
    "            'grt_targ',\n",
    "            'filter',\n",
    "            'filter2',\n",
    "            'gain',\n",
    "            'roi',\n",
    "            'wavmode',\n",
    "            'exptime',\n",
    "            'rdnoise',\n",
    "            'ccdsum']\n",
    "\n",
    "def get_flat_files_as_pandas_dataframe():\n",
    "    ifc = ImageFileCollection(location=full_path_data_location, keywords=KEYWORDS, glob_include='*FLAT*')\n",
    "    df = ifc.summary.to_pandas()\n",
    "    groups = df.groupby(['slit',\n",
    "                         'grating',\n",
    "                         'cam_targ',\n",
    "                         'grt_targ',\n",
    "                         'filter',\n",
    "                         'filter2',\n",
    "                         'gain',\n",
    "                         'roi',\n",
    "                         'wavmode',\n",
    "                         'exptime',\n",
    "                         'rdnoise',\n",
    "                         'ccdsum']).size().reset_index().rename(\n",
    "        columns={0: 'count'})\n",
    "    all_groups = []\n",
    "    for i in groups.index:\n",
    "        conf_group = df[((df['slit'] == groups.iloc[i]['slit']) &\n",
    "                         (df['grating'] == groups.iloc[i]['grating']) &\n",
    "                         (df['cam_targ'] == groups.iloc[i]['cam_targ']) &\n",
    "                         (df['grt_targ'] == groups.iloc[i]['grt_targ']) &\n",
    "                         (df['filter'] == groups.iloc[i]['filter']) &\n",
    "                         (df['filter2'] == groups.iloc[i]['filter2']) &\n",
    "                         (df['gain'] == groups.iloc[i]['gain']) &\n",
    "                         (df['roi'] == groups.iloc[i]['roi']) &\n",
    "                         (df['wavmode'] == groups.iloc[i]['wavmode']) &\n",
    "                         (df['exptime'] == groups.iloc[i]['exptime']) &\n",
    "                         (df['rdnoise'] == groups.iloc[i]['rdnoise']) &\n",
    "                         (df['ccdsum'] == groups.iloc[i]['ccdsum']))]\n",
    "        if len(conf_group) > 2:\n",
    "            all_groups.append(conf_group.sort_values(by='file'))\n",
    "        else:\n",
    "            print(\"Group's length: {}\".format(len(conf_group)))\n",
    "            for __File in conf_group.file.values.tolist():\n",
    "                print(\"Discarding File: {}\".format(__File))\n",
    "    return all_groups"
   ]
  },
  {
   "cell_type": "code",
   "execution_count": null,
   "metadata": {
    "ExecuteTime": {
     "end_time": "2020-02-21T19:49:35.807284Z",
     "start_time": "2020-02-21T19:49:35.786597Z"
    }
   },
   "outputs": [],
   "source": [
    "import matplotlib\n",
    "%matplotlib inline\n",
    "import matplotlib.pyplot as plt\n",
    "import numpy as np\n",
    "\n",
    "def visualize_as_grid(group, date):\n",
    "    group_name = \"Date: {} Wavemode: {} Exptime: {}s\".format(date, group.wavmode.unique()[0], group.exptime.unique()[0])\n",
    "    nrows = int(np.ceil(len(group)/2.))\n",
    "    ncols = 2\n",
    "#     fig, axs = plt.subplots(nrows=nrows, ncols=ncols, figsize = (16, nrows * 3 ))\n",
    "   \n",
    "    fig = plt.figure(figsize = (16, nrows * 3 ))\n",
    "    fig.suptitle(group_name, fontsize=16)\n",
    "    gs = fig.add_gridspec(ncols=ncols, nrows=nrows)\n",
    "    for i, fits_file in enumerate(group.file.tolist()):\n",
    "        ccd = CCDData.read(os.path.join(full_path_data_location, fits_file), unit='adu')\n",
    "        z1 = np.mean(ccd.data) - 0.5 * np.std(ccd.data)\n",
    "        z2 = np.median(ccd.data) + np.std(ccd.data)\n",
    "        if i%2 == 0:\n",
    "            y=0\n",
    "        else:\n",
    "            y=1\n",
    "        ax_x = fig.add_subplot(gs[int(np.floor(i/2.)), y])\n",
    "        ax_x.imshow(ccd.data, clim=(z1, z2), cmap='viridis')\n",
    "        ax_x.title.set_text(fits_file)\n",
    "        plt.tight_layout(rect=[0, 0.03, 1, 0.95])"
   ]
  },
  {
   "cell_type": "markdown",
   "metadata": {},
   "source": [
    "##  Analisys\n"
   ]
  },
  {
   "cell_type": "code",
   "execution_count": null,
   "metadata": {
    "ExecuteTime": {
     "end_time": "2020-02-21T19:49:42.041509Z",
     "start_time": "2020-02-21T19:49:37.880499Z"
    }
   },
   "outputs": [],
   "source": [
    "\n",
    "groups = get_flat_files_as_pandas_dataframe()"
   ]
  },
  {
   "cell_type": "markdown",
   "metadata": {},
   "source": [
    "### Visual Inspection"
   ]
  },
  {
   "cell_type": "code",
   "execution_count": null,
   "metadata": {
    "ExecuteTime": {
     "end_time": "2020-02-21T19:50:44.829737Z",
     "start_time": "2020-02-21T19:49:42.393155Z"
    },
    "scrolled": false
   },
   "outputs": [],
   "source": [
    "for group in groups:\n",
    "    visualize_as_grid(group=group, date=date)"
   ]
  },
  {
   "cell_type": "markdown",
   "metadata": {},
   "source": [
    "### Combine as MasterFlats"
   ]
  },
  {
   "cell_type": "code",
   "execution_count": null,
   "metadata": {
    "ExecuteTime": {
     "end_time": "2020-02-21T19:51:35.783997Z",
     "start_time": "2020-02-21T19:51:35.774537Z"
    }
   },
   "outputs": [],
   "source": [
    "import re\n",
    "def identify_technique(ccd):\n",
    "    if 'Spectroscopic' in ccd.header['ROI'] or \\\n",
    "            ccd.header['OBSTYPE'] in ['ARC', 'SPECTRUM', 'COMP'] or \\\n",
    "            ccd.header['SLIT'] not in ['NO_MASK', '<NO MASK>'] or \\\n",
    "            ccd.header['GRATING'] not in ['NO_GRATING', '<NO GRATING>'] or \\\n",
    "            '_SP_' in ccd.header['OBJECT']:\n",
    "        technique = 'Spectroscopy'\n",
    "    elif 'Imaging' in ccd.header['ROI'] or \\\n",
    "            ccd.header['OBSTYPE'] in ['EXPOSE'] or\\\n",
    "            ccd.header['WAVMODE'] == 'IMAGING' or '_IM_' in ccd.header['OBJECT']:\n",
    "        technique = 'Imaging'\n",
    "    else:\n",
    "        technique = 'Unknown'\n",
    "    return technique\n"
   ]
  },
  {
   "cell_type": "code",
   "execution_count": null,
   "metadata": {
    "ExecuteTime": {
     "end_time": "2020-02-21T19:51:37.569483Z",
     "start_time": "2020-02-21T19:51:37.565791Z"
    }
   },
   "outputs": [],
   "source": [
    "# !pip install goodman_pipeline==1.3.0rc3"
   ]
  },
  {
   "cell_type": "code",
   "execution_count": null,
   "metadata": {
    "ExecuteTime": {
     "end_time": "2020-02-21T19:57:50.367841Z",
     "start_time": "2020-02-21T19:57:50.364222Z"
    }
   },
   "outputs": [],
   "source": [
    "import goodman_pipeline\n",
    "import glob\n",
    "\n",
    "print(goodman_pipeline.__version__)\n",
    "\n",
    "from goodman_pipeline.core import create_master_flats, get_overscan_region, define_trim_section, get_slit_trim_section"
   ]
  },
  {
   "cell_type": "code",
   "execution_count": 1,
   "metadata": {
    "ExecuteTime": {
     "end_time": "2020-03-03T17:03:32.667919Z",
     "start_time": "2020-03-03T17:03:32.646108Z"
    }
   },
   "outputs": [],
   "source": [
    "def combine_flats(group):\n",
    "    new_data = []\n",
    "    file_list = group.file.tolist()\n",
    "    sample_file = os.path.join(data_location, date, file_list[0])\n",
    "    sample_ccd = CCDData.read(sample_file, unit='adu')\n",
    "    technique = identify_technique(ccd=sample_ccd)\n",
    "    \n",
    "    \n",
    "    \n",
    "    overscan_region = get_overscan_region(sample_image=sample_file, technique=technique)\n",
    "    trim_section = define_trim_section(sample_image=sample_file, technique=technique)\n",
    "    if technique == 'Spectroscopy':\n",
    "        new_master_flat_name = \"master_flat_{}_{}.fits\".format(\n",
    "            re.sub(' ', '_', sample_ccd.header['WAVMODE']),\n",
    "            re.sub('[<> ]', '', sample_ccd.header['FILTER2']))\n",
    "        print(new_master_flat_name)\n",
    "        master_bias_name = \"master_bias_{}_SP_{}x{}_R{:05.2f}_G{:05.2f}.fits\".format(sample_ccd.header['INSTCONF'].upper(),\n",
    "                                                                                     sample_ccd.header['CCDSUM'].split()[0],\n",
    "                                                                                     sample_ccd.header['CCDSUM'].split()[1],\n",
    "                                                                                     sample_ccd.header['RDNOISE'],\n",
    "                                                                                     sample_ccd.header['GAIN'])\n",
    "        master_bias_file = os.path.join(data_location, date, 'master_bias', master_bias_name)\n",
    "        print(master_bias_file)\n",
    "    else:\n",
    "        new_master_flat_name = \"master_flat_{}_{}.fits\".format(\n",
    "            re.sub(' ', '_', sample_ccd.header['WAVMODE']),\n",
    "            re.sub('[<> ]', '', sample_ccd.header['FILTER']))\n",
    "        print(new_master_flat_name)\n",
    "        master_bias_name = \"master_bias_{}_IM_{}x{}_R{:05.2f}_G{:05.2f}.fits\".format(sample_ccd.header['INSTCONF'].upper(),\n",
    "                                                                                     sample_ccd.header['CCDSUM'].split()[0],\n",
    "                                                                                     sample_ccd.header['CCDSUM'].split()[1],\n",
    "                                                                                     sample_ccd.header['RDNOISE'],\n",
    "                                                                                     sample_ccd.header['GAIN'])\n",
    "        master_bias_file = os.path.join(data_location, date, 'master_bias', master_bias_name)\n",
    "        print(master_bias_file)\n",
    "        \n",
    "    if not os.path.isfile(master_bias_file):\n",
    "        print(\"Master Bias {} does not exists\".format(master_bias_file))\n",
    "        master_bias_file = ''\n",
    "        ignore_bias = True\n",
    "        print(\"Ignoring bias!\")\n",
    "    else:\n",
    "        print(\"Found master bias: {}\".format(master_bias_file))\n",
    "        ignore_bias = False\n",
    "    \n",
    "    master_flat, master_flat_name = create_master_flats(\n",
    "        flat_files=file_list, \n",
    "        raw_data=os.path.join(data_location, date), \n",
    "        reduced_data=os.path.join(full_path_data_location, 'master_flats'), \n",
    "        technique=technique, \n",
    "        overscan_region=overscan_region, \n",
    "        trim_section=trim_section, \n",
    "        master_bias_name=master_bias_file, \n",
    "        new_master_flat_name=new_master_flat_name, \n",
    "        saturation_threshold=1, \n",
    "        ignore_bias=ignore_bias,)\n",
    "    if technique == 'Spectroscopy':\n",
    "        trim_section = get_slit_trim_section(master_flat=master_flat)\n",
    "        \n",
    "        master_flat = goodman_pipeline.core.image_trim(ccd=master_flat, trim_section=trim_section, trim_type='slit')\n",
    "        master_flat.write(master_flat_name, overwrite=True)\n",
    "        divider = 2.\n",
    "    else:\n",
    "        divider = 1.\n",
    "    \n",
    "    fig, ax = plt.subplots(figsize=(16, int(16/divider)))\n",
    "    ax.title.set_text(os.path.basename(master_flat_name))\n",
    "    z1 = np.mean(master_flat.data) - 0.5 * np.std(master_flat.data)\n",
    "    z2 = np.median(master_flat.data) + np.std(master_flat.data)\n",
    "    ax.imshow(master_flat.data, clim=(z1, z2), cmap='viridis')\n",
    "    plt.show()\n",
    "    print(master_flat_name)\n",
    "    return technique, master_flat"
   ]
  },
  {
   "cell_type": "code",
   "execution_count": 2,
   "metadata": {
    "ExecuteTime": {
     "end_time": "2020-03-03T17:03:33.762949Z",
     "start_time": "2020-03-03T17:03:33.688085Z"
    },
    "scrolled": false
   },
   "outputs": [
    {
     "ename": "NameError",
     "evalue": "name 'groups' is not defined",
     "output_type": "error",
     "traceback": [
      "\u001b[0;31m---------------------------------------------------------------------------\u001b[0m",
      "\u001b[0;31mNameError\u001b[0m                                 Traceback (most recent call last)",
      "\u001b[0;32m<ipython-input-2-b5cdce47ca5d>\u001b[0m in \u001b[0;36m<module>\u001b[0;34m\u001b[0m\n\u001b[1;32m      1\u001b[0m \u001b[0mall_data\u001b[0m \u001b[0;34m=\u001b[0m \u001b[0;34m[\u001b[0m\u001b[0;34m]\u001b[0m\u001b[0;34m\u001b[0m\u001b[0;34m\u001b[0m\u001b[0m\n\u001b[0;32m----> 2\u001b[0;31m \u001b[0;32mfor\u001b[0m \u001b[0mgroup\u001b[0m \u001b[0;32min\u001b[0m \u001b[0mgroups\u001b[0m\u001b[0;34m:\u001b[0m\u001b[0;34m\u001b[0m\u001b[0;34m\u001b[0m\u001b[0m\n\u001b[0m\u001b[1;32m      3\u001b[0m     \u001b[0mtechnique\u001b[0m\u001b[0;34m,\u001b[0m \u001b[0mmaster_flat\u001b[0m \u001b[0;34m=\u001b[0m \u001b[0mcombine_flats\u001b[0m\u001b[0;34m(\u001b[0m\u001b[0mgroup\u001b[0m\u001b[0;34m=\u001b[0m\u001b[0mgroup\u001b[0m\u001b[0;34m)\u001b[0m\u001b[0;34m\u001b[0m\u001b[0;34m\u001b[0m\u001b[0m\n\u001b[1;32m      4\u001b[0m     \u001b[0mall_data\u001b[0m\u001b[0;34m.\u001b[0m\u001b[0mappend\u001b[0m\u001b[0;34m(\u001b[0m\u001b[0;34m[\u001b[0m\u001b[0mgroup\u001b[0m\u001b[0;34m,\u001b[0m \u001b[0mtechnique\u001b[0m\u001b[0;34m,\u001b[0m \u001b[0mmaster_flat\u001b[0m\u001b[0;34m]\u001b[0m\u001b[0;34m)\u001b[0m\u001b[0;34m\u001b[0m\u001b[0;34m\u001b[0m\u001b[0m\n",
      "\u001b[0;31mNameError\u001b[0m: name 'groups' is not defined"
     ]
    }
   ],
   "source": [
    "all_data = []\n",
    "for group in groups:\n",
    "    technique, master_flat = combine_flats(group=group)\n",
    "    all_data.append([group, technique, master_flat])"
   ]
  },
  {
   "cell_type": "markdown",
   "metadata": {},
   "source": [
    "### Statistics\n"
   ]
  },
  {
   "cell_type": "code",
   "execution_count": null,
   "metadata": {
    "ExecuteTime": {
     "end_time": "2020-02-21T20:13:28.387008Z",
     "start_time": "2020-02-21T20:13:28.020991Z"
    }
   },
   "outputs": [],
   "source": [
    "import logging\n",
    "\n",
    "logger = logging.getLogger(__name__)\n",
    "logger.propagate = False"
   ]
  },
  {
   "cell_type": "code",
   "execution_count": null,
   "metadata": {
    "ExecuteTime": {
     "end_time": "2020-02-21T20:13:28.487923Z",
     "start_time": "2020-02-21T20:13:28.388745Z"
    }
   },
   "outputs": [],
   "source": [
    "%matplotlib inline"
   ]
  },
  {
   "cell_type": "code",
   "execution_count": null,
   "metadata": {
    "ExecuteTime": {
     "end_time": "2020-02-21T20:13:42.051525Z",
     "start_time": "2020-02-21T20:13:28.489603Z"
    },
    "scrolled": false
   },
   "outputs": [],
   "source": [
    "import pandas as pd\n",
    "for group, technique, master_flat in all_data:\n",
    "    cmap = plt.get_cmap('jet')\n",
    "    colors = [cmap(i) for i in np.linspace(0, 1, len(group))]\n",
    "    if technique == 'Spectroscopy':\n",
    "        print('Spectroscopy Group Filter2: {} Grating: {} Slit: {} Wavmode: {}'.format(group.filter2.unique()[0],\n",
    "                                                                                       group.grating.unique()[0], \n",
    "                                                                                       group.slit.unique()[0], \n",
    "                                                                                       group.wavmode.unique()[0]))\n",
    "              \n",
    "        fig_1, ax_1 = plt.subplots(figsize=(16,9))\n",
    "#         fig_1, ax_1 = plt.subplots()\n",
    "        ax_1.set_xlabel('Dispersion Axis')\n",
    "        ax_1.set_ylabel('Mean Intensity (100px)')\n",
    "        \n",
    "        for i, _image in enumerate(group.file.tolist()):\n",
    "            ccd = CCDData.read(os.path.join(full_path_data_location, _image), unit='adu')\n",
    "            x, y = ccd.data.shape\n",
    "            x_0 = int(x / 2.) - 50\n",
    "            x_1 = int(x / 2.) + 49\n",
    "            \n",
    "            y_0 = 1\n",
    "            y_1 = y\n",
    "            \n",
    "            region = \"[:, {}:{}]\".format(x_0, x_1)\n",
    "            ccd = goodman_pipeline.core.image_trim(ccd=ccd, trim_section=region, trim_type='subsection')\n",
    "            ccd.data = np.mean(ccd.data, axis=0)\n",
    "            ax_1.plot(ccd.data, color=colors[i], label=_image)\n",
    "        plt.legend(loc='best')\n",
    "#         plt.show()\n",
    "    else:\n",
    "        _title = 'Imaging Group Filter: {}'.format(group['filter'].unique()[0])\n",
    "        print(_title)\n",
    "        _data = {'file': [], 'npix': [], 'mean': [], 'stddev': [], 'min': [], 'max': []}\n",
    "        \n",
    "        fig, ax = plt.subplots(figsize=(16,9))\n",
    "#         fig, ax = plt.subplots()\n",
    "        ax.set_xlabel('Dispersion Axis')\n",
    "        ax.set_ylabel('Mean Intensity (100px)')\n",
    "        ax.set_title(_title)\n",
    "        \n",
    "        for i, _image in enumerate(group.file.tolist()):\n",
    "            ccd = CCDData.read(os.path.join(full_path_data_location, _image), unit='adu')\n",
    "            x, y = ccd.data.shape\n",
    "            x_0 = int(x / 2.) - 50\n",
    "            x_1 = int(x / 2.) + 49\n",
    "            \n",
    "            y_0 = int(y / 2.) - 50\n",
    "            y_1 = int(y / 2.) + 49\n",
    "            \n",
    "            region = \"[{}:{}, {}:{}]\".format(x_0, x_1, y_0, y_1)\n",
    "            print(region)\n",
    "            print(ccd.data.shape)\n",
    "            ccd = goodman_pipeline.core.image_trim(ccd=ccd, trim_section=region, trim_type='subsection')\n",
    "            print(ccd.data.shape)\n",
    "#             fig, ax = plt.subplots(figsize=(16, 9))\n",
    "#             ax.imshow(ccd.data, cmap='viridis')\n",
    "            # IMAGE      NPIX      MEAN    STDDEV       MIN       MAX\n",
    "            _npix = np.prod(ccd.data.shape)\n",
    "            _mean = np.mean(ccd.data)\n",
    "            _stdev = np.std(ccd.data)\n",
    "            _min = np.min(ccd.data)\n",
    "            _max = np.max(ccd.data)\n",
    "            _data['file'].append(_image)\n",
    "            _data['npix'].append(_npix)\n",
    "            _data['mean'].append(_mean)\n",
    "            _data['stddev'].append(_stdev)\n",
    "            _data['min'].append(_min)\n",
    "            _data['max'].append(_max)\n",
    "            \n",
    "            \n",
    "            mean_data = np.mean(ccd.data, axis=0)\n",
    "            ax.plot(mean_data, color=colors[i], label=_image)\n",
    "        plt.legend(loc='best')\n",
    "        plt.show()\n",
    "            \n",
    "        df = pd.DataFrame(data=_data)\n",
    "        print(df.to_string())\n",
    "        print(\" \")\n",
    "            \n",
    "            \n",
    "\n",
    "#             print(\"extraction zone [{}:{}, {}:{}]\".format(x_0, x_1, y_0, y_1))\n",
    "             "
   ]
  },
  {
   "cell_type": "code",
   "execution_count": null,
   "metadata": {},
   "outputs": [],
   "source": []
  },
  {
   "cell_type": "code",
   "execution_count": null,
   "metadata": {},
   "outputs": [],
   "source": []
  }
 ],
 "metadata": {
  "kernelspec": {
   "display_name": "Python 3",
   "language": "python",
   "name": "python3"
  },
  "language_info": {
   "codemirror_mode": {
    "name": "ipython",
    "version": 3
   },
   "file_extension": ".py",
   "mimetype": "text/x-python",
   "name": "python",
   "nbconvert_exporter": "python",
   "pygments_lexer": "ipython3",
   "version": "3.7.4"
  },
  "toc": {
   "base_numbering": 1,
   "nav_menu": {},
   "number_sections": true,
   "sideBar": true,
   "skip_h1_title": false,
   "title_cell": "Table of Contents",
   "title_sidebar": "Contents",
   "toc_cell": false,
   "toc_position": {
    "height": "calc(100% - 180px)",
    "left": "10px",
    "top": "150px",
    "width": "359px"
   },
   "toc_section_display": true,
   "toc_window_display": true
  }
 },
 "nbformat": 4,
 "nbformat_minor": 2
}
