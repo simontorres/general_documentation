{
 "cells": [
  {
   "cell_type": "code",
   "execution_count": 3,
   "metadata": {
    "ExecuteTime": {
     "end_time": "2020-03-03T11:57:24.948284Z",
     "start_time": "2020-03-03T11:57:24.934372Z"
    }
   },
   "outputs": [],
   "source": [
    "import os\n",
    "from ccdproc import CCDData, ImageFileCollection\n",
    "from IPython.display import display\n",
    "\n",
    "KEYWORDS = ['slit', 'grating', 'filter', 'filter2']\n",
    "\n",
    "def edit_headers(full_path):\n",
    "    \n",
    "    ifc = ImageFileCollection(location=full_path, keywords=KEYWORDS)\n",
    "    \n",
    "    df = ifc.summary.to_pandas()\n",
    "    \n",
    "    filtered = df[((df['slit'] == '<NO_MASK>') |\n",
    "                   (df['grating'] == '<NO_GRATING>') |\n",
    "                   (df['filter'] == '<NO_FILTER>') |\n",
    "                   (df['filter2'] == '<NO_FILTER>') )]\n",
    "    \n",
    "    if len(filtered) > 0:\n",
    "        for _file in filtered.file.tolist():\n",
    "            file_full_path = os.path.join(full_path, _file)\n",
    "            ccd = CCDData.read(file_full_path, unit='adu')\n",
    "            if ccd.header['SLIT'] == '<NO_MASK>':\n",
    "                ccd.header.set('SLIT', value='NO_MASK')\n",
    "            if ccd.header['GRATING'] == '<NO_GRATING>':\n",
    "                ccd.header.set('GRATING', value='NO_GRATING')\n",
    "            if ccd.header['FILTER'] == '<NO_FILTER>':\n",
    "                ccd.header.set('FILTER', value='NO_FILTER')\n",
    "            if ccd.header['FILTER2'] == '<NO_FILTER>':\n",
    "                ccd.header.set('FILTER2', value='NO_FILTER')\n",
    "            ccd.write(file_full_path, overwrite=True)\n",
    "            print(file_full_path)\n",
    "    else:\n",
    "        print(\"{} is OK\".format(full_path))\n",
    "    "
   ]
  },
  {
   "cell_type": "code",
   "execution_count": 4,
   "metadata": {
    "ExecuteTime": {
     "end_time": "2020-03-03T11:58:54.016014Z",
     "start_time": "2020-03-03T11:57:26.984299Z"
    },
    "scrolled": false
   },
   "outputs": [
    {
     "name": "stdout",
     "output_type": "stream",
     "text": [
      "/user/simon/data/soar/flat_analisis_2019B/2019-11-02 is OK\n",
      "/user/simon/data/soar/flat_analisis_2019B/2019-11-19 is OK\n",
      "/user/simon/data/soar/flat_analisis_2019B/2019-09-23 is OK\n",
      "/user/simon/data/soar/flat_analisis_2019B/2019-09-22 is OK\n",
      "/user/simon/data/soar/flat_analisis_2019B/2019-10-05 is OK\n",
      "/user/simon/data/soar/flat_analisis_2019B/2019-12-03 is OK\n",
      "/user/simon/data/soar/flat_analisis_2019B/2019-10-20 is OK\n",
      "/user/simon/data/soar/flat_analisis_2019B/2019-12-15 is OK\n",
      "/user/simon/data/soar/flat_analisis_2019B/2019-12-19 is OK\n",
      "/user/simon/data/soar/flat_analisis_2019B/2019-11-29 is OK\n",
      "/user/simon/data/soar/flat_analisis_2019B/2020-01-31 is OK\n",
      "/user/simon/data/soar/flat_analisis_2019B/2019-08-06 is OK\n",
      "/user/simon/data/soar/flat_analisis_2019B/2020-01-02 is OK\n",
      "/user/simon/data/soar/flat_analisis_2019B/2020-01-19 is OK\n",
      "/user/simon/data/soar/flat_analisis_2019B/2019-12-18 is OK\n",
      "/user/simon/data/soar/flat_analisis_2019B/2019-08-10 is OK\n",
      "/user/simon/data/soar/flat_analisis_2019B/2019-08-23 is OK\n",
      "/user/simon/data/soar/flat_analisis_2019B/2019-09-04 is OK\n",
      "/user/simon/data/soar/flat_analisis_2019B/2019-09-06 is OK\n",
      "/user/simon/data/soar/flat_analisis_2019B/2019-10-08 is OK\n"
     ]
    }
   ],
   "source": [
    "folder_name = '/user/simon/data/soar/flat_analisis_2019B/'\n",
    "\n",
    "for directory in os.listdir(folder_name):\n",
    "    edit_headers(full_path=os.path.join(folder_name, directory))"
   ]
  },
  {
   "cell_type": "code",
   "execution_count": null,
   "metadata": {},
   "outputs": [],
   "source": []
  },
  {
   "cell_type": "code",
   "execution_count": null,
   "metadata": {},
   "outputs": [],
   "source": []
  }
 ],
 "metadata": {
  "kernelspec": {
   "display_name": "Python 3",
   "language": "python",
   "name": "python3"
  },
  "language_info": {
   "codemirror_mode": {
    "name": "ipython",
    "version": 3
   },
   "file_extension": ".py",
   "mimetype": "text/x-python",
   "name": "python",
   "nbconvert_exporter": "python",
   "pygments_lexer": "ipython3",
   "version": "3.7.4"
  },
  "toc": {
   "base_numbering": 1,
   "nav_menu": {},
   "number_sections": true,
   "sideBar": true,
   "skip_h1_title": false,
   "title_cell": "Table of Contents",
   "title_sidebar": "Contents",
   "toc_cell": false,
   "toc_position": {},
   "toc_section_display": true,
   "toc_window_display": false
  }
 },
 "nbformat": 4,
 "nbformat_minor": 2
}
