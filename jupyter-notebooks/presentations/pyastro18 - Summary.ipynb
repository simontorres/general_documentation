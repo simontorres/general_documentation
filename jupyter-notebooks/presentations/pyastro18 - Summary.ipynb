{
 "cells": [
  {
   "cell_type": "markdown",
   "metadata": {},
   "source": [
    "# Summary of Python in Astronomy 2018 workshop\n",
    "\n",
    "The most important \"takeaway\" for me is that if we don't contribute our code to *Astropy* our work will be lost \n",
    "\n",
    "## The workshop\n",
    " Had a very interesting structure and rules\n",
    " - High importance to the code of conduct\n",
    "   - basically be friendly and behave well\n",
    " - Made use of several online tools (too much for me)\n",
    "   - Slack\n",
    "   - Matrix ??\n",
    "   - Twitter\n",
    " - unconference sessions\n",
    "   - The group split in smaller groups to discuss any subject of particular interest and the report to the group\n",
    "     - Requires a leader and a scribe\n",
    " - lightning talks\n",
    "   - Five minutes to present some ideas\n",
    " \n",
    " "
   ]
  },
  {
   "cell_type": "markdown",
   "metadata": {},
   "source": [
    "## Content\n",
    " \n",
    " - GitHub really important for Open Source Community Development\n",
    "   - There was talk about writting papers on GitHub\n",
    " - There are astropy affiliated package and will be _Astropy coordinated packages_ \n",
    " - New **Package Template**\n",
    "   - Uses Cookiecutter: A tool to build a package just answering some questions\n",
    "   - Can build documentation right away.\n",
    " - Importance of having a licence\n",
    "   - No-license == Nobody can use it\n",
    "   - BSD-3 seems to be the best choice\n",
    " "
   ]
  },
  {
   "cell_type": "markdown",
   "metadata": {},
   "source": [
    "## New Concepts\n",
    "\n",
    "- Issue Triage: Dedicate some time to close or update Issues\n",
    "  - Issues where the topic has changed have to be renamed\n",
    "  - www.codetriage.com sends you \"daily\" issues to triage\n",
    "- Code reviews\n",
    "  - Meetings to review pieces of code\n",
    "  - Be tolerant with someone else's mistakes\n",
    "  - Can include, style discussion, algorithm, documentation, tests, git, matplotlib\n",
    "- Write papers on GitHub"
   ]
  },
  {
   "cell_type": "markdown",
   "metadata": {},
   "source": [
    "## My Contributions\n",
    "\n",
    "- Gave a lightning talk\n",
    "  - not really a contribution\n",
    "  - lack of experience\n",
    "- Hacking day\n",
    "  - Reported a bug on **specutils**\n",
    "    - **Spectrum1D.read** was not working.\n",
    "    - Catched a second bug after the first one.\n",
    "  - Wrote a test code for that bug. Pull request accepted :D\n",
    "    - Earn me the right to put an astropy sticker on my laptop.\n",
    "  - Wrote some documentation for **specutils**\n",
    "    - Pull request not merged probably due to my poor writting skills.\n",
    "  - Learned the correct workflow for contributing to Astropy.\n",
    "  - Started implementing non-linear wavelength solution reader\n",
    "    - Not so simple though\n",
    "  - Will try to contribute to specreduce and specutils.\n",
    "- Talked to some people\n",
    "  - advanced conversations for an internship at STSCI (??)"
   ]
  },
  {
   "cell_type": "markdown",
   "metadata": {},
   "source": [
    "## Other\n",
    "\n",
    "- Numfocus: Company tha manages money from projects such as astropy\n",
    "- IRAF \"standard\" is not really a standard. [See TNX WCS](http://iraf.noao.edu/projects/ccdmosaic/tnx.html)\n"
   ]
  },
  {
   "cell_type": "code",
   "execution_count": null,
   "metadata": {
    "collapsed": true
   },
   "outputs": [],
   "source": []
  }
 ],
 "metadata": {
  "kernelspec": {
   "display_name": "Python 3",
   "language": "python",
   "name": "python3"
  },
  "language_info": {
   "codemirror_mode": {
    "name": "ipython",
    "version": 3
   },
   "file_extension": ".py",
   "mimetype": "text/x-python",
   "name": "python",
   "nbconvert_exporter": "python",
   "pygments_lexer": "ipython3",
   "version": "3.6.3"
  }
 },
 "nbformat": 4,
 "nbformat_minor": 2
}
