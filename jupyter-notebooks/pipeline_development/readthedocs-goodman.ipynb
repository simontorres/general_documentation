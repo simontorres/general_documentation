{
 "cells": [
  {
   "cell_type": "markdown",
   "metadata": {},
   "source": [
    "# Fixes proposed to RTD page\n",
    "\n",
    "```\n",
    "|--- About\n",
    "|   |--- Features\n",
    "|   |--- License\n",
    "|   |--- Release Notes\n",
    "|   |--- Author / Contributors\n",
    "|--- Install\n",
    "|   |--- Requirements\n",
    "|   |--- Using Conda\n",
    "|   |--- Using PIP\n",
    "|   |--- Classic Method\n",
    "|--- Usage\n",
    "|--- Examples\n",
    "\n",
    "```"
   ]
  },
  {
   "cell_type": "markdown",
   "metadata": {},
   "source": [
    "# Notes\n",
    "\n",
    "- Try rearranging first before write anything\n",
    "    "
   ]
  },
  {
   "cell_type": "code",
   "execution_count": null,
   "metadata": {
    "collapsed": true
   },
   "outputs": [],
   "source": []
  }
 ],
 "metadata": {
  "kernelspec": {
   "display_name": "Python 3",
   "language": "python",
   "name": "python3"
  },
  "language_info": {
   "codemirror_mode": {
    "name": "ipython",
    "version": 3
   },
   "file_extension": ".py",
   "mimetype": "text/x-python",
   "name": "python",
   "nbconvert_exporter": "python",
   "pygments_lexer": "ipython3",
   "version": "3.6.3"
  }
 },
 "nbformat": 4,
 "nbformat_minor": 2
}
