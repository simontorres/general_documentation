{
 "cells": [
  {
   "cell_type": "code",
   "execution_count": 6,
   "metadata": {
    "ExecuteTime": {
     "end_time": "2019-04-09T20:01:40.637935Z",
     "start_time": "2019-04-09T20:01:40.630167Z"
    },
    "collapsed": true
   },
   "outputs": [],
   "source": [
    "from ccdproc import CCDData\n",
    "import numpy as np\n",
    "from astropy.io import fits\n",
    "\n",
    "\n",
    "ccd1 = CCDData(data=np.ones((100, 100)),\n",
    "                           meta=fits.Header(),\n",
    "                           unit='adu')"
   ]
  },
  {
   "cell_type": "code",
   "execution_count": 7,
   "metadata": {
    "ExecuteTime": {
     "end_time": "2019-04-09T20:01:41.183437Z",
     "start_time": "2019-04-09T20:01:41.178380Z"
    }
   },
   "outputs": [
    {
     "name": "stdout",
     "output_type": "stream",
     "text": [
      "[[ 1.  1.  1. ...,  1.  1.  1.]\n",
      " [ 1.  1.  1. ...,  1.  1.  1.]\n",
      " [ 1.  1.  1. ...,  1.  1.  1.]\n",
      " ..., \n",
      " [ 1.  1.  1. ...,  1.  1.  1.]\n",
      " [ 1.  1.  1. ...,  1.  1.  1.]\n",
      " [ 1.  1.  1. ...,  1.  1.  1.]]\n"
     ]
    }
   ],
   "source": [
    "print(ccd1.data)"
   ]
  },
  {
   "cell_type": "code",
   "execution_count": 8,
   "metadata": {
    "ExecuteTime": {
     "end_time": "2019-04-09T20:01:41.845577Z",
     "start_time": "2019-04-09T20:01:41.836920Z"
    }
   },
   "outputs": [
    {
     "name": "stdout",
     "output_type": "stream",
     "text": [
      "[[ 2.  2.  2. ...,  2.  2.  2.]\n",
      " [ 2.  2.  2. ...,  2.  2.  2.]\n",
      " [ 2.  2.  2. ...,  2.  2.  2.]\n",
      " ..., \n",
      " [ 2.  2.  2. ...,  2.  2.  2.]\n",
      " [ 2.  2.  2. ...,  2.  2.  2.]\n",
      " [ 2.  2.  2. ...,  2.  2.  2.]]\n"
     ]
    }
   ],
   "source": [
    "ccd2 = ccd1.copy()\n",
    "ccd2.data *= 2\n",
    "print(ccd2.data)"
   ]
  },
  {
   "cell_type": "code",
   "execution_count": 20,
   "metadata": {
    "ExecuteTime": {
     "end_time": "2019-04-09T20:11:28.494448Z",
     "start_time": "2019-04-09T20:11:28.485768Z"
    }
   },
   "outputs": [
    {
     "name": "stdout",
     "output_type": "stream",
     "text": [
      "[[ 5.  5.  5. ...,  5.  5.  5.]\n",
      " [ 5.  5.  5. ...,  5.  5.  5.]\n",
      " [ 5.  5.  5. ...,  5.  5.  5.]\n",
      " ..., \n",
      " [ 5.  5.  5. ...,  5.  5.  5.]\n",
      " [ 5.  5.  5. ...,  5.  5.  5.]\n",
      " [ 5.  5.  5. ...,  5.  5.  5.]]\n"
     ]
    }
   ],
   "source": [
    "ccd3 = ccd1.copy()\n",
    "ccd3.data *= 5\n",
    "print(ccd3.data)"
   ]
  },
  {
   "cell_type": "code",
   "execution_count": 21,
   "metadata": {
    "ExecuteTime": {
     "end_time": "2019-04-09T20:11:29.451810Z",
     "start_time": "2019-04-09T20:11:29.447916Z"
    },
    "collapsed": true
   },
   "outputs": [],
   "source": [
    "import ccdproc\n"
   ]
  },
  {
   "cell_type": "code",
   "execution_count": 22,
   "metadata": {
    "ExecuteTime": {
     "end_time": "2019-04-09T20:11:30.205886Z",
     "start_time": "2019-04-09T20:11:30.181473Z"
    }
   },
   "outputs": [
    {
     "name": "stdout",
     "output_type": "stream",
     "text": [
      "[[ 1.5  1.5  1.5 ...,  1.5  1.5  1.5]\n",
      " [ 1.5  1.5  1.5 ...,  1.5  1.5  1.5]\n",
      " [ 1.5  1.5  1.5 ...,  1.5  1.5  1.5]\n",
      " ..., \n",
      " [ 1.5  1.5  1.5 ...,  1.5  1.5  1.5]\n",
      " [ 1.5  1.5  1.5 ...,  1.5  1.5  1.5]\n",
      " [ 1.5  1.5  1.5 ...,  1.5  1.5  1.5]]\n"
     ]
    }
   ],
   "source": [
    "combined = ccdproc.combine([ccd1, ccd2, ccd3],\n",
    "                           method='median',\n",
    "                           sigma_clip=True,\n",
    "                           sigma_clip_low_thresh=1.0,\n",
    "                           sigma_clip_high_thresh=1.0,\n",
    "                           add_keyword=False)\n",
    "\n",
    "print(combined.data)"
   ]
  },
  {
   "cell_type": "code",
   "execution_count": 23,
   "metadata": {
    "ExecuteTime": {
     "end_time": "2019-04-09T20:11:32.811839Z",
     "start_time": "2019-04-09T20:11:32.786999Z"
    }
   },
   "outputs": [
    {
     "name": "stdout",
     "output_type": "stream",
     "text": [
      "[[ 1.5  1.5  1.5 ...,  1.5  1.5  1.5]\n",
      " [ 1.5  1.5  1.5 ...,  1.5  1.5  1.5]\n",
      " [ 1.5  1.5  1.5 ...,  1.5  1.5  1.5]\n",
      " ..., \n",
      " [ 1.5  1.5  1.5 ...,  1.5  1.5  1.5]\n",
      " [ 1.5  1.5  1.5 ...,  1.5  1.5  1.5]\n",
      " [ 1.5  1.5  1.5 ...,  1.5  1.5  1.5]]\n"
     ]
    }
   ],
   "source": [
    "combined = ccdproc.combine([ccd1, ccd2, ccd3],\n",
    "                           method='average',\n",
    "                           sigma_clip=True,\n",
    "                           sigma_clip_low_thresh=1.0,\n",
    "                           sigma_clip_high_thresh=1.0,\n",
    "                           add_keyword=False)\n",
    "\n",
    "print(combined.data)"
   ]
  },
  {
   "cell_type": "code",
   "execution_count": 24,
   "metadata": {
    "ExecuteTime": {
     "end_time": "2019-04-09T20:12:56.590494Z",
     "start_time": "2019-04-09T20:12:56.568710Z"
    }
   },
   "outputs": [
    {
     "name": "stdout",
     "output_type": "stream",
     "text": [
      "[[ 3.  3.  3. ...,  3.  3.  3.]\n",
      " [ 3.  3.  3. ...,  3.  3.  3.]\n",
      " [ 3.  3.  3. ...,  3.  3.  3.]\n",
      " ..., \n",
      " [ 3.  3.  3. ...,  3.  3.  3.]\n",
      " [ 3.  3.  3. ...,  3.  3.  3.]\n",
      " [ 3.  3.  3. ...,  3.  3.  3.]]\n"
     ]
    }
   ],
   "source": [
    "combined = ccdproc.combine([ccd1, ccd2, ccd3],\n",
    "                           method='sum',\n",
    "                           sigma_clip=True,\n",
    "                           sigma_clip_low_thresh=1.0,\n",
    "                           sigma_clip_high_thresh=1.0,\n",
    "                           add_keyword=False)\n",
    "\n",
    "print(combined.data)"
   ]
  },
  {
   "cell_type": "code",
   "execution_count": null,
   "metadata": {
    "collapsed": true
   },
   "outputs": [],
   "source": []
  }
 ],
 "metadata": {
  "kernelspec": {
   "display_name": "Python 3",
   "language": "python",
   "name": "python3"
  },
  "language_info": {
   "codemirror_mode": {
    "name": "ipython",
    "version": 3
   },
   "file_extension": ".py",
   "mimetype": "text/x-python",
   "name": "python",
   "nbconvert_exporter": "python",
   "pygments_lexer": "ipython3",
   "version": "3.5.4"
  }
 },
 "nbformat": 4,
 "nbformat_minor": 2
}
