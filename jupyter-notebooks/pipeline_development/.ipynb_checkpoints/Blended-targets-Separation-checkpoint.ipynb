{
 "cells": [
  {
   "cell_type": "code",
   "execution_count": 90,
   "metadata": {
    "collapsed": true
   },
   "outputs": [],
   "source": [
    "from astropy.modeling import models, fitting\n",
    "import matplotlib.pyplot as plt\n",
    "import random\n",
    "import re"
   ]
  },
  {
   "cell_type": "code",
   "execution_count": 91,
   "metadata": {
    "collapsed": true
   },
   "outputs": [],
   "source": [
    "two_gaussian = None\n",
    "\n",
    "for i in range(3):\n",
    "    m = random.randint(10, 490)\n",
    "    amp = random.randint(100, 150)\n",
    "    stdd = random.randint(5, 12)\n",
    "    gaussian = models.Gaussian1D(mean=m, amplitude=amp, stddev=stdd) \n",
    "    \n",
    "    if two_gaussian is None:\n",
    "        two_gaussian = gaussian\n",
    "    else:\n",
    "        two_gaussian += gaussian\n",
    "\n",
    "# two_gaussian = models.Gaussian1D(mean=158, amplitude=120, stddev=8) + \\\n",
    "#     models.Gaussian1D(mean=200, amplitude=80, stddev=10)"
   ]
  },
  {
   "cell_type": "code",
   "execution_count": 92,
   "metadata": {
    "collapsed": true
   },
   "outputs": [],
   "source": [
    "def get_maximum_nsigma(model):\n",
    "    max_sigmas = []\n",
    "    stddev_keys = [key for key in model._param_names if 'stddev' in key]\n",
    "\n",
    "    mean_keys = [key for key in model._param_names if 'mean' in key]\n",
    "\n",
    "    stddev_values = [\n",
    "            model.__getattribute__(key).value for key in stddev_keys]\n",
    "\n",
    "    mean_values = [\n",
    "            model.__getattribute__(key).value for key in mean_keys]\n",
    "    \n",
    "    sorted_mean_keys = [x for (y,x) in sorted(zip(mean_values, mean_keys))]\n",
    "    \n",
    "    print(mean_values)\n",
    "    print(sorted_mean_keys)\n",
    "    for i in range(len(sorted_mean_keys)):\n",
    "        for e in range(len(sorted_mean_keys)):\n",
    "            if e != i:\n",
    "                print(sorted_mean_keys[i], sorted_mean_keys[e])\n",
    "        \n",
    "        key_1 = sorted_mean_keys[i]\n",
    "        key_2 = sorted_mean_keys[i + 1]\n",
    "        \n",
    "        stddev_1 = re.sub('mean', 'stddev', key_1)\n",
    "        stddev_2 = re.sub('mean', 'stddev', key_2)\n",
    "        \n",
    "        mean_1 = model.__getattribute__(key_1).value\n",
    "        mean_2 = model.__getattribute__(key_2).value\n",
    "        \n",
    "        # limit1 = model[i].mean.value\n",
    "        limit_1 = model.__getattribute__(key_1).value\n",
    "        limit_2 = model.__getattribute__(key_2).value\n",
    "        print(limit_1, limit_2)\n",
    "        \n",
    "        nsigma = 0\n",
    "        while limit_1 < limit_2:\n",
    "            nsigma += 1\n",
    "            limit_1 = mean_1 + nsigma * model[i].stddev.value\n",
    "            limit_2 = mean_2 - nsigma * model[i + 1].stddev.value\n",
    "            \n",
    "            print(nsigma)\n",
    "        else:\n",
    "            max_sigmas.append(nsigma - 1)\n",
    "    print(max_sigmas)\n",
    "    return max_sigmas\n",
    "    # print(mean_values)"
   ]
  },
  {
   "cell_type": "code",
   "execution_count": 93,
   "metadata": {},
   "outputs": [
    {
     "name": "stdout",
     "output_type": "stream",
     "text": [
      "[450.0, 447.0, 71.0]\n",
      "[u'mean_2', u'mean_1', u'mean_0']\n",
      "(u'mean_2', u'mean_1')\n",
      "(u'mean_2', u'mean_0')\n",
      "(71.0, 447.0)\n",
      "1\n",
      "2\n",
      "3\n",
      "4\n",
      "5\n",
      "6\n",
      "7\n",
      "8\n",
      "9\n",
      "10\n",
      "11\n",
      "12\n",
      "13\n",
      "14\n",
      "15\n",
      "16\n",
      "17\n",
      "18\n",
      "19\n",
      "(u'mean_1', u'mean_2')\n",
      "(u'mean_1', u'mean_0')\n",
      "(447.0, 450.0)\n",
      "1\n",
      "(u'mean_0', u'mean_2')\n",
      "(u'mean_0', u'mean_1')\n"
     ]
    },
    {
     "ename": "IndexError",
     "evalue": "list index out of range",
     "output_type": "error",
     "traceback": [
      "\u001b[0;31m---------------------------------------------------------------------------\u001b[0m",
      "\u001b[0;31mIndexError\u001b[0m                                Traceback (most recent call last)",
      "\u001b[0;32m<ipython-input-93-32f60836dcfa>\u001b[0m in \u001b[0;36m<module>\u001b[0;34m()\u001b[0m\n\u001b[0;32m----> 1\u001b[0;31m \u001b[0mmax_sigmas\u001b[0m \u001b[0;34m=\u001b[0m \u001b[0mget_maximum_nsigma\u001b[0m\u001b[0;34m(\u001b[0m\u001b[0mmodel\u001b[0m\u001b[0;34m=\u001b[0m\u001b[0mtwo_gaussian\u001b[0m\u001b[0;34m)\u001b[0m\u001b[0;34m\u001b[0m\u001b[0m\n\u001b[0m\u001b[1;32m      2\u001b[0m \u001b[0;34m\u001b[0m\u001b[0m\n\u001b[1;32m      3\u001b[0m \u001b[0;32mfor\u001b[0m \u001b[0ms\u001b[0m \u001b[0;32min\u001b[0m \u001b[0mmax_sigmas\u001b[0m\u001b[0;34m:\u001b[0m\u001b[0;34m\u001b[0m\u001b[0m\n\u001b[1;32m      4\u001b[0m     \u001b[0;32mprint\u001b[0m\u001b[0;34m(\u001b[0m\u001b[0;34m'Using {:d} sigmas to each side'\u001b[0m\u001b[0;34m.\u001b[0m\u001b[0mformat\u001b[0m\u001b[0;34m(\u001b[0m\u001b[0ms\u001b[0m\u001b[0;34m)\u001b[0m\u001b[0;34m)\u001b[0m\u001b[0;34m\u001b[0m\u001b[0m\n\u001b[1;32m      5\u001b[0m \u001b[0;34m\u001b[0m\u001b[0m\n",
      "\u001b[0;32m<ipython-input-92-cf13b38d719b>\u001b[0m in \u001b[0;36mget_maximum_nsigma\u001b[0;34m(model)\u001b[0m\n\u001b[1;32m     21\u001b[0m \u001b[0;34m\u001b[0m\u001b[0m\n\u001b[1;32m     22\u001b[0m         \u001b[0mkey_1\u001b[0m \u001b[0;34m=\u001b[0m \u001b[0msorted_mean_keys\u001b[0m\u001b[0;34m[\u001b[0m\u001b[0mi\u001b[0m\u001b[0;34m]\u001b[0m\u001b[0;34m\u001b[0m\u001b[0m\n\u001b[0;32m---> 23\u001b[0;31m         \u001b[0mkey_2\u001b[0m \u001b[0;34m=\u001b[0m \u001b[0msorted_mean_keys\u001b[0m\u001b[0;34m[\u001b[0m\u001b[0mi\u001b[0m \u001b[0;34m+\u001b[0m \u001b[0;36m1\u001b[0m\u001b[0;34m]\u001b[0m\u001b[0;34m\u001b[0m\u001b[0m\n\u001b[0m\u001b[1;32m     24\u001b[0m \u001b[0;34m\u001b[0m\u001b[0m\n\u001b[1;32m     25\u001b[0m         \u001b[0mstddev_1\u001b[0m \u001b[0;34m=\u001b[0m \u001b[0mre\u001b[0m\u001b[0;34m.\u001b[0m\u001b[0msub\u001b[0m\u001b[0;34m(\u001b[0m\u001b[0;34m'mean'\u001b[0m\u001b[0;34m,\u001b[0m \u001b[0;34m'stddev'\u001b[0m\u001b[0;34m,\u001b[0m \u001b[0mkey_1\u001b[0m\u001b[0;34m)\u001b[0m\u001b[0;34m\u001b[0m\u001b[0m\n",
      "\u001b[0;31mIndexError\u001b[0m: list index out of range"
     ]
    }
   ],
   "source": [
    "max_sigmas = get_maximum_nsigma(model=two_gaussian)\n",
    "\n",
    "for s in max_sigmas:\n",
    "    print('Using {:d} sigmas to each side'.format(s))\n",
    "\n",
    "x_axis = range(500)\n",
    "\n",
    "plt.plot(two_gaussian(x_axis), color='b')\n",
    "for sub_model in two_gaussian:\n",
    "    plt.axvline(sub_model.mean.value, color='r')\n",
    "    plt.axvspan(sub_model.mean.value - nsigma * sub_model.stddev.value,\n",
    "                sub_model.mean.value + nsigma * sub_model.stddev.value,\n",
    "                color='r',\n",
    "                alpha=0.3)\n",
    "\n",
    "plt.show()\n",
    "\n"
   ]
  }
 ],
 "metadata": {
  "kernelspec": {
   "display_name": "Python 2",
   "language": "python",
   "name": "python2"
  },
  "language_info": {
   "codemirror_mode": {
    "name": "ipython",
    "version": 3
   },
   "file_extension": ".py",
   "mimetype": "text/x-python",
   "name": "python",
   "nbconvert_exporter": "python",
   "pygments_lexer": "ipython3",
   "version": "3.5.4"
  }
 },
 "nbformat": 4,
 "nbformat_minor": 2
}
