{
 "cells": [
  {
   "cell_type": "code",
   "execution_count": 17,
   "metadata": {
    "ExecuteTime": {
     "end_time": "2019-10-14T19:58:43.251345Z",
     "start_time": "2019-10-14T19:58:41.784992Z"
    }
   },
   "outputs": [
    {
     "name": "stdout",
     "output_type": "stream",
     "text": [
      "plots/0216_J2155.png\n",
      "/data/simon/documentation/soar/general_documentation/jupyter-notebooks/pipeline_development\n"
     ]
    }
   ],
   "source": [
    "from ccdproc import CCDData\n",
    "import os\n",
    "import numpy as np\n",
    "import matplotlib.pyplot as plt\n",
    "import re\n",
    "\n",
    "\n",
    "def _make_plot(full_path, static_path, dark=True):\n",
    "    ccd = CCDData.read(full_path, unit='adu')\n",
    "    z1 = np.mean(ccd.data) - 0.5 * np.std(ccd.data)\n",
    "    z2 = np.median(ccd.data) + np.std(ccd.data)\n",
    "    \n",
    "    if dark:\n",
    "        plt.style.use('dark_background')\n",
    "    else:\n",
    "        plt.style.use('default')\n",
    "\n",
    "    fig, ax = plt.subplots(figsize=(16, 9))\n",
    "\n",
    "    if 'Spectroscopic' in ccd.header['ROI']:\n",
    "        ax.set_xlabel('Dispersion Axis (Pixels)')\n",
    "        ax.set_ylabel('Spatial Axis (Pixels)')\n",
    "    else:\n",
    "        ax.set_xlabel('X-axis')\n",
    "        ax.set_ylabel('Y-Axis')\n",
    "\n",
    "    ax.imshow(ccd.data, clim=(z1, z2), cmap='viridis')\n",
    "    plt.tight_layout()\n",
    "\n",
    "    if os.path.isabs(static_path):\n",
    "        save_full_path = os.path.join(static_path,\n",
    "                                      re.sub('.fits',\n",
    "                                             '.png',\n",
    "                                             os.path.basename(full_path)))\n",
    "    else:\n",
    "        save_full_path = os.path.join(os.path.join(os.getcwd(), static_path),\n",
    "                                      re.sub('.fits', '.png',\n",
    "                                             os.path.basename(full_path)))\n",
    "\n",
    "    plt.savefig(save_full_path, format='png',bbox_inches='tight', transparent=True)\n",
    "\n",
    "    static_location = os.path.join('plots', os.path.basename(save_full_path))\n",
    "\n",
    "    return static_location\n",
    "\n",
    "file = \"/user/simon/Downloads/2019-10-05/0216_J2155.fits\"\n",
    "new_path = _make_plot(full_path=file, static_path=os.getcwd(), dark=False)\n",
    "print(new_path)\n",
    "print(os.getcwd())"
   ]
  },
  {
   "cell_type": "markdown",
   "metadata": {},
   "source": [
    "![plot](0216_J2155.png)"
   ]
  },
  {
   "cell_type": "code",
   "execution_count": null,
   "metadata": {
    "collapsed": true
   },
   "outputs": [],
   "source": []
  }
 ],
 "metadata": {
  "kernelspec": {
   "display_name": "Python 3",
   "language": "python",
   "name": "python3"
  },
  "language_info": {
   "codemirror_mode": {
    "name": "ipython",
    "version": 3
   },
   "file_extension": ".py",
   "mimetype": "text/x-python",
   "name": "python",
   "nbconvert_exporter": "python",
   "pygments_lexer": "ipython3",
   "version": "3.5.4"
  },
  "toc": {
   "base_numbering": 1,
   "nav_menu": {},
   "number_sections": true,
   "sideBar": true,
   "skip_h1_title": false,
   "title_cell": "Table of Contents",
   "title_sidebar": "Contents",
   "toc_cell": false,
   "toc_position": {},
   "toc_section_display": true,
   "toc_window_display": false
  }
 },
 "nbformat": 4,
 "nbformat_minor": 2
}
