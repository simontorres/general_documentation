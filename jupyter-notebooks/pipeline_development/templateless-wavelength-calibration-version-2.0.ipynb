{
 "cells": [
  {
   "cell_type": "markdown",
   "metadata": {},
   "source": [
    "# New Idea\n",
    "\n",
    "- Create mask but use relative intensity in count scale \n",
    "  + The least intense will have intensity 1 the n-most intense will have intensity n\n",
    "- Maybe don't use a width in the mask, just add  the \"relative intensity\" to the specific pixel."
   ]
  }
 ],
 "metadata": {
  "kernelspec": {
   "display_name": "Python 3",
   "language": "python",
   "name": "python3"
  },
  "language_info": {
   "codemirror_mode": {
    "name": "ipython",
    "version": 3
   },
   "file_extension": ".py",
   "mimetype": "text/x-python",
   "name": "python",
   "nbconvert_exporter": "python",
   "pygments_lexer": "ipython3",
   "version": "3.6.3"
  }
 },
 "nbformat": 4,
 "nbformat_minor": 2
}
