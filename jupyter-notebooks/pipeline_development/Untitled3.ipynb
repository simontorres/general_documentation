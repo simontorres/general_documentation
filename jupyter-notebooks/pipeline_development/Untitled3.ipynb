{
 "cells": [
  {
   "cell_type": "code",
   "execution_count": 11,
   "id": "1697717a",
   "metadata": {},
   "outputs": [],
   "source": [
    "import os\n",
    "import json\n",
    "import logging\n",
    "import numpy as np\n",
    "import goodman_pipeline\n",
    "from astropy.io import fits\n",
    "\n",
    "from ccdproc import CCDData\n",
    "\n",
    "from goodman_pipeline.spectroscopy import WavelengthCalibration\n",
    "from goodman_pipeline.core import add_wcs_keys, write_fits\n",
    "\n",
    "log = logging.getLogger(__name__)\n",
    "\n",
    "wc = WavelengthCalibration()\n",
    "\n",
    "ccd = CCDData(data=np.random.random_sample(200),\n",
    "              meta=fits.Header(),\n",
    "              unit='adu')\n",
    "\n",
    "ccd = add_wcs_keys(ccd=ccd)\n",
    "ccd.header.set('SLIT',\n",
    "               value='1.0_LONG_SLIT',\n",
    "               comment=\"slit [arcsec]\")\n",
    "ccd.header.set('GSP_FNAM',\n",
    "               value='some_name.fits',\n",
    "               comment='Name of the current file')\n",
    "ccd.header.set('OBSTYPE',\n",
    "               value='SPECTRUM',\n",
    "               comment='Obstype')\n",
    "ccd.header.set('OBJECT',\n",
    "               value='An X Object',\n",
    "               comment='Some random object name')\n",
    "ccd.header.set('GSP_FLAT',\n",
    "               value='some_flat_file.fits',\n",
    "               comment='The name of the flat')\n",
    "ccd.header.set('CCDSUM',\n",
    "               value='1 1',\n",
    "               comment='Binning')\n",
    "ccd.header.set('WAVMODE',\n",
    "               value='400 M1',\n",
    "               comment='wavmode')\n",
    "\n",
    "lamp = ccd.copy()\n",
    "lamp.header.set('OBSTYPE',\n",
    "                value='COMP',\n",
    "                comment='Comparison lamp obstype')\n",
    "lamp.header.set('OBJECT', value='HgArNe')\n",
    "\n"
   ]
  },
  {
   "cell_type": "code",
   "execution_count": 21,
   "id": "1c35e70d",
   "metadata": {},
   "outputs": [
    {
     "name": "stdout",
     "output_type": "stream",
     "text": [
      "1.3.4\n"
     ]
    }
   ],
   "source": [
    "print(goodman_pipeline.__version__)"
   ]
  },
  {
   "cell_type": "code",
   "execution_count": 17,
   "id": "ef2272b8",
   "metadata": {},
   "outputs": [
    {
     "name": "stdout",
     "output_type": "stream",
     "text": [
      "/home/simon/.local/lib/python3.8/site-packages/goodman_pipeline/data/ref_comp\n"
     ]
    }
   ],
   "source": [
    "reference_path = os.path.join(os.path.dirname(goodman_pipeline.__file__), 'data/ref_comp')\n",
    "print(reference_path)"
   ]
  },
  {
   "cell_type": "code",
   "execution_count": 19,
   "id": "2d5b4e01",
   "metadata": {},
   "outputs": [
    {
     "name": "stdout",
     "output_type": "stream",
     "text": [
      "goodman_comp_1200M1_Ar.fits\t       goodman_comp_600Blue_HgAr.fits\r\n",
      "goodman_comp_1200M1_CuHeAr.fits        goodman_comp_600Blue_HgArNe.fits\r\n",
      "goodman_comp_1200M1_FeHeAr.fits        goodman_comp_600Mid_GG385_HgAr.fits\r\n",
      "goodman_comp_1200M2_CuHeAr.fits        goodman_comp_600Mid_GG385_HgArNe.fits\r\n",
      "goodman_comp_1200M2_FeHeAr.fits        goodman_comp_600Red_GG495_Ar.fits\r\n",
      "goodman_comp_1200M3_CuHeAr.fits        goodman_comp_600Red_GG495_CuHeAr.fits\r\n",
      "goodman_comp_1200M3_FeHeAr.fits        goodman_comp_600Red_GG495_FeHeAr.fits\r\n",
      "goodman_comp_1200M4_GG455_CuHeAr.fits  goodman_comp_600Red_GG495_HgAr.fits\r\n",
      "goodman_comp_1200M4_GG455_FeHeAr.fits  goodman_comp_600Red_GG495_HgArNe.fits\r\n",
      "goodman_comp_1200M4_GG455_HgArNe.fits  goodman_comp_600Red_GG495_Ne.fits\r\n",
      "goodman_comp_1200M4_GG455_Ne.fits      goodman_comp_600UV_CuHeAr.fits\r\n",
      "goodman_comp_1200M5_GG455_Ar.fits      goodman_comp_600UV_HgAr.fits\r\n",
      "goodman_comp_1200M5_GG455_CuHeAr.fits  goodman_comp_600UV_HgArNe.fits\r\n",
      "goodman_comp_1200M5_GG455_FeHeAr.fits  goodman_comp_930M1_HgAr.fits\r\n",
      "goodman_comp_1200M5_GG455_HgAr.fits    goodman_comp_930M1_HgArNe.fits\r\n",
      "goodman_comp_1200M5_GG455_HgArNe.fits  goodman_comp_930M2_Ar.fits\r\n",
      "goodman_comp_1200M5_GG455_Ne.fits      goodman_comp_930M2_CuHeAr.fits\r\n",
      "goodman_comp_1200M6_GG495_Ar.fits      goodman_comp_930M2_FeHeAr.fits\r\n",
      "goodman_comp_1200M6_GG495_CuHeAr.fits  goodman_comp_930M2_HgAr.fits\r\n",
      "goodman_comp_1200M6_GG495_FeHeAr.fits  goodman_comp_930M2_HgArNe.fits\r\n",
      "goodman_comp_1200M6_GG495_HgAr.fits    goodman_comp_930M3_GG385_CuHeAr.fits\r\n",
      "goodman_comp_1200M6_GG495_HgArNe.fits  goodman_comp_930M3_GG385_FeHeAr.fits\r\n",
      "goodman_comp_1200M6_GG495_Ne.fits      goodman_comp_930M4_GG495_CuHeAr.fits\r\n",
      "goodman_comp_1200M7_OG570_Ar.fits      goodman_comp_930M4_GG495_HgAr.fits\r\n",
      "goodman_comp_1200M7_OG570_CuHeAr.fits  goodman_comp_930M4_GG495_HgArNe.fits\r\n",
      "goodman_comp_1200M7_OG570_FeHeAr.fits  goodman_comp_930M4_GG495_Ne.fits\r\n",
      "goodman_comp_1200M7_OG570_HgAr.fits    goodman_comp_930M5_GG495_Ar.fits\r\n",
      "goodman_comp_1200M7_OG570_HgArNe.fits  goodman_comp_930M5_GG495_CuHeAr.fits\r\n",
      "goodman_comp_1200M7_OG570_Ne.fits      goodman_comp_930M5_GG495_FeHeAr.fits\r\n",
      "goodman_comp_400M1_HgAr.fits\t       goodman_comp_930M5_GG495_HgAr.fits\r\n",
      "goodman_comp_400M1_HgArNe.fits\t       goodman_comp_930M5_GG495_HgArNe.fits\r\n",
      "goodman_comp_400M2_GG455_Ar.fits       goodman_comp_930M5_GG495_Ne.fits\r\n",
      "goodman_comp_400M2_GG455_CuHeAr.fits   goodman_comp_930M6_OG570_Ar.fits\r\n",
      "goodman_comp_400M2_GG455_FeHeAr.fits   goodman_comp_930M6_OG570_CuHeAr.fits\r\n",
      "goodman_comp_400M2_GG455_HgAr.fits     goodman_comp_930M6_OG570_FeHeAr.fits\r\n",
      "goodman_comp_400M2_GG455_HgArNe.fits   goodman_comp_930M6_OG570_HgAr.fits\r\n",
      "goodman_comp_400M2_GG455_Ne.fits       goodman_comp_930M6_OG570_HgArNe.fits\r\n",
      "goodman_comp_600Blue_CuHeAr.fits       goodman_comp_930M6_OG570_Ne.fits\r\n"
     ]
    }
   ],
   "source": [
    "!ls /home/simon/.local/lib/python3.8/site-packages/goodman_pipeline/data/ref_comp\n"
   ]
  },
  {
   "cell_type": "code",
   "execution_count": 22,
   "id": "aafe9ceb",
   "metadata": {},
   "outputs": [
    {
     "name": "stderr",
     "output_type": "stream",
     "text": [
      "/home/simon/.local/lib/python3.8/site-packages/goodman_pipeline/core/core.py:1548: MatplotlibDeprecationWarning: \n",
      "The set_window_title function was deprecated in Matplotlib 3.4 and will be removed two minor releases later. Use manager.set_window_title or GUI-specific methods instead.\n",
      "  fig.canvas.set_window_title('Lines Detected')\n"
     ]
    },
    {
     "ename": "AttributeError",
     "evalue": "'FigureManagerBase' object has no attribute 'window'",
     "output_type": "error",
     "traceback": [
      "\u001b[0;31m---------------------------------------------------------------------------\u001b[0m",
      "\u001b[0;31mAttributeError\u001b[0m                            Traceback (most recent call last)",
      "\u001b[0;32m<ipython-input-22-0f6214b2fdd9>\u001b[0m in \u001b[0;36m<module>\u001b[0;34m\u001b[0m\n\u001b[1;32m      1\u001b[0m \u001b[0;32mimport\u001b[0m \u001b[0mjson\u001b[0m\u001b[0;34m\u001b[0m\u001b[0;34m\u001b[0m\u001b[0m\n\u001b[0;32m----> 2\u001b[0;31m json_output = wc(ccd=ccd,\n\u001b[0m\u001b[1;32m      3\u001b[0m                   \u001b[0mcomp_list\u001b[0m\u001b[0;34m=\u001b[0m\u001b[0;34m[\u001b[0m\u001b[0mlamp\u001b[0m\u001b[0;34m]\u001b[0m\u001b[0;34m,\u001b[0m\u001b[0;34m\u001b[0m\u001b[0;34m\u001b[0m\u001b[0m\n\u001b[1;32m      4\u001b[0m                   \u001b[0msave_data_to\u001b[0m\u001b[0;34m=\u001b[0m\u001b[0;34m''\u001b[0m\u001b[0;34m,\u001b[0m\u001b[0;34m\u001b[0m\u001b[0;34m\u001b[0m\u001b[0m\n\u001b[1;32m      5\u001b[0m                   \u001b[0mreference_data\u001b[0m\u001b[0;34m=\u001b[0m\u001b[0mreference_path\u001b[0m\u001b[0;34m,\u001b[0m\u001b[0;34m\u001b[0m\u001b[0;34m\u001b[0m\u001b[0m\n",
      "\u001b[0;32m~/.local/lib/python3.8/site-packages/goodman_pipeline/spectroscopy/wavelength.py\u001b[0m in \u001b[0;36m__call__\u001b[0;34m(self, ccd, comp_list, save_data_to, reference_data, object_number, corr_tolerance, output_prefix, plot_results, save_plots, plots, json_output)\u001b[0m\n\u001b[1;32m    182\u001b[0m                          '{:s}'.format(self.lamp_name))\n\u001b[1;32m    183\u001b[0m \u001b[0;34m\u001b[0m\u001b[0m\n\u001b[0;32m--> 184\u001b[0;31m                 self.lines_center = get_lines_in_lamp(\n\u001b[0m\u001b[1;32m    185\u001b[0m                     ccd=self.lamp, plots=plots)\n\u001b[1;32m    186\u001b[0m                 \u001b[0;32mtry\u001b[0m\u001b[0;34m:\u001b[0m\u001b[0;34m\u001b[0m\u001b[0;34m\u001b[0m\u001b[0m\n",
      "\u001b[0;32m~/.local/lib/python3.8/site-packages/goodman_pipeline/core/core.py\u001b[0m in \u001b[0;36mget_lines_in_lamp\u001b[0;34m(ccd, plots)\u001b[0m\n\u001b[1;32m   1549\u001b[0m \u001b[0;34m\u001b[0m\u001b[0m\n\u001b[1;32m   1550\u001b[0m         \u001b[0mmng\u001b[0m \u001b[0;34m=\u001b[0m \u001b[0mplt\u001b[0m\u001b[0;34m.\u001b[0m\u001b[0mget_current_fig_manager\u001b[0m\u001b[0;34m(\u001b[0m\u001b[0;34m)\u001b[0m\u001b[0;34m\u001b[0m\u001b[0;34m\u001b[0m\u001b[0m\n\u001b[0;32m-> 1551\u001b[0;31m         \u001b[0mmng\u001b[0m\u001b[0;34m.\u001b[0m\u001b[0mwindow\u001b[0m\u001b[0;34m.\u001b[0m\u001b[0mshowMaximized\u001b[0m\u001b[0;34m(\u001b[0m\u001b[0;34m)\u001b[0m\u001b[0;34m\u001b[0m\u001b[0;34m\u001b[0m\u001b[0m\n\u001b[0m\u001b[1;32m   1552\u001b[0m \u001b[0;34m\u001b[0m\u001b[0m\n\u001b[1;32m   1553\u001b[0m         ax.set_title('Lines detected in Lamp\\n'\n",
      "\u001b[0;31mAttributeError\u001b[0m: 'FigureManagerBase' object has no attribute 'window'"
     ]
    },
    {
     "data": {
      "image/png": "[encoded data removed]",
      "text/plain": [
       "<Figure size 432x288 with 1 Axes>"
      ]
     },
     "metadata": {
      "needs_background": "light"
     },
     "output_type": "display_data"
    }
   ],
   "source": [
    "import json\n",
    "json_output = wc(ccd=ccd,\n",
    "                  comp_list=[lamp],\n",
    "                  save_data_to='',\n",
    "                  reference_data=reference_path,\n",
    "                  json_output=True, plots=True)\n",
    "print(json.dumps(json_output, indent=4))"
   ]
  },
  {
   "cell_type": "code",
   "execution_count": null,
   "id": "6d8d3b93",
   "metadata": {},
   "outputs": [],
   "source": []
  }
 ],
 "metadata": {
  "kernelspec": {
   "display_name": "Python 3",
   "language": "python",
   "name": "python3"
  },
  "language_info": {
   "codemirror_mode": {
    "name": "ipython",
    "version": 3
   },
   "file_extension": ".py",
   "mimetype": "text/x-python",
   "name": "python",
   "nbconvert_exporter": "python",
   "pygments_lexer": "ipython3",
   "version": "3.8.10"
  }
 },
 "nbformat": 4,
 "nbformat_minor": 5
}
