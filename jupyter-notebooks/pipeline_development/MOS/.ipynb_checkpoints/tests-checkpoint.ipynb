{
 "cells": [
  {
   "cell_type": "code",
   "execution_count": 1,
   "metadata": {
    "ExecuteTime": {
     "end_time": "2020-06-10T15:59:46.520585Z",
     "start_time": "2020-06-10T15:59:46.401498Z"
    }
   },
   "outputs": [
    {
     "name": "stdout",
     "output_type": "stream",
     "text": [
      "0445_lamp_HgArNe_0133_6434.fits       0455_alignment_0133_6434.fits\r\n",
      "0446_lamp_HgArNe_0133_6434.fits       0456_alignment_0133_6434.fits\r\n",
      "0447_lamp_HgArNe_0253_6046.fits       0457_alignment_0133_6434.fits\r\n",
      "0448_lamp_HgArNe_0254_6051_msk2.fits  0458_alignment_0133_6434.fits\r\n",
      "0449_alignment_0133_6434.fits\t      0459_alignment_0133_6434.fits\r\n",
      "0450_alignment_0133_6434.fits\t      0460_alignment_0133_6434.fits\r\n",
      "0451_alignment_0133_6434.fits\t      0461_Spectrum_0133_6434.fits\r\n",
      "0452_alignment_0133_6434.fits\t      0462_Spectrum_0133_6434.fits\r\n",
      "0453_alignment_0133_6434.fits\t      0463_Spectrum_0133_6434.fits\r\n",
      "0454_alignment_0133_6434.fits\t      0464_HgArNe_0133_6434.fits\r\n"
     ]
    }
   ],
   "source": [
    "!ls data\n"
   ]
  },
  {
   "cell_type": "code",
   "execution_count": null,
   "metadata": {
    "ExecuteTime": {
     "start_time": "2020-06-10T16:10:36.863Z"
    }
   },
   "outputs": [],
   "source": [
    "from ccdproc import CCDData\n",
    "import matplotlib.pyplot as plt"
   ]
  },
  {
   "cell_type": "code",
   "execution_count": null,
   "metadata": {
    "ExecuteTime": {
     "start_time": "2020-06-10T16:12:20.800Z"
    }
   },
   "outputs": [],
   "source": [
    "def plot_2d_data(ccd, title=''):\n",
    "    fig, ax = plt.subplots(figsize=(16,9))\n",
    "    \n",
    "    ax.plot(ccd.data)"
   ]
  },
  {
   "cell_type": "code",
   "execution_count": null,
   "metadata": {},
   "outputs": [],
   "source": [
    "ccd = CCDD"
   ]
  }
 ],
 "metadata": {
  "kernelspec": {
   "display_name": "Python 3",
   "language": "python",
   "name": "python3"
  },
  "language_info": {
   "codemirror_mode": {
    "name": "ipython",
    "version": 3
   },
   "file_extension": ".py",
   "mimetype": "text/x-python",
   "name": "python",
   "nbconvert_exporter": "python",
   "pygments_lexer": "ipython3",
   "version": "3.7.4"
  },
  "toc": {
   "base_numbering": 1,
   "nav_menu": {},
   "number_sections": true,
   "sideBar": true,
   "skip_h1_title": false,
   "title_cell": "Table of Contents",
   "title_sidebar": "Contents",
   "toc_cell": false,
   "toc_position": {},
   "toc_section_display": true,
   "toc_window_display": false
  }
 },
 "nbformat": 4,
 "nbformat_minor": 2
}
