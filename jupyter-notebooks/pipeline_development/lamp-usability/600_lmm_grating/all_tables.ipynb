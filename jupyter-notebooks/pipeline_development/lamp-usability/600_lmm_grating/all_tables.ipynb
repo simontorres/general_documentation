{
 "cells": [
  {
   "cell_type": "markdown",
   "metadata": {},
   "source": [
    "# All tables - Summary"
   ]
  },
  {
   "cell_type": "markdown",
   "metadata": {},
   "source": [
    "## Wavelength Calibrated\n",
    "\n",
    "File | Usable | Wavelength Calibrated | Comments\n",
    "--- | --- | ---\n",
    "goodman_comp_600UV_Ar.fits            | No  | No  |\n",
    "goodman_comp_600UV_CuHeAr.fits        | Yes | No  | Is the background too large?, file missing\n",
    "goodman_comp_600UV_FeHeAr.fits        | No  | No  |\n",
    "goodman_comp_600UV_HgAr.fits          | Yes | Yes |\n",
    "goodman_comp_600UV_HgArNe.fits        | Yes | Yes |\n",
    "goodman_comp_600UV_Ne.fits            | No  | No  |\n",
    "                                      |     |     |\n",
    "goodman_comp_600Blue_Ar.fits          | No  | No  |\n",
    "goodman_comp_600Blue_CuHeAr.fits      | Yes | Yes |\n",
    "goodman_comp_600Blue_FeHeAr.fits      | No  | No  |\n",
    "goodman_comp_600Blue_HgAr.fits        | Yes | Yes |\n",
    "goodman_comp_600Blue_HgArNe.fits      | Yes | Yes |\n",
    "goodman_comp_600Blue_Ne.fits          | No  | No  |\n",
    "                                      |     |     |\n",
    "goodman_comp_600Mid_GG385_Ar.fits     | No  | No  |\n",
    "goodman_comp_600Mid_GG385_CuHeAr.fits | No  | No  |\n",
    "goodman_comp_600Mid_GG385_FeHeAr.fits | No  | No  |\n",
    "goodman_comp_600Mid_GG385_HgAr.fits   | Yes | Yes |\n",
    "goodman_comp_600Mid_GG385_HgArNe.fits | Yes | Yes |\n",
    "goodman_comp_600Mid_GG385_Ne.fits     | No  | No  |\n",
    "                                      |     |     |\n",
    "goodman_comp_600Red_GG495_Ar.fits     | Yes | Yes |\n",
    "goodman_comp_600Red_GG495_CuHeAr.fits | Yes | Yes |\n",
    "goodman_comp_600Red_GG495_FeHeAr.fits | Yes | Yes |\n",
    "goodman_comp_600Red_GG495_HgAr.fits   | Yes | Yes |\n",
    "goodman_comp_600Red_GG495_HgArNe.fits | Yes | Yes |\n",
    "goodman_comp_600Red_GG495_Ne.fits     | Yes | Yes |"
   ]
  },
  {
   "cell_type": "markdown",
   "metadata": {},
   "source": [
    "# 600 l/mm UV\n",
    "Lamp   | Usable | Comments\n",
    "---    | ---    | ---\n",
    "Ne     | No     | Few lines and high background\n",
    "FeHeAr | No     | Bad line distribution and signal\n",
    "Ar     | No     | Bad line distribution and signal\n",
    "HgAr   | Yes    | Best\n",
    "CuHeAr | Yes    | Not recommended\n",
    "HgArNe | Yes    | Prefer HgAr"
   ]
  },
  {
   "cell_type": "markdown",
   "metadata": {},
   "source": [
    "# 600 l/mm Blue\n",
    "Lamp | Usable | Comments\n",
    "--- | --- | ---\n",
    "Ne | No | Too few lines and not conveniently located\n",
    "FeHeAr | No | Large background noise\n",
    "Ar | No | Too much background\n",
    "HgAr | Yes | Best\n",
    "CuHeAr | Yes | A bit too crowded\n",
    "HgArNe | Yes| Prefer HgAr"
   ]
  },
  {
   "cell_type": "markdown",
   "metadata": {},
   "source": [
    "# 600 l/mm Mid\n",
    "Lamp   | Usable | Comments\n",
    "---    | ---    | ---\n",
    "Ne     | No     | Lines cover only half of the detector\n",
    "FeHeAr | No     | Not enough lines\n",
    "Ar     | No     | Not enough lines\n",
    "HgAr   | Yes    | Prefer HgArNe if you want more lines\n",
    "CuHeAr | No     | Not enough lines\n",
    "HgArNe | Yes    | Best, though coverage is not ideal"
   ]
  },
  {
   "cell_type": "markdown",
   "metadata": {},
   "source": [
    "# 600 l/mm Red\n",
    "\n",
    "**_Ar_ seems to be the only element contributing with lines**\n",
    "\n",
    "Lamp   | Usable | Comments\n",
    "---    | ---    | ---\n",
    "Ne     | Yes    | Coverage less than ideal\n",
    "FeHeAr | Yes    | None\n",
    "Ar     | Yes    | Best\n",
    "HgAr   | Yes    | None\n",
    "CuHeAr | Yes    | None\n",
    "HgArNe | Yes    | None"
   ]
  },
  {
   "cell_type": "code",
   "execution_count": null,
   "metadata": {
    "collapsed": true
   },
   "outputs": [],
   "source": []
  }
 ],
 "metadata": {
  "kernelspec": {
   "display_name": "Python 3",
   "language": "python",
   "name": "python3"
  },
  "language_info": {
   "codemirror_mode": {
    "name": "ipython",
    "version": 3
   },
   "file_extension": ".py",
   "mimetype": "text/x-python",
   "name": "python",
   "nbconvert_exporter": "python",
   "pygments_lexer": "ipython3",
   "version": "3.6.3"
  }
 },
 "nbformat": 4,
 "nbformat_minor": 2
}
