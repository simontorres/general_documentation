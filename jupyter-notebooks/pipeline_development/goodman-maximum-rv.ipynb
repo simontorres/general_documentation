{
 "cells": [
  {
   "cell_type": "markdown",
   "metadata": {},
   "source": [
    "# Goodman's Maximum Radial Velocity Precision\n",
    "\n",
    "Let's start by defining some simple functions:"
   ]
  },
  {
   "cell_type": "code",
   "execution_count": 26,
   "metadata": {},
   "outputs": [],
   "source": [
    "from astropy import constants\n",
    "from astropy import units as u\n",
    "import numpy as np\n",
    "import sys\n",
    "sys.path.append('/user/simon/development/soar/goodman')\n",
    "from pipeline.core import SpectroscopicMode\n",
    "# print(constants.c)\n",
    "kms = u.km / u.s\n",
    "\n",
    "gratings = [400, 600, 930, 1200, 1800, 2100, 2400] \n",
    "grating_modes = {400:['m1', 'm2'],\n",
    "                 600:['UV', 'Blue', 'Mid', 'Red'],\n",
    "                 930:['m1', 'm2', 'm3', 'm4', 'm5', 'm6'],\n",
    "                 1200:['m0','m1', 'm2', 'm3', 'm4', 'm5', 'm6', 'm7'],\n",
    "                 1800:['Custom'],\n",
    "                 2100:['Custom'],\n",
    "                 2400:['Custom']}\n",
    "grating_dispersion = {400:1.0,\n",
    "                      600:0.65,\n",
    "                      930:0.42,\n",
    "                      1200:0.31,\n",
    "                      1800:0.19,\n",
    "                      2100:0.15,\n",
    "                      2400:0.12}\n",
    "\n",
    "slit_sizes = [0.45, 1.0, 3.0, 5.0] * u.arcsec\n",
    "\n",
    "pixel_size = 15 * u.micrometer\n",
    "pixel_scale = 0.15 * u.arcsec\n",
    "goodman_focal_length = 377.3 * u.mm\n",
    "\n",
    "def get_central_wavelength(grating, grt_ang, cam_ang):\n",
    "    \"\"\"Calculates the central wavelength for a given spectroscopic mode\n",
    "\n",
    "    The equation used to calculate the central wavelength is the following\n",
    "\n",
    "\n",
    "    .. math::\n",
    "        \\\\lambda_{central} = \\\\frac{1e6}{GRAT}\n",
    "        \\\\sin\\\\left(\\\\frac{\\\\alpha \\\\pi}{180}\\\\right) +\n",
    "        \\\\sin\\\\left(\\\\frac{\\\\beta \\\\pi}{180}\\\\right)\n",
    "\n",
    "\n",
    "    Args:\n",
    "        grating (str): Grating frequency as a string. Example '400'.\n",
    "        grt_ang (str): Grating Angle as a string. Example '12.0'.\n",
    "        cam_ang (str): Camera Angle as a string. Example '20.0'\n",
    "\n",
    "    Returns:\n",
    "        central_wavelength (float): Central wavelength as a float value.\n",
    "\n",
    "    \"\"\"\n",
    "\n",
    "    grating_frequency = float(grating)\n",
    "    alpha = float(grt_ang)\n",
    "    beta = float(cam_ang) - float(grt_ang)\n",
    "\n",
    "    central_wavelength = (1e6 / grating_frequency) * \\\n",
    "                         (np.sin(alpha * np.pi / 180.) +\n",
    "                          np.sin(beta * np.pi / 180.))\n",
    "\n",
    "    # print('Found {:.3f} as central wavelength'.format(central_wavelength))\n",
    "\n",
    "    return central_wavelength\n",
    "\n",
    "def rv_value(rest, measured):\n",
    "    \"\"\"Calculates Radial Velocity based using rest frame wavelength value versus measured\"\"\"\n",
    "    print(\"Shift for {:s}: {:s}\".format(str(rest.value), str(rest.value - measured)))\n",
    "    rv = ((measured - rest.value)/rest.value) * constants.c.value\n",
    "    # print(rv * constants.c.unit)\n",
    "    rm_ms = rv * constants.c.unit\n",
    "    return rm_ms.to(kms)"
   ]
  },
  {
   "cell_type": "code",
   "execution_count": 31,
   "metadata": {
    "collapsed": true
   },
   "outputs": [],
   "source": [
    "def print_table_(gratings, modes, cws, disps, rs, speeds):\n",
    "    field_length = []\n",
    "    for field in [gratings, modes, cws, disps, rs, speeds]:\n",
    "        lengths = [len(i) for i in field]\n",
    "        field_length.append(np.max(lengths))\n",
    "    line_sep = \"+\"\n",
    "    for fl in field_length:\n",
    "        line_sep += '-' * fl + '+'\n",
    "    print(line_sep)\n"
   ]
  },
  {
   "cell_type": "code",
   "execution_count": 32,
   "metadata": {
    "scrolled": false
   },
   "outputs": [
    {
     "name": "stderr",
     "output_type": "stream",
     "text": [
      "WARNING: 03:41:26PM: Grating 1800 does not define modes.\n",
      "WARNING: 03:41:26PM: Grating 2100 does not define modes.\n",
      "WARNING: 03:41:26PM: Grating 2400 does not define modes.\n"
     ]
    },
    {
     "name": "stdout",
     "output_type": "stream",
     "text": [
      "Error\n",
      "Error\n",
      "Error\n"
     ]
    },
    {
     "ename": "TypeError",
     "evalue": "object of type 'int' has no len()",
     "output_type": "error",
     "traceback": [
      "\u001b[0;31m---------------------------------------------------------------------------\u001b[0m",
      "\u001b[0;31mTypeError\u001b[0m                                 Traceback (most recent call last)",
      "\u001b[0;32m<ipython-input-32-1078acc2b4e8>\u001b[0m in \u001b[0;36m<module>\u001b[0;34m()\u001b[0m\n\u001b[1;32m     34\u001b[0m         \u001b[0;32mexcept\u001b[0m \u001b[0mTypeError\u001b[0m\u001b[0;34m:\u001b[0m\u001b[0;34m\u001b[0m\u001b[0m\n\u001b[1;32m     35\u001b[0m             \u001b[0mprint\u001b[0m\u001b[0;34m(\u001b[0m\u001b[0;34m\"Error\"\u001b[0m\u001b[0;34m)\u001b[0m\u001b[0;34m\u001b[0m\u001b[0m\n\u001b[0;32m---> 36\u001b[0;31m \u001b[0mprint_table_\u001b[0m\u001b[0;34m(\u001b[0m\u001b[0mgratings\u001b[0m\u001b[0;34m,\u001b[0m \u001b[0mgrating_modes\u001b[0m\u001b[0;34m,\u001b[0m \u001b[0mcenter_wav\u001b[0m\u001b[0;34m,\u001b[0m \u001b[0mgrating_dispersion\u001b[0m\u001b[0;34m,\u001b[0m \u001b[0mresolving_power\u001b[0m\u001b[0;34m,\u001b[0m \u001b[0mspeeds\u001b[0m\u001b[0;34m)\u001b[0m\u001b[0;34m\u001b[0m\u001b[0m\n\u001b[0m\u001b[1;32m     37\u001b[0m \u001b[0;34m\u001b[0m\u001b[0m\n",
      "\u001b[0;32m<ipython-input-31-c8843f49d6a8>\u001b[0m in \u001b[0;36mprint_table_\u001b[0;34m(gratings, modes, cws, disps, rs, speeds)\u001b[0m\n\u001b[1;32m      2\u001b[0m     \u001b[0mfield_length\u001b[0m \u001b[0;34m=\u001b[0m \u001b[0;34m[\u001b[0m\u001b[0;34m]\u001b[0m\u001b[0;34m\u001b[0m\u001b[0m\n\u001b[1;32m      3\u001b[0m     \u001b[0;32mfor\u001b[0m \u001b[0mfield\u001b[0m \u001b[0;32min\u001b[0m \u001b[0;34m[\u001b[0m\u001b[0mgratings\u001b[0m\u001b[0;34m,\u001b[0m \u001b[0mmodes\u001b[0m\u001b[0;34m,\u001b[0m \u001b[0mcws\u001b[0m\u001b[0;34m,\u001b[0m \u001b[0mdisps\u001b[0m\u001b[0;34m,\u001b[0m \u001b[0mrs\u001b[0m\u001b[0;34m,\u001b[0m \u001b[0mspeeds\u001b[0m\u001b[0;34m]\u001b[0m\u001b[0;34m:\u001b[0m\u001b[0;34m\u001b[0m\u001b[0m\n\u001b[0;32m----> 4\u001b[0;31m         \u001b[0mlengths\u001b[0m \u001b[0;34m=\u001b[0m \u001b[0;34m[\u001b[0m\u001b[0mlen\u001b[0m\u001b[0;34m(\u001b[0m\u001b[0mi\u001b[0m\u001b[0;34m)\u001b[0m \u001b[0;32mfor\u001b[0m \u001b[0mi\u001b[0m \u001b[0;32min\u001b[0m \u001b[0mfield\u001b[0m\u001b[0;34m]\u001b[0m\u001b[0;34m\u001b[0m\u001b[0m\n\u001b[0m\u001b[1;32m      5\u001b[0m         \u001b[0mfield_length\u001b[0m\u001b[0;34m.\u001b[0m\u001b[0mappend\u001b[0m\u001b[0;34m(\u001b[0m\u001b[0mnp\u001b[0m\u001b[0;34m.\u001b[0m\u001b[0mmax\u001b[0m\u001b[0;34m(\u001b[0m\u001b[0mlengths\u001b[0m\u001b[0;34m)\u001b[0m\u001b[0;34m)\u001b[0m\u001b[0;34m\u001b[0m\u001b[0m\n\u001b[1;32m      6\u001b[0m     \u001b[0mline_sep\u001b[0m \u001b[0;34m=\u001b[0m \u001b[0;34m\"+\"\u001b[0m\u001b[0;34m\u001b[0m\u001b[0m\n",
      "\u001b[0;32m<ipython-input-31-c8843f49d6a8>\u001b[0m in \u001b[0;36m<listcomp>\u001b[0;34m(.0)\u001b[0m\n\u001b[1;32m      2\u001b[0m     \u001b[0mfield_length\u001b[0m \u001b[0;34m=\u001b[0m \u001b[0;34m[\u001b[0m\u001b[0;34m]\u001b[0m\u001b[0;34m\u001b[0m\u001b[0m\n\u001b[1;32m      3\u001b[0m     \u001b[0;32mfor\u001b[0m \u001b[0mfield\u001b[0m \u001b[0;32min\u001b[0m \u001b[0;34m[\u001b[0m\u001b[0mgratings\u001b[0m\u001b[0;34m,\u001b[0m \u001b[0mmodes\u001b[0m\u001b[0;34m,\u001b[0m \u001b[0mcws\u001b[0m\u001b[0;34m,\u001b[0m \u001b[0mdisps\u001b[0m\u001b[0;34m,\u001b[0m \u001b[0mrs\u001b[0m\u001b[0;34m,\u001b[0m \u001b[0mspeeds\u001b[0m\u001b[0;34m]\u001b[0m\u001b[0;34m:\u001b[0m\u001b[0;34m\u001b[0m\u001b[0m\n\u001b[0;32m----> 4\u001b[0;31m         \u001b[0mlengths\u001b[0m \u001b[0;34m=\u001b[0m \u001b[0;34m[\u001b[0m\u001b[0mlen\u001b[0m\u001b[0;34m(\u001b[0m\u001b[0mi\u001b[0m\u001b[0;34m)\u001b[0m \u001b[0;32mfor\u001b[0m \u001b[0mi\u001b[0m \u001b[0;32min\u001b[0m \u001b[0mfield\u001b[0m\u001b[0;34m]\u001b[0m\u001b[0;34m\u001b[0m\u001b[0m\n\u001b[0m\u001b[1;32m      5\u001b[0m         \u001b[0mfield_length\u001b[0m\u001b[0;34m.\u001b[0m\u001b[0mappend\u001b[0m\u001b[0;34m(\u001b[0m\u001b[0mnp\u001b[0m\u001b[0;34m.\u001b[0m\u001b[0mmax\u001b[0m\u001b[0;34m(\u001b[0m\u001b[0mlengths\u001b[0m\u001b[0;34m)\u001b[0m\u001b[0;34m)\u001b[0m\u001b[0;34m\u001b[0m\u001b[0m\n\u001b[1;32m      6\u001b[0m     \u001b[0mline_sep\u001b[0m \u001b[0;34m=\u001b[0m \u001b[0;34m\"+\"\u001b[0m\u001b[0;34m\u001b[0m\u001b[0m\n",
      "\u001b[0;31mTypeError\u001b[0m: object of type 'int' has no len()"
     ]
    }
   ],
   "source": [
    "spec_mode = SpectroscopicMode()\n",
    "# print(\"+---------+------+--------------------+------------+---------------------+-------+\")\n",
    "# print(\"| Grating | Mode | Central Wavelength | Dispersion | Resolving Power (R) | Speed |\")\n",
    "# print(\"+=========+======+====================+============+=====================+=======+\")\n",
    "center_wav = []\n",
    "resolving_power = []\n",
    "speeds = []\n",
    "for grat in gratings:\n",
    "    for wavmode in grating_modes[grat]:\n",
    "#         print(repr(grat), repr(wavmode))\n",
    "        try:\n",
    "            cam_targ, grat_targ = spec_mode.get_cam_grt_targ_angle(grating=grat, mode=wavmode)\n",
    "            cw = get_central_wavelength(grating=grat, grt_ang=grat_targ, cam_ang=cam_targ)\n",
    "            r = cw / (grating_dispersion[grat] / 3.)\n",
    "            v = constants.c / r\n",
    "#             print(\"\\tGrating: {:d} \\n\\tMode: {:s}\\n\\tCentral Wavelength: {:.3f}\\n\\tDispersion: {:.3f} \\n\\tR: \"\n",
    "#                   \"{:.3f}\\n\\tSpeed: {:.3f}\".format(grat,\n",
    "#                                                    wavmode,\n",
    "#                                                    cw,\n",
    "#                                                    grating_dispersion[grat],\n",
    "#                                                    r,\n",
    "#                                                    v.to('km/s')))\n",
    "            \n",
    "#             print(\"| {:d} | {:s} | {:.3f} | {:.3f} | {:.3f} |  {:.3f} |\".format(grat,\n",
    "#                                                    wavmode,\n",
    "#                                                    cw,\n",
    "#                                                    grating_dispersion[grat],\n",
    "#                                                    r,\n",
    "#                                                    v.to('km/s')))\n",
    "            center_wav.append(cw)\n",
    "            resolving_power.append(r)\n",
    "            speeds.append(v)\n",
    "#             print(\"+---------+------+--------------------+------------+---------------------+-------+\")\n",
    "        except TypeError:\n",
    "            print(\"Error\")\n",
    "print_table_(gratings, grating_modes, center_wav, grating_dispersion, resolving_power, speeds)\n",
    "          "
   ]
  },
  {
   "cell_type": "code",
   "execution_count": null,
   "metadata": {
    "collapsed": true
   },
   "outputs": [],
   "source": []
  }
 ],
 "metadata": {
  "kernelspec": {
   "display_name": "Python 3",
   "language": "python",
   "name": "python3"
  },
  "language_info": {
   "codemirror_mode": {
    "name": "ipython",
    "version": 3
   },
   "file_extension": ".py",
   "mimetype": "text/x-python",
   "name": "python",
   "nbconvert_exporter": "python",
   "pygments_lexer": "ipython3",
   "version": "3.6.3"
  }
 },
 "nbformat": 4,
 "nbformat_minor": 2
}
