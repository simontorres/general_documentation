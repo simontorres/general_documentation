{
 "cells": [
  {
   "cell_type": "markdown",
   "metadata": {},
   "source": [
    "# Some definitions"
   ]
  },
  {
   "cell_type": "code",
   "execution_count": 138,
   "metadata": {
    "ExecuteTime": {
     "end_time": "2019-09-26T15:18:59.788790Z",
     "start_time": "2019-09-26T15:18:59.783152Z"
    },
    "collapsed": true
   },
   "outputs": [],
   "source": [
    "import requests\n",
    "import urllib\n",
    "import json\n",
    "\n",
    "\n",
    "SERVER = 'http://localhost:3000'"
   ]
  },
  {
   "cell_type": "markdown",
   "metadata": {},
   "source": [
    "# Create Session"
   ]
  },
  {
   "cell_type": "code",
   "execution_count": 139,
   "metadata": {
    "ExecuteTime": {
     "end_time": "2019-09-26T15:19:02.339479Z",
     "start_time": "2019-09-26T15:19:01.831316Z"
    }
   },
   "outputs": [
    {
     "name": "stdout",
     "output_type": "stream",
     "text": [
      "HTTP POST http://localhost:3000/api/session/\n"
     ]
    }
   ],
   "source": [
    "url = urllib.parse.urljoin(SERVER, '/api/session/')\n",
    "\n",
    "print(\"HTTP POST {}\".format(url))\n",
    "\n",
    "response = requests.post(url=url, data={\"observer_name\": \"Simon Torres\", \n",
    "                                        \"raw_data_path\": \"/pipeline/data/raw/NOAO/20190912\", \n",
    "                                        \"reduced_data_path\":\"/pipeline/data/reduced/NOAO/20190912\"})"
   ]
  },
  {
   "cell_type": "code",
   "execution_count": 140,
   "metadata": {
    "ExecuteTime": {
     "end_time": "2019-09-26T15:19:09.501315Z",
     "start_time": "2019-09-26T15:19:09.493089Z"
    }
   },
   "outputs": [
    {
     "name": "stdout",
     "output_type": "stream",
     "text": [
      "Created Session with ID: 4\n"
     ]
    }
   ],
   "source": [
    "session_id = None\n",
    "if response.status_code == 200:\n",
    "    json_response = response.json()\n",
    "    session_id = json_response['session_id']\n",
    "    print(\"Created Session with ID: {}\".format(session_id))\n",
    "else:\n",
    "    print(\"Status Code: {}\".format(response.status_code))"
   ]
  },
  {
   "cell_type": "code",
   "execution_count": 141,
   "metadata": {
    "ExecuteTime": {
     "end_time": "2019-09-26T15:19:12.046706Z",
     "start_time": "2019-09-26T15:19:12.024518Z"
    },
    "scrolled": true
   },
   "outputs": [
    {
     "name": "stdout",
     "output_type": "stream",
     "text": [
      "HTTP GET http://localhost:3000/api/session/?id=4\n",
      "{\n",
      "    \"created\": \"2019-09-26T15:19:01.846107Z\",\n",
      "    \"raw_data_path\": \"/pipeline/data/raw/NOAO/20190912\",\n",
      "    \"master_flat\": \"\",\n",
      "    \"reduced_data_path\": \"/pipeline/data/reduced/NOAO/20190912\",\n",
      "    \"trim_section\": \"\",\n",
      "    \"slit_trim_section\": \"\",\n",
      "    \"observer_name\": \"Simon Torres\",\n",
      "    \"overscan_region\": \"\",\n",
      "    \"master_bias\": \"\",\n",
      "    \"session_id\": 4\n",
      "}\n"
     ]
    }
   ],
   "source": [
    "url = urllib.parse.urljoin(SERVER, '/api/session/?id={}'.format(session_id))\n",
    "print('HTTP GET {}'.format(url))\n",
    "response = requests.get(url=url)\n",
    "if response.status_code == 200:\n",
    "    json_response = response.json()\n",
    "    print(json.dumps(json_response, indent=4))"
   ]
  },
  {
   "cell_type": "raw",
   "metadata": {
    "ExecuteTime": {
     "end_time": "2019-09-26T15:15:47.703688Z",
     "start_time": "2019-09-26T15:15:47.674787Z"
    }
   },
   "source": [
    "print('HTTP DELETE {}'.format(url))\n",
    "response = requests.delete(url=url)\n",
    "\n",
    "print(response.status_code)\n",
    "json_response = response.json()\n",
    "print(json.dumps(json_response, indent=4))"
   ]
  },
  {
   "cell_type": "markdown",
   "metadata": {
    "ExecuteTime": {
     "end_time": "2019-09-13T15:46:21.852764Z",
     "start_time": "2019-09-13T15:46:21.848092Z"
    }
   },
   "source": [
    "# Reduction\n",
    "\n",
    "The API has to be really \"loose\" so in this notebook I'll just exemplify the steps.\n",
    "\n",
    "\n",
    "## Get Overscan and Trim Section/Region"
   ]
  },
  {
   "cell_type": "code",
   "execution_count": 142,
   "metadata": {
    "ExecuteTime": {
     "end_time": "2019-09-26T15:19:22.461257Z",
     "start_time": "2019-09-26T15:19:22.130270Z"
    }
   },
   "outputs": [
    {
     "name": "stdout",
     "output_type": "stream",
     "text": [
      "http://localhost:3000/api/session/settings/\n",
      "http://localhost:3000/api/session/settings/?file=0104_bias_spec1x1.fits&id=4\n",
      "{\n",
      "    \"overscan_region\": \"[6:49,1:1896]\",\n",
      "    \"trim_section\": \"[51:4110,2:1896]\",\n",
      "    \"session_id\": 4\n",
      "}\n"
     ]
    }
   ],
   "source": [
    "url = urllib.parse.urljoin(SERVER, '/api/session/settings/')\n",
    "\n",
    "print(url)\n",
    "response = requests.get(url=url, \n",
    "                        params={'id': session_id,\n",
    "                                'file':'0104_bias_spec1x1.fits'})\n",
    "\n",
    "print(response.url)\n",
    "json_response = response.json()\n",
    "print(json.dumps(json_response, indent=4))"
   ]
  },
  {
   "cell_type": "code",
   "execution_count": 143,
   "metadata": {
    "ExecuteTime": {
     "end_time": "2019-09-26T15:19:27.778775Z",
     "start_time": "2019-09-26T15:19:27.552307Z"
    }
   },
   "outputs": [
    {
     "name": "stdout",
     "output_type": "stream",
     "text": [
      "{\n",
      "    \"detail\": \"Successfully updated session 4 settings\"\n",
      "}\n"
     ]
    }
   ],
   "source": [
    "response = requests.post(url=url, json=json_response)\n",
    "\n",
    "json_response = response.json()\n",
    "\n",
    "print(json.dumps(json_response, indent=4))"
   ]
  },
  {
   "cell_type": "markdown",
   "metadata": {},
   "source": [
    "Checking the updated status of the session"
   ]
  },
  {
   "cell_type": "code",
   "execution_count": 144,
   "metadata": {
    "ExecuteTime": {
     "end_time": "2019-09-26T15:19:34.880037Z",
     "start_time": "2019-09-26T15:19:34.851695Z"
    }
   },
   "outputs": [
    {
     "name": "stdout",
     "output_type": "stream",
     "text": [
      "{\n",
      "    \"created\": \"2019-09-26T15:19:01.846107Z\",\n",
      "    \"raw_data_path\": \"/pipeline/data/raw/NOAO/20190912\",\n",
      "    \"master_flat\": \"\",\n",
      "    \"reduced_data_path\": \"/pipeline/data/reduced/NOAO/20190912\",\n",
      "    \"trim_section\": \"[51:4110,2:1896]\",\n",
      "    \"slit_trim_section\": \"\",\n",
      "    \"observer_name\": \"Simon Torres\",\n",
      "    \"overscan_region\": \"[6:49,1:1896]\",\n",
      "    \"master_bias\": \"\",\n",
      "    \"session_id\": 4\n",
      "}\n"
     ]
    }
   ],
   "source": [
    "url = urllib.parse.urljoin(SERVER, '/api/session/')\n",
    "\n",
    "response = requests.get(url=url, params={'id': session_id})\n",
    "\n",
    "if response.status_code == 200:\n",
    "    json_response = response.json()\n",
    "    print(json.dumps(json_response, indent=4))"
   ]
  },
  {
   "cell_type": "markdown",
   "metadata": {},
   "source": [
    "## Create Master Bias"
   ]
  },
  {
   "cell_type": "code",
   "execution_count": 180,
   "metadata": {
    "ExecuteTime": {
     "end_time": "2019-09-27T20:28:03.368631Z",
     "start_time": "2019-09-27T20:27:51.633839Z"
    }
   },
   "outputs": [
    {
     "name": "stdout",
     "output_type": "stream",
     "text": [
      "{\n",
      "    \"error\": \"none\",\n",
      "    \"master_bias\": [\n",
      "        {\n",
      "            \"master_bias_6\": {\n",
      "                \"full_path\": \"/pipeline/data/reduced/NOAO/20190912\",\n",
      "                \"elapsed_time\": 10.164152383804321,\n",
      "                \"file_name\": \"master_bias_6.fits\",\n",
      "                \"file_list\": [\n",
      "                    \"0100_bias_spec1x1.fits\",\n",
      "                    \"0101_bias_spec1x1.fits\",\n",
      "                    \"0102_bias_spec1x1.fits\",\n",
      "                    \"0103_bias_spec1x1.fits\",\n",
      "                    \"0104_bias_spec1x1.fits\",\n",
      "                    \"0105_bias_spec1x1.fits\",\n",
      "                    \"0106_bias_spec1x1.fits\",\n",
      "                    \"0107_bias_spec1x1.fits\",\n",
      "                    \"0108_bias_spec1x1.fits\",\n",
      "                    \"0109_bias_spec1x1.fits\"\n",
      "                ]\n",
      "            }\n",
      "        }\n",
      "    ]\n",
      "}\n"
     ]
    }
   ],
   "source": [
    "url = urllib.parse.urljoin(SERVER, '/api/calibrations/bias/')\n",
    "\n",
    "response = requests.post(url=url, data={'session_id': session_id, \n",
    "                                        'auto_discover': 'true'})\n",
    "\n",
    "if response.status_code == 200:\n",
    "    json_response = response.json()\n",
    "    print(json.dumps(json_response, indent=4))\n",
    "else:\n",
    "    print(response.status_code)"
   ]
  },
  {
   "cell_type": "code",
   "execution_count": 146,
   "metadata": {
    "ExecuteTime": {
     "end_time": "2019-09-26T15:22:00.788596Z",
     "start_time": "2019-09-26T15:22:00.774330Z"
    }
   },
   "outputs": [
    {
     "name": "stdout",
     "output_type": "stream",
     "text": [
      "200\n"
     ]
    }
   ],
   "source": [
    "print(response.status_code)"
   ]
  },
  {
   "cell_type": "code",
   "execution_count": 176,
   "metadata": {
    "ExecuteTime": {
     "end_time": "2019-09-27T20:09:55.754147Z",
     "start_time": "2019-09-27T20:09:55.748503Z"
    }
   },
   "outputs": [
    {
     "name": "stdout",
     "output_type": "stream",
     "text": [
      "[{'master_bias_4': {'full_path': '/pipeline/data/reduced/NOAO/20190912', 'elapsed_time': 90.45678329467773, 'file_name': 'master_bias_4.fits', 'file_list': ['0100_bias_spec1x1.fits', '0101_bias_spec1x1.fits', '0102_bias_spec1x1.fits', '0103_bias_spec1x1.fits', '0104_bias_spec1x1.fits', '0105_bias_spec1x1.fits', '0106_bias_spec1x1.fits', '0107_bias_spec1x1.fits', '0108_bias_spec1x1.fits', '0109_bias_spec1x1.fits']}}]\n"
     ]
    }
   ],
   "source": [
    "master_bias_file = json_response['master_bias']\n",
    "print(master_bias_file)"
   ]
  },
  {
   "cell_type": "markdown",
   "metadata": {},
   "source": [
    "And for testing, doing a `GET` request to the same url it will retrieve the file name."
   ]
  },
  {
   "cell_type": "code",
   "execution_count": null,
   "metadata": {
    "ExecuteTime": {
     "end_time": "2019-09-24T15:46:14.947024Z",
     "start_time": "2019-09-24T15:46:13.982055Z"
    },
    "collapsed": true,
    "scrolled": false
   },
   "outputs": [],
   "source": []
  },
  {
   "cell_type": "code",
   "execution_count": 177,
   "metadata": {
    "ExecuteTime": {
     "end_time": "2019-09-27T20:10:07.147711Z",
     "start_time": "2019-09-27T20:10:07.081347Z"
    }
   },
   "outputs": [
    {
     "name": "stdout",
     "output_type": "stream",
     "text": [
      "http://localhost:3000/api/calibrations/bias/?id=4\n",
      "{\n",
      "    \"master_bias\": [\n",
      "        {\n",
      "            \"obstype\": \"BIAS\",\n",
      "            \"filter2\": \"GG455\",\n",
      "            \"roi\": \"Spectroscopic 1x1\",\n",
      "            \"session\": 4,\n",
      "            \"full_path\": \"/pipeline/data/reduced/NOAO/20190912\",\n",
      "            \"read_noise\": \"3.89\",\n",
      "            \"slit\": \"1.03\\\" long slit\",\n",
      "            \"file_name\": \"master_bias.fits\",\n",
      "            \"gain\": \"1.48\",\n",
      "            \"cam_targ\": \"16.1\",\n",
      "            \"grating\": \"SYZY_400\",\n",
      "            \"filter\": \"<NO FILTER>\",\n",
      "            \"grt_targ\": \"7.5\"\n",
      "        },\n",
      "        {\n",
      "            \"obstype\": \"BIAS\",\n",
      "            \"filter2\": \"GG455\",\n",
      "            \"roi\": \"Spectroscopic 1x1\",\n",
      "            \"session\": 4,\n",
      "            \"full_path\": \"/pipeline/data/reduced/NOAO/20190912\",\n",
      "            \"read_noise\": \"3.89\",\n",
      "            \"slit\": \"1.03\\\" long slit\",\n",
      "            \"file_name\": \"master_bias_2.fits\",\n",
      "            \"gain\": \"1.48\",\n",
      "            \"cam_targ\": \"16.1\",\n",
      "            \"grating\": \"SYZY_400\",\n",
      "            \"filter\": \"<NO FILTER>\",\n",
      "            \"grt_targ\": \"7.5\"\n",
      "        },\n",
      "        {\n",
      "            \"obstype\": \"BIAS\",\n",
      "            \"filter2\": \"GG455\",\n",
      "            \"roi\": \"Spectroscopic 1x1\",\n",
      "            \"session\": 4,\n",
      "            \"full_path\": \"/pipeline/data/reduced/NOAO/20190912\",\n",
      "            \"read_noise\": \"3.89\",\n",
      "            \"slit\": \"1.03\\\" long slit\",\n",
      "            \"file_name\": \"master_bias_3.fits\",\n",
      "            \"gain\": \"1.48\",\n",
      "            \"cam_targ\": \"16.1\",\n",
      "            \"grating\": \"SYZY_400\",\n",
      "            \"filter\": \"<NO FILTER>\",\n",
      "            \"grt_targ\": \"7.5\"\n",
      "        },\n",
      "        {\n",
      "            \"obstype\": \"BIAS\",\n",
      "            \"filter2\": \"GG455\",\n",
      "            \"roi\": \"Spectroscopic 1x1\",\n",
      "            \"session\": 4,\n",
      "            \"full_path\": \"/pipeline/data/reduced/NOAO/20190912\",\n",
      "            \"read_noise\": \"3.89\",\n",
      "            \"slit\": \"1.03\\\" long slit\",\n",
      "            \"file_name\": \"master_bias_4.fits\",\n",
      "            \"gain\": \"1.48\",\n",
      "            \"cam_targ\": \"16.1\",\n",
      "            \"grating\": \"SYZY_400\",\n",
      "            \"filter\": \"<NO FILTER>\",\n",
      "            \"grt_targ\": \"7.5\"\n",
      "        }\n",
      "    ]\n",
      "}\n"
     ]
    }
   ],
   "source": [
    "response = requests.get(url=url, params={\"id\": session_id})\n",
    "\n",
    "print(response.url)\n",
    "\n",
    "if response.status_code == 200:\n",
    "    json_response = response.json()\n",
    "    print(json.dumps(json_response, indent=4))\n",
    "else:\n",
    "    print(response.status_code)"
   ]
  },
  {
   "cell_type": "code",
   "execution_count": 178,
   "metadata": {
    "ExecuteTime": {
     "end_time": "2019-09-27T20:10:16.656311Z",
     "start_time": "2019-09-27T20:10:16.373457Z"
    }
   },
   "outputs": [
    {
     "name": "stdout",
     "output_type": "stream",
     "text": [
      "http://localhost:3000/api/calibrations/bias/?file=0035_dflat_400M2_GG455.fits&id=4\n",
      "500\n"
     ]
    },
    {
     "ename": "TypeError",
     "evalue": "list indices must be integers or slices, not str",
     "output_type": "error",
     "traceback": [
      "\u001b[0;31m---------------------------------------------------------------------------\u001b[0m",
      "\u001b[0;31mTypeError\u001b[0m                                 Traceback (most recent call last)",
      "\u001b[0;32m<ipython-input-178-cb8bd9964267>\u001b[0m in \u001b[0;36m<module>\u001b[0;34m()\u001b[0m\n\u001b[1;32m     10\u001b[0m \u001b[0;34m\u001b[0m\u001b[0m\n\u001b[1;32m     11\u001b[0m \u001b[0;34m\u001b[0m\u001b[0m\n\u001b[0;32m---> 12\u001b[0;31m \u001b[0mmaster_bias_file\u001b[0m \u001b[0;34m=\u001b[0m \u001b[0mjson_response\u001b[0m\u001b[0;34m[\u001b[0m\u001b[0;34m'master_bias'\u001b[0m\u001b[0;34m]\u001b[0m\u001b[0;34m[\u001b[0m\u001b[0;34m\"file_name\"\u001b[0m\u001b[0;34m]\u001b[0m\u001b[0;34m\u001b[0m\u001b[0m\n\u001b[0m\u001b[1;32m     13\u001b[0m \u001b[0;34m\u001b[0m\u001b[0m\n\u001b[1;32m     14\u001b[0m \u001b[0mprint\u001b[0m\u001b[0;34m(\u001b[0m\u001b[0mmaster_bias_file\u001b[0m\u001b[0;34m)\u001b[0m\u001b[0;34m\u001b[0m\u001b[0m\n",
      "\u001b[0;31mTypeError\u001b[0m: list indices must be integers or slices, not str"
     ]
    }
   ],
   "source": [
    "response = requests.get(url=url, params={\"id\": session_id, \"file\":\"0035_dflat_400M2_GG455.fits\"})\n",
    "\n",
    "print(response.url)\n",
    "\n",
    "if response.status_code == 200:\n",
    "    json_response = response.json()\n",
    "    print(json.dumps(json_response, indent=4))\n",
    "else:\n",
    "    print(response.status_code)\n",
    "    \n",
    "    \n",
    "master_bias_file = json_response['master_bias'][\"file_name\"]\n",
    "\n",
    "print(master_bias_file)"
   ]
  },
  {
   "cell_type": "markdown",
   "metadata": {},
   "source": [
    "## Create Master Flats"
   ]
  },
  {
   "cell_type": "code",
   "execution_count": 155,
   "metadata": {
    "ExecuteTime": {
     "end_time": "2019-09-26T18:57:09.443035Z",
     "start_time": "2019-09-26T18:51:37.137988Z"
    }
   },
   "outputs": [
    {
     "name": "stdout",
     "output_type": "stream",
     "text": [
      "{\n",
      "    \"info\": \"Create master flat\",\n",
      "    \"master_flat\": [\n",
      "        {\n",
      "            \"master_flat_400_m2_GG455\": {\n",
      "                \"obstype\": \"FLAT\",\n",
      "                \"filter2\": \"GG455\",\n",
      "                \"roi\": \"Spectroscopic 1x1\",\n",
      "                \"session\": 4,\n",
      "                \"full_path\": \"/pipeline/data/reduced/NOAO/20190912\",\n",
      "                \"read_noise\": 3.89,\n",
      "                \"slit\": \"1.03\\\" long slit\",\n",
      "                \"file_name\": \"master_flat_400_m2_GG455.fits\",\n",
      "                \"gain\": 1.48,\n",
      "                \"cam_targ\": 16.1,\n",
      "                \"grating\": \"SYZY_400\",\n",
      "                \"filter\": \"<NO FILTER>\",\n",
      "                \"grt_targ\": 7.5\n",
      "            },\n",
      "            \"file_list\": [\n",
      "                \"0035_dflat_400M2_GG455.fits\",\n",
      "                \"0036_dflat_400M2_GG455.fits\",\n",
      "                \"0037_dflat_400M2_GG455.fits\",\n",
      "                \"0038_dflat_400M2_GG455.fits\",\n",
      "                \"0039_dflat_400M2_GG455.fits\",\n",
      "                \"0040_dflat_400M2_GG455.fits\",\n",
      "                \"0041_dflat_400M2_GG455.fits\",\n",
      "                \"0042_dflat_400M2_GG455.fits\",\n",
      "                \"0043_dflat_400M2_GG455.fits\",\n",
      "                \"0044_dflat_400M2_GG455.fits\",\n",
      "                \"0045_dflat_400M2_GG455.fits\"\n",
      "            ]\n",
      "        },\n",
      "        {\n",
      "            \"master_flat_1200_m6_GG495\": {\n",
      "                \"obstype\": \"FLAT\",\n",
      "                \"filter2\": \"GG495\",\n",
      "                \"roi\": \"Spectroscopic 1x1\",\n",
      "                \"session\": 4,\n",
      "                \"full_path\": \"/pipeline/data/reduced/NOAO/20190912\",\n",
      "                \"read_noise\": 3.89,\n",
      "                \"slit\": \"1.03\\\" long slit\",\n",
      "                \"file_name\": \"master_flat_1200_m6_GG495.fits\",\n",
      "                \"gain\": 1.48,\n",
      "                \"cam_targ\": 54.8,\n",
      "                \"grating\": \"RALC_1200-RED\",\n",
      "                \"filter\": \"<NO FILTER>\",\n",
      "                \"grt_targ\": 27.4\n",
      "            },\n",
      "            \"file_list\": [\n",
      "                \"0046_dflat_1200M6_GG495.fits\",\n",
      "                \"0047_dflat_1200M6_GG495.fits\",\n",
      "                \"0048_dflat_1200M6_GG495.fits\",\n",
      "                \"0049_dflat_1200M6_GG495.fits\",\n",
      "                \"0050_dflat_1200M6_GG495.fits\",\n",
      "                \"0051_dflat_1200M6_GG495.fits\",\n",
      "                \"0052_dflat_1200M6_GG495.fits\",\n",
      "                \"0053_dflat_1200M6_GG495.fits\",\n",
      "                \"0054_dflat_1200M6_GG495.fits\",\n",
      "                \"0055_dflat_1200M6_GG495.fits\",\n",
      "                \"0056_dflat_1200M6_GG495.fits\"\n",
      "            ]\n",
      "        }\n",
      "    ]\n",
      "}\n"
     ]
    }
   ],
   "source": [
    " url = urllib.parse.urljoin(SERVER, '/api/calibrations/flats/')\n",
    "    \n",
    "request_data = {'session_id': session_id, \n",
    "                'auto_discover': 'true',\n",
    "                'saturation_threshold': 1,\n",
    "                'ignore_bias': 'false',\n",
    "                'master_bias': master_bias_file}\n",
    "    \n",
    "response = requests.post(url=url, data=request_data)\n",
    "\n",
    "if response.status_code == 200:\n",
    "    json_response = response.json()\n",
    "    print(json.dumps(json_response, indent=4))\n",
    "else:\n",
    "    print(response.status_code)"
   ]
  },
  {
   "cell_type": "code",
   "execution_count": 158,
   "metadata": {
    "ExecuteTime": {
     "end_time": "2019-09-26T20:12:39.601161Z",
     "start_time": "2019-09-26T20:12:39.549170Z"
    }
   },
   "outputs": [
    {
     "name": "stdout",
     "output_type": "stream",
     "text": [
      "{\n",
      "    \"master_flat\": [\n",
      "        {\n",
      "            \"obstype\": \"FLAT\",\n",
      "            \"filter2\": \"GG455\",\n",
      "            \"roi\": \"Spectroscopic 1x1\",\n",
      "            \"session\": 4,\n",
      "            \"full_path\": \"/pipeline/data/reduced/NOAO/20190912\",\n",
      "            \"read_noise\": \"3.89\",\n",
      "            \"slit\": \"1.03\\\" long slit\",\n",
      "            \"file_name\": \"new_master_flat.fits\",\n",
      "            \"gain\": \"1.48\",\n",
      "            \"cam_targ\": \"16.1\",\n",
      "            \"grating\": \"SYZY_400\",\n",
      "            \"filter\": \"<NO FILTER>\",\n",
      "            \"grt_targ\": \"7.5\"\n",
      "        },\n",
      "        {\n",
      "            \"obstype\": \"FLAT\",\n",
      "            \"filter2\": \"GG455\",\n",
      "            \"roi\": \"Spectroscopic 1x1\",\n",
      "            \"session\": 4,\n",
      "            \"full_path\": \"/pipeline/data/reduced/NOAO/20190912\",\n",
      "            \"read_noise\": \"3.89\",\n",
      "            \"slit\": \"1.03\\\" long slit\",\n",
      "            \"file_name\": \"master_flat_400_m2_GG455.fits\",\n",
      "            \"gain\": \"1.48\",\n",
      "            \"cam_targ\": \"16.1\",\n",
      "            \"grating\": \"SYZY_400\",\n",
      "            \"filter\": \"<NO FILTER>\",\n",
      "            \"grt_targ\": \"7.5\"\n",
      "        },\n",
      "        {\n",
      "            \"obstype\": \"FLAT\",\n",
      "            \"filter2\": \"GG495\",\n",
      "            \"roi\": \"Spectroscopic 1x1\",\n",
      "            \"session\": 4,\n",
      "            \"full_path\": \"/pipeline/data/reduced/NOAO/20190912\",\n",
      "            \"read_noise\": \"3.89\",\n",
      "            \"slit\": \"1.03\\\" long slit\",\n",
      "            \"file_name\": \"master_flat_1200_m6_GG495.fits\",\n",
      "            \"gain\": \"1.48\",\n",
      "            \"cam_targ\": \"54.8\",\n",
      "            \"grating\": \"RALC_1200-RED\",\n",
      "            \"filter\": \"<NO FILTER>\",\n",
      "            \"grt_targ\": \"27.4\"\n",
      "        }\n",
      "    ]\n",
      "}\n"
     ]
    }
   ],
   "source": [
    "response = requests.get(url=url, params={'id': session_id})\n",
    "\n",
    "if response.status_code == 200:\n",
    "    json_response = response.json()\n",
    "    print(json.dumps(json_response, indent=4))\n",
    "else:\n",
    "    print(response.status_code)"
   ]
  },
  {
   "cell_type": "markdown",
   "metadata": {},
   "source": [
    "## Get Overscan and apply"
   ]
  },
  {
   "cell_type": "code",
   "execution_count": 170,
   "metadata": {
    "ExecuteTime": {
     "end_time": "2019-09-27T18:01:35.675686Z",
     "start_time": "2019-09-27T18:01:35.233136Z"
    }
   },
   "outputs": [
    {
     "name": "stdout",
     "output_type": "stream",
     "text": [
      "{\n",
      "    \"overscan_region\": \"[6:49,1:1896]\"\n",
      "}\n",
      "[6:49,1:1896]\n"
     ]
    }
   ],
   "source": [
    "url = urllib.parse.urljoin(SERVER, '/api/image/overscan/')\n",
    "    \n",
    "# request_data = {'session_id': session_id, \n",
    "#                 'auto_discover': 'true',\n",
    "#                 'saturation_threshold': 1,\n",
    "#                 'ignore_bias': 'false',\n",
    "#                 'master_bias': master_bias_file}\n",
    "    \n",
    "response = requests.get(url=url, params={'id': session_id, 'file': '0073_CVSO_200.fits'})\n",
    "\n",
    "json_response = response.json()\n",
    "if response.status_code == 200:\n",
    "    \n",
    "    print(json.dumps(json_response, indent=4))\n",
    "else:\n",
    "    \n",
    "    print(\"{}: {}\".format(response.status_code, json_response))\n",
    "overscan_region = json_response[\"overscan_region\"]\n",
    "print(overscan_region)\n"
   ]
  },
  {
   "cell_type": "code",
   "execution_count": 171,
   "metadata": {
    "ExecuteTime": {
     "end_time": "2019-09-27T18:01:39.157290Z",
     "start_time": "2019-09-27T18:01:36.488959Z"
    }
   },
   "outputs": [
    {
     "name": "stdout",
     "output_type": "stream",
     "text": [
      "{\n",
      "    \"overscan_region\": \"[6:49,1:1896]\",\n",
      "    \"overscan_corrected\": \"o_0073_CVSO_200.fits\",\n",
      "    \"original_file\": \"0073_CVSO_200.fits\"\n",
      "}\n"
     ]
    }
   ],
   "source": [
    "request_data = {'session_id': session_id, \n",
    "                'overscan_region': overscan_region,\n",
    "                'file': '0073_CVSO_200.fits'}\n",
    "    \n",
    "response = requests.post(url=url, data=request_data)\n",
    "\n",
    "json_response = response.json()\n",
    "if response.status_code == 200:\n",
    "    \n",
    "    print(json.dumps(json_response, indent=4))\n",
    "else:\n",
    "    \n",
    "    print(\"{}: {}\".format(response.status_code, json_response))\n"
   ]
  },
  {
   "cell_type": "markdown",
   "metadata": {},
   "source": [
    "## Get trim section"
   ]
  },
  {
   "cell_type": "code",
   "execution_count": 172,
   "metadata": {
    "ExecuteTime": {
     "end_time": "2019-09-27T18:26:50.753408Z",
     "start_time": "2019-09-27T18:26:50.527651Z"
    }
   },
   "outputs": [
    {
     "name": "stdout",
     "output_type": "stream",
     "text": [
      "{\n",
      "    \"trim_section\": \"[51:4110,2:1896]\"\n",
      "}\n",
      "[51:4110,2:1896]\n"
     ]
    }
   ],
   "source": [
    "url = urllib.parse.urljoin(SERVER, '/api/image/trim/')\n",
    "    \n",
    "# request_data = {'session_id': session_id, \n",
    "#                 'auto_discover': 'true',\n",
    "#                 'saturation_threshold': 1,\n",
    "#                 'ignore_bias': 'false',\n",
    "#                 'master_bias': master_bias_file}\n",
    "    \n",
    "response = requests.get(url=url, params={'id': session_id, \n",
    "                                         'file': 'o_0073_CVSO_200.fits', \n",
    "                                         'path_type': 'reduced'})\n",
    "\n",
    "json_response = response.json()\n",
    "if response.status_code == 200:\n",
    "    \n",
    "    print(json.dumps(json_response, indent=4))\n",
    "else:\n",
    "    \n",
    "    print(\"{}: {}\".format(response.status_code, json_response))\n",
    "trim_section = json_response[\"trim_section\"]\n",
    "print(trim_section)\n"
   ]
  },
  {
   "cell_type": "code",
   "execution_count": null,
   "metadata": {
    "collapsed": true
   },
   "outputs": [],
   "source": []
  }
 ],
 "metadata": {
  "kernelspec": {
   "display_name": "Python 3",
   "language": "python",
   "name": "python3"
  },
  "language_info": {
   "codemirror_mode": {
    "name": "ipython",
    "version": 3
   },
   "file_extension": ".py",
   "mimetype": "text/x-python",
   "name": "python",
   "nbconvert_exporter": "python",
   "pygments_lexer": "ipython3",
   "version": "3.5.4"
  },
  "toc": {
   "base_numbering": 1,
   "nav_menu": {},
   "number_sections": true,
   "sideBar": true,
   "skip_h1_title": false,
   "title_cell": "Table of Contents",
   "title_sidebar": "Contents",
   "toc_cell": false,
   "toc_position": {},
   "toc_section_display": true,
   "toc_window_display": true
  }
 },
 "nbformat": 4,
 "nbformat_minor": 2
}
