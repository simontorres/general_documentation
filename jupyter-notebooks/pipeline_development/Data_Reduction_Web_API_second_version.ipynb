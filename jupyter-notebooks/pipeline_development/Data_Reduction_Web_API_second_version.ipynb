{
 "cells": [
  {
   "cell_type": "markdown",
   "metadata": {},
   "source": [
    "# Reducing data with a web API implementation\n",
    "\n",
    "This is an evolved version from the previous one which had a system of sessions which was against my idea of having the simplest implementation possible. \n",
    "\n",
    "So this version will require bigger payloads and every decision should be made outside of it. and it should store nothing on database. The data models should be kept for reference for the layer above.\n",
    "\n",
    "Should standardize the returns of the API (payloads)."
   ]
  },
  {
   "cell_type": "markdown",
   "metadata": {},
   "source": [
    "\n",
    "## API endpoints summary\n",
    "\n",
    "(do not use verbs)\n",
    "\n",
    "\n",
    "### Create Calibrations\n",
    "\n",
    "`POST /api/calibrations/bias`\n",
    "\n",
    "`POST /api/calibrations/flats`\n",
    "\n",
    "### Retrieve data\n",
    "\n",
    "`GET /api/image/overscan`\n",
    "\n",
    "`GET /api/image/trim`\n",
    "\n",
    "### Image Reduction\n",
    "\n",
    "`POST /api/image/overscan`\n",
    "\n",
    "`POST /api/image/trim`\n",
    "\n",
    "`POST /api/image/bias`\n",
    "\n",
    "`POST /api/image/flat`\n",
    "\n",
    "`POST /api/image/creject`\n",
    "\n",
    "`POST /api/image/reduce/`\n",
    "\n",
    "### Spectral Reduction\n",
    "\n",
    "`POST /api/spectrum/identify`\n",
    "\n",
    "`POST /api/spectrum/trace`\n",
    "\n",
    "`POST /api/spectrum/extract`\n",
    "\n",
    "`POST /api/spectrum/reduce/`\n",
    "\n",
    "### Spectral Calibration\n",
    "\n",
    "`POST /api/spectrum/wavelength`\n",
    "\n",
    "`POST /api/spectrum/flux`\n",
    "\n",
    "`POST /api/spectrum/calibrate/`\n"
   ]
  },
  {
   "cell_type": "markdown",
   "metadata": {},
   "source": [
    "# Calibrations: Master Bias\n",
    "\n",
    "It should work be able to automatically discover all images or receive a list of files.\n",
    "\n",
    "`POST /api/calibrations/bias`\n",
    "\n",
    "\n",
    "```json\n",
    "{'auto_discover': 'true',\n",
    " 'file_list': []}\n",
    "\n",
    "```\n",
    "\n",
    "`auto_discover` and `file_list` should be mutually exclusive with one of the having priority in case both are provided."
   ]
  },
  {
   "cell_type": "markdown",
   "metadata": {},
   "source": [
    "# Calibrations: Master Flats\n",
    "\n",
    "Same as Master bias\n",
    "\n",
    "`POST /api/calibrations/flats`\n",
    "\n",
    "```json\n",
    "{'auto_discover': 'true',\n",
    " 'file_list': []}\n",
    "\n",
    "```"
   ]
  },
  {
   "cell_type": "markdown",
   "metadata": {},
   "source": [
    "# Process\n",
    "\n",
    "## Get Overscan Region\n",
    "\n",
    "`GET /api/data/overscan`\n",
    "\n",
    "## Get Trim Section\n",
    "\n",
    "`GET /api/data/trimsec`\n",
    "\n",
    "\n",
    "## Get Slit Trim Section\n",
    "\n",
    "`GET /api/data/slittrim`\n",
    "\n"
   ]
  },
  {
   "cell_type": "markdown",
   "metadata": {},
   "source": [
    "# Reduction\n",
    "\n",
    "## Overscan\n",
    "\n",
    "`POST /api/reduce/overscan`\n",
    "\n",
    "## Trim image\n",
    "\n",
    "`POST /api/reduce/trim`\n",
    "\n",
    "```json\n",
    "{'trim_section':'[1:2,1:100]',\n",
    " 'trim_type': 'slit'}\n",
    "```\n",
    "\n",
    "## Bias Correction\n",
    "\n",
    "`POST /api/reduce/bias`\n",
    "\n",
    "```json\n",
    "{'master_bias':'master_bias.fits'}\n",
    "```\n",
    "\n",
    "## Flat Correction\n",
    "\n",
    "`POST /api/reduce/flat`\n",
    "\n",
    "```json\n",
    "{'master_flat':'master_flat.fits'}\n",
    "```\n",
    "\n",
    "## Cosmic Ray Rejection\n",
    "\n",
    "`POST /api/reduce/creject`\n",
    "\n",
    "```json\n",
    "{'method': 'lacosmic'}\n",
    "```"
   ]
  },
  {
   "cell_type": "markdown",
   "metadata": {},
   "source": [
    "# Spectroscopic Reduction\n",
    "\n",
    "## Identify Targets\n",
    "\n",
    "`POST /api/reduce/spectra/identify`\n",
    "\n",
    "\n",
    "## Trace Targets\n",
    "\n",
    "`POST /api/reduce/spectra/trace`\n",
    "\n",
    "## Extract\n",
    "\n",
    "`POST /api/reduce/spectra/extract`\n"
   ]
  },
  {
   "cell_type": "markdown",
   "metadata": {},
   "source": [
    "# Spectroscopic Calibration\n",
    "\n",
    "## Wavelength Calibration\n",
    "\n",
    "`POST /api/calibrate/spectra/wavelength`\n",
    "\n",
    "\n",
    "## Flux Calibration\n",
    "\n",
    "**This is not implemented**\n",
    "\n",
    "`POST /api/calibrate/spectra/flux`"
   ]
  },
  {
   "cell_type": "code",
   "execution_count": null,
   "metadata": {
    "collapsed": true
   },
   "outputs": [],
   "source": []
  }
 ],
 "metadata": {
  "kernelspec": {
   "display_name": "Python 3",
   "language": "python",
   "name": "python3"
  },
  "language_info": {
   "codemirror_mode": {
    "name": "ipython",
    "version": 3
   },
   "file_extension": ".py",
   "mimetype": "text/x-python",
   "name": "python",
   "nbconvert_exporter": "python",
   "pygments_lexer": "ipython3",
   "version": "3.7.4"
  },
  "toc": {
   "base_numbering": 1,
   "nav_menu": {},
   "number_sections": true,
   "sideBar": true,
   "skip_h1_title": false,
   "title_cell": "Table of Contents",
   "title_sidebar": "Contents",
   "toc_cell": false,
   "toc_position": {},
   "toc_section_display": true,
   "toc_window_display": true
  }
 },
 "nbformat": 4,
 "nbformat_minor": 2
}
