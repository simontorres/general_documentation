{
 "cells": [
  {
   "cell_type": "markdown",
   "metadata": {},
   "source": [
    "# Some definitions"
   ]
  },
  {
   "cell_type": "code",
   "execution_count": 24,
   "metadata": {
    "ExecuteTime": {
     "end_time": "2019-09-13T15:56:06.233114Z",
     "start_time": "2019-09-13T15:56:06.227843Z"
    },
    "collapsed": true
   },
   "outputs": [],
   "source": [
    "import requests\n",
    "import urllib\n",
    "import json\n",
    "\n",
    "\n",
    "SERVER = 'http://localhost:3000'"
   ]
  },
  {
   "cell_type": "markdown",
   "metadata": {},
   "source": [
    "# Create Session"
   ]
  },
  {
   "cell_type": "code",
   "execution_count": 28,
   "metadata": {
    "ExecuteTime": {
     "end_time": "2019-09-13T16:10:04.395758Z",
     "start_time": "2019-09-13T16:10:04.095627Z"
    }
   },
   "outputs": [
    {
     "name": "stdout",
     "output_type": "stream",
     "text": [
      "HTTP POST http://localhost:3000/api/session/\n"
     ]
    }
   ],
   "source": [
    "url = urllib.parse.urljoin(SERVER, '/api/session/')\n",
    "\n",
    "print(\"HTTP POST {}\".format(url))\n",
    "\n",
    "response = requests.post(url=url, data={\"observer_name\": \"Simon Torres\", \n",
    "                                        \"raw_data_path\": \"/pipeline/data/raw/NOAO/20190912\", \n",
    "                                        \"reduced_data_path\":\"/pipeline/data/reduced/NOAO/20190912\"})"
   ]
  },
  {
   "cell_type": "code",
   "execution_count": 29,
   "metadata": {
    "ExecuteTime": {
     "end_time": "2019-09-13T16:10:05.814286Z",
     "start_time": "2019-09-13T16:10:05.804329Z"
    }
   },
   "outputs": [
    {
     "name": "stdout",
     "output_type": "stream",
     "text": [
      "Created Session with ID: 3\n"
     ]
    }
   ],
   "source": [
    "session_id = None\n",
    "if response.status_code == 200:\n",
    "    json_response = response.json()\n",
    "    session_id = json_response['session_id']\n",
    "    print(\"Created Session with ID: {}\".format(session_id))\n",
    "else:\n",
    "    print(\"Status Code: {}\".format(response.status_code))"
   ]
  },
  {
   "cell_type": "code",
   "execution_count": 30,
   "metadata": {
    "ExecuteTime": {
     "end_time": "2019-09-13T16:10:06.831854Z",
     "start_time": "2019-09-13T16:10:06.806741Z"
    }
   },
   "outputs": [
    {
     "name": "stdout",
     "output_type": "stream",
     "text": [
      "HTTP GET http://localhost:3000/api/session/?id=3\n",
      "{\n",
      "    \"created\": \"2019-09-13T16:10:04.109526Z\",\n",
      "    \"raw_data_path\": \"/pipeline/data/raw/NOAO/20190912\",\n",
      "    \"master_flat\": \"\",\n",
      "    \"reduced_data_path\": \"/pipeline/data/reduced/NOAO/20190912\",\n",
      "    \"trim_section\": \"\",\n",
      "    \"slit_trim_section\": \"\",\n",
      "    \"observer_name\": \"Simon Torres\",\n",
      "    \"overscan_region\": \"\",\n",
      "    \"master_bias\": \"\",\n",
      "    \"session_id\": 3\n",
      "}\n"
     ]
    }
   ],
   "source": [
    "url = urllib.parse.urljoin(SERVER, '/api/session/?id={}'.format(session_id))\n",
    "print('HTTP GET {}'.format(url))\n",
    "response = requests.get(url=url)\n",
    "if response.status_code == 200:\n",
    "    json_response = response.json()\n",
    "    print(json.dumps(json_response, indent=4))"
   ]
  },
  {
   "cell_type": "markdown",
   "metadata": {
    "ExecuteTime": {
     "end_time": "2019-09-13T15:46:21.852764Z",
     "start_time": "2019-09-13T15:46:21.848092Z"
    }
   },
   "source": [
    "# Reduction\n",
    "\n",
    "The API has to be really \"loose\" so in this notebook I'll just exemplify the steps.\n",
    "\n",
    "\n",
    "## Get Overscan and Trim Section/Region"
   ]
  },
  {
   "cell_type": "code",
   "execution_count": 52,
   "metadata": {
    "ExecuteTime": {
     "end_time": "2019-09-13T19:22:25.125224Z",
     "start_time": "2019-09-13T19:22:24.982513Z"
    }
   },
   "outputs": [
    {
     "name": "stdout",
     "output_type": "stream",
     "text": [
      "http://localhost:3000/api/session/settings/\n",
      "http://localhost:3000/api/session/settings/?file=0104_bias_spec1x1.fits&id=3\n",
      "{\n",
      "    \"overscan_region\": \"[6:49,1:1896]\",\n",
      "    \"trim_section\": \"[51:4110,2:1896]\",\n",
      "    \"session_id\": 3\n",
      "}\n"
     ]
    }
   ],
   "source": [
    "url = urllib.parse.urljoin(SERVER, '/api/session/settings/')\n",
    "\n",
    "print(url)\n",
    "response = requests.get(url=url, \n",
    "                        params={'id': session_id,\n",
    "                                'file':'0104_bias_spec1x1.fits'})\n",
    "\n",
    "print(response.url)\n",
    "json_response = response.json()\n",
    "print(json.dumps(json_response, indent=4))"
   ]
  },
  {
   "cell_type": "code",
   "execution_count": 53,
   "metadata": {
    "ExecuteTime": {
     "end_time": "2019-09-13T19:22:26.000428Z",
     "start_time": "2019-09-13T19:22:25.783223Z"
    }
   },
   "outputs": [
    {
     "name": "stdout",
     "output_type": "stream",
     "text": [
      "{\n",
      "    \"detail\": \"Successfully updated session 3 settings\"\n",
      "}\n"
     ]
    }
   ],
   "source": [
    "response = requests.post(url=url, json=json_response)\n",
    "\n",
    "json_response = response.json()\n",
    "\n",
    "print(json.dumps(json_response, indent=4))"
   ]
  },
  {
   "cell_type": "markdown",
   "metadata": {},
   "source": [
    "Checking the updated status of the session"
   ]
  },
  {
   "cell_type": "code",
   "execution_count": 54,
   "metadata": {
    "ExecuteTime": {
     "end_time": "2019-09-13T19:22:28.009771Z",
     "start_time": "2019-09-13T19:22:27.981717Z"
    }
   },
   "outputs": [
    {
     "name": "stdout",
     "output_type": "stream",
     "text": [
      "{\n",
      "    \"created\": \"2019-09-13T16:10:04.109526Z\",\n",
      "    \"raw_data_path\": \"/pipeline/data/raw/NOAO/20190912\",\n",
      "    \"master_flat\": \"\",\n",
      "    \"reduced_data_path\": \"/pipeline/data/reduced/NOAO/20190912\",\n",
      "    \"trim_section\": \"[51:4110,2:1896]\",\n",
      "    \"slit_trim_section\": \"\",\n",
      "    \"observer_name\": \"Simon Torres\",\n",
      "    \"overscan_region\": \"[6:49,1:1896]\",\n",
      "    \"master_bias\": \"\",\n",
      "    \"session_id\": 3\n",
      "}\n"
     ]
    }
   ],
   "source": [
    "url = urllib.parse.urljoin(SERVER, '/api/session/')\n",
    "\n",
    "response = requests.get(url=url, params={'id': session_id})\n",
    "\n",
    "if response.status_code == 200:\n",
    "    json_response = response.json()\n",
    "    print(json.dumps(json_response, indent=4))"
   ]
  },
  {
   "cell_type": "markdown",
   "metadata": {},
   "source": [
    "## Create Master Bias"
   ]
  },
  {
   "cell_type": "code",
   "execution_count": 58,
   "metadata": {
    "ExecuteTime": {
     "end_time": "2019-09-13T19:33:11.872750Z",
     "start_time": "2019-09-13T19:32:25.027409Z"
    }
   },
   "outputs": [
    {
     "name": "stdout",
     "output_type": "stream",
     "text": [
      "{\n",
      "    \"message\": \"Create Master Bias\",\n",
      "    \"master_bias\": \"/pipeline/data/reduced/NOAO/20190912/master_bias_3.fits\",\n",
      "    \"file_list\": [\n",
      "        \"0108_bias_spec1x1.fits\",\n",
      "        \"0106_bias_spec1x1.fits\",\n",
      "        \"0104_bias_spec1x1.fits\",\n",
      "        \"0102_bias_spec1x1.fits\",\n",
      "        \"0101_bias_spec1x1.fits\",\n",
      "        \"0107_bias_spec1x1.fits\",\n",
      "        \"0105_bias_spec1x1.fits\",\n",
      "        \"0103_bias_spec1x1.fits\",\n",
      "        \"0109_bias_spec1x1.fits\",\n",
      "        \"0100_bias_spec1x1.fits\"\n",
      "    ],\n",
      "    \"nfiles\": \"10\"\n",
      "}\n"
     ]
    }
   ],
   "source": [
    "url = urllib.parse.urljoin(SERVER, '/api/calibrations/bias/')\n",
    "\n",
    "response = requests.post(url=url, data={'session_id': session_id, \n",
    "                                        'auto_discover': 'true'})\n",
    "\n",
    "if response.status_code == 200:\n",
    "    json_response = response.json()\n",
    "    print(json.dumps(json_response, indent=4))\n",
    "else:\n",
    "    print(response.status_code)"
   ]
  },
  {
   "cell_type": "code",
   "execution_count": 59,
   "metadata": {
    "ExecuteTime": {
     "end_time": "2019-09-13T19:34:40.444885Z",
     "start_time": "2019-09-13T19:34:40.438827Z"
    }
   },
   "outputs": [
    {
     "name": "stdout",
     "output_type": "stream",
     "text": [
      "/pipeline/data/reduced/NOAO/20190912/master_bias_3.fits\n"
     ]
    }
   ],
   "source": [
    "master_bias_file = json_response['master_bias']\n",
    "print(master_bias_file)"
   ]
  },
  {
   "cell_type": "markdown",
   "metadata": {},
   "source": [
    "And for testing, doing a `GET` request to the same url it will retrieve the file name."
   ]
  },
  {
   "cell_type": "code",
   "execution_count": 61,
   "metadata": {
    "ExecuteTime": {
     "end_time": "2019-09-13T19:40:15.083264Z",
     "start_time": "2019-09-13T19:40:15.051367Z"
    }
   },
   "outputs": [
    {
     "name": "stdout",
     "output_type": "stream",
     "text": [
      "http://localhost:3000/api/calibrations/bias/?id=3\n",
      "{\n",
      "    \"master_bias\": \"/pipeline/data/reduced/NOAO/20190912/master_bias_3.fits\"\n",
      "}\n"
     ]
    }
   ],
   "source": [
    "response = requests.get(url=url, params={\"id\": session_id})\n",
    "\n",
    "print(response.url)\n",
    "\n",
    "if response.status_code == 200:\n",
    "    json_response = response.json()\n",
    "    print(json.dumps(json_response, indent=4))\n",
    "else:\n",
    "    print(response.status_code)"
   ]
  },
  {
   "cell_type": "markdown",
   "metadata": {},
   "source": [
    "## Create Master Flats"
   ]
  },
  {
   "cell_type": "code",
   "execution_count": 62,
   "metadata": {
    "ExecuteTime": {
     "end_time": "2019-09-13T19:58:56.984172Z",
     "start_time": "2019-09-13T19:58:56.977924Z"
    },
    "collapsed": true
   },
   "outputs": [],
   "source": [
    " url = urllib.parse.urljoin(SERVER, '/api/calibrations/flats/')\n",
    "    \n"
   ]
  },
  {
   "cell_type": "code",
   "execution_count": null,
   "metadata": {
    "collapsed": true
   },
   "outputs": [],
   "source": []
  }
 ],
 "metadata": {
  "kernelspec": {
   "display_name": "Python 3",
   "language": "python",
   "name": "python3"
  },
  "language_info": {
   "codemirror_mode": {
    "name": "ipython",
    "version": 3
   },
   "file_extension": ".py",
   "mimetype": "text/x-python",
   "name": "python",
   "nbconvert_exporter": "python",
   "pygments_lexer": "ipython3",
   "version": "3.5.4"
  },
  "toc": {
   "base_numbering": 1,
   "nav_menu": {},
   "number_sections": true,
   "sideBar": true,
   "skip_h1_title": false,
   "title_cell": "Table of Contents",
   "title_sidebar": "Contents",
   "toc_cell": false,
   "toc_position": {},
   "toc_section_display": true,
   "toc_window_display": true
  }
 },
 "nbformat": 4,
 "nbformat_minor": 2
}
