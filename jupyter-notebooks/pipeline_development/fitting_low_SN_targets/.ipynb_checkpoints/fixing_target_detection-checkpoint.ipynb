{
 "cells": [
  {
   "cell_type": "code",
   "execution_count": 2,
   "metadata": {
    "ExecuteTime": {
     "end_time": "2019-04-04T13:57:47.059855Z",
     "start_time": "2019-04-04T13:57:47.052836Z"
    }
   },
   "outputs": [
    {
     "name": "stdout",
     "output_type": "stream",
     "text": [
      "./data/cfzsto_0124_AT2019bqn-22-03-2019T01-31-41.fits_411_median_profile.pkl\n",
      "./data/cfzsto_0165_SN2019cca_400m2.fits_259_median_profile.pkl\n",
      "./data/cfzsto_0135_AT2019bst-22-03-2019T03-19-46.fits_419_median_profile.pkl\n",
      "./data/cfzsto_0165_SN2019cca_400m2.fits_422_median_profile.pkl\n",
      "./data/cfzsto_0140_UID9017_400m2.fits_419_median_profile.pkl\n",
      "./data/cfzsto_0135_AT2019bst-22-03-2019T03-19-46.fits_258_median_profile.pkl\n",
      "./data/cfzsto_0128_SN67378-22-03-2019T02-55-10.fits_414_median_profile.pkl\n",
      "./data/cfzsto_0140_UID9017_400m2.fits_562_median_profile.pkl\n",
      "./data/cfzsto_0124_AT2019bqn-22-03-2019T01-31-41.fits_257_median_profile.pkl\n",
      "./data/cfzsto_0184_EG274_400m2.fits_418_median_profile.pkl\n",
      "./data/cfzsto_0140_UID9017_400m2.fits_258_median_profile.pkl\n",
      "./data/cfzsto_0123_CVSO-191-22-03-2019T01-17-20.fits_414_median_profile.pkl\n"
     ]
    }
   ],
   "source": [
    "import glob\n",
    "import pickle\n",
    "\n",
    "def load_profile(file_name)\n",
    "\n",
    "file_list = glob.glob('./data/*.pkl')\n",
    "\n",
    "for _file in file_list:\n",
    "    print(_file)"
   ]
  },
  {
   "cell_type": "code",
   "execution_count": null,
   "metadata": {
    "collapsed": true
   },
   "outputs": [],
   "source": []
  }
 ],
 "metadata": {
  "kernelspec": {
   "display_name": "Python 3",
   "language": "python",
   "name": "python3"
  },
  "language_info": {
   "codemirror_mode": {
    "name": "ipython",
    "version": 3
   },
   "file_extension": ".py",
   "mimetype": "text/x-python",
   "name": "python",
   "nbconvert_exporter": "python",
   "pygments_lexer": "ipython3",
   "version": "3.5.4"
  }
 },
 "nbformat": 4,
 "nbformat_minor": 2
}
