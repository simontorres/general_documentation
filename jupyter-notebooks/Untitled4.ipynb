{
 "cells": [
  {
   "cell_type": "markdown",
   "metadata": {},
   "source": [
    "# Custom WCS System for Goodman Spectroscopic Pipeline"
   ]
  },
  {
   "cell_type": "code",
   "execution_count": null,
   "metadata": {},
   "outputs": [],
   "source": []
  },
  {
   "cell_type": "code",
   "execution_count": 30,
   "metadata": {
    "scrolled": false
   },
   "outputs": [
    {
     "name": "stdout",
     "output_type": "stream",
     "text": [
      "Chebyshev1D\n",
      "2 4237.08542489 4237.08542489 4237.08542489\n",
      "INFO: using the unit adu passed to the FITS reader instead of the unit adu in the FITS file. [astropy.nddata.ccddata]\n",
      "Model: Chebyshev1D\n",
      "Inputs: ('x',)\n",
      "Outputs: ('y',)\n",
      "Model set size: 1\n",
      "Degree: 2\n",
      "Parameters:\n",
      "          c0            c1               c2        \n",
      "    ------------- -------------- ------------------\n",
      "    4237.08542489 0.325202190503 -4.84559634299e-07\n"
     ]
    }
   ],
   "source": [
    "\"\"\"\n",
    "cfzsto_0084_CuHeAr_G1200M2_slit103.fits\n",
    "Model: Chebyshev1D\n",
    "Inputs: ('x',)\n",
    "Outputs: ('y',)\n",
    "Model set size: 1\n",
    "Degree: 2\n",
    "Parameters:\n",
    "          c0            c1               c2        \n",
    "    ------------- -------------- ------------------\n",
    "    4237.08542489 0.325202190503 -4.84559634299e-07\n",
    "\"\"\"\n",
    "\n",
    "from astropy.modeling import models, fitting, Model\n",
    "import astropy.units as u\n",
    "from ccdproc import CCDData\n",
    "\n",
    "_model = models.Chebyshev1D(degree=2, c0=4237.08542489, c1=0.325202190503, c2=-4.84559634299e-07)\n",
    "\n",
    "print(_model.__class__.name)\n",
    "\n",
    "print(_model.degree, _model.c0.value,_model.c0.value,_model.c0.value)\n",
    "\n",
    "keywords = {'GSP_FUNC':_model.__class__.name,\n",
    "            'GSP_ORDR': _model.degree,\n",
    "            'GSP_C000': _model.c0.value,\n",
    "            'GSP_C001': _model.c0.value,\n",
    "            'GSP_C002': _model.c0.value,\n",
    "            'GSP_NPIX': 4800}\n",
    "\n",
    "# print(_model.__getattr__('c0'))\n",
    "\n",
    "def wcs_gsp_to_fits(ccd, model):\n",
    "    assert isinstance(ccd, CCDData)\n",
    "    assert isinstance(model, Model)\n",
    "    \n",
    "    ccd.header.set('GSP_FUNC', value=model.__class__.name, comment=\"Mathematical model\")\n",
    "    ccd.header.set('GSP_ORDR', value=model.degree, comment=\"Mathematical model order\")\n",
    "    ccd.header.set('GSP_NPIX', value=ccd.size, comment=\"Mathematical model order\")\n",
    "    for i in range(model.degree + 1):\n",
    "        ccd.header.set('GSP_C{:03d}'.format(i),\n",
    "                       value=model.__getattr__('c{:d}'.format(i)).value,\n",
    "                       comment=\"Value of parameter c{:d}\".format(i))\n",
    "    return ccd\n",
    "\n",
    "def gsp_wcs_read(ccd):\n",
    "    assert isinstance(ccd, CCDData)\n",
    "    \n",
    "    if ccd.header['GSP_FUNC'] == 'Chebyshev1D':\n",
    "        model = models.Chebyshev1D(degree=ccd.header['GSP_ORDR'])\n",
    "        for i in range(ccd.header['GSP_ORDR'] + 1):\n",
    "            model.__getattr__('c{:d}'.format(i)).value = ccd.header['GSP_C{:03d}'.format(i)]\n",
    "        return model\n",
    "\n",
    "    \n",
    "    \n",
    "    \n",
    "ccd = CCDData.read('./data/cfzsto_0084_CuHeAr_G1200M2_slit103.fits', unit=u.adu)\n",
    "                       \n",
    "nccd = wcs_gsp_to_fits(ccd=ccd, model=_model)\n",
    "\n",
    "# for key in nccd.header.keys():\n",
    "#     print(\"{:8s}= {:s}\".format(key, str(nccd.header[key])))\n",
    "nmodel = gsp_wcs_read(ccd=nccd)\n",
    "print(nmodel)"
   ]
  },
  {
   "cell_type": "code",
   "execution_count": null,
   "metadata": {
    "collapsed": true
   },
   "outputs": [],
   "source": []
  }
 ],
 "metadata": {
  "kernelspec": {
   "display_name": "Python 3",
   "language": "python",
   "name": "python3"
  },
  "language_info": {
   "codemirror_mode": {
    "name": "ipython",
    "version": 3
   },
   "file_extension": ".py",
   "mimetype": "text/x-python",
   "name": "python",
   "nbconvert_exporter": "python",
   "pygments_lexer": "ipython3",
   "version": "3.6.3"
  }
 },
 "nbformat": 4,
 "nbformat_minor": 2
}
